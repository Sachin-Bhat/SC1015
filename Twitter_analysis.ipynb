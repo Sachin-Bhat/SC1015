{
 "cells": [
  {
   "cell_type": "markdown",
   "id": "d8d22713",
   "metadata": {},
   "source": [
    "# Twitter Sentiment Analysis"
   ]
  },
  {
   "cell_type": "markdown",
   "id": "c5eceda5",
   "metadata": {},
   "source": [
    "---\n",
    "\n",
    "## Problem Statement\n",
    "\n",
    "---\n",
    "\n",
    "Understanding the problem statement is of prime importance. This would help us get an intuition of what we might be dealing with. Let us see the problem statement -\n",
    "\n",
    "The aim of this problem is to detect hate speech in tweets. To simplify, we assume that a tweet contains hate speech if it has a racist or sexist sentiments in it. So, our task is to classify racist or sexist tweets from a mixture of tweets.\n",
    "\n",
    "Formally, given a training sample of tweets and labels, where label '1' denotes the tweet is racist/sexist i.e. a hate message and label '0' denotes the tweet is not racist/sexist i.e. not a hate message, your objective is to predict the labels on the test dataset.  \n",
    "\n",
    "The dataset can be found here:  \n",
    "https://www.kaggle.com/datasets/dv1453/twitter-sentiment-analysis-analytics-vidya?select=train_E6oV3lV.csv"
   ]
  },
  {
   "cell_type": "markdown",
   "id": "9405730a",
   "metadata": {},
   "source": [
    "### Essential Libraries\n",
    "\n",
    "Let us begin by importing the essential Python Libraries.\n",
    "\n",
    "> numpy : Library for Numeric Computations in Python  \n",
    "> pandas : Library for Data Acquisition and Preparation  \n",
    "> matplotlib : Low-level library for Data Visualization  \n",
    "> seaborn : Higher-level library for Data Visualization  \n",
    "> re : for applying regular expressions  \n",
    "> nltk : for Natural Language Processing  \n",
    "> string : for string manipulation  \n",
    "> warnings : for controlling warnings  "
   ]
  },
  {
   "cell_type": "code",
   "execution_count": 40,
   "id": "71208507",
   "metadata": {},
   "outputs": [],
   "source": [
    "import re\n",
    "\n",
    "import numpy as np\n",
    "\n",
    "import matplotlib.pyplot as plt\n",
    "\n",
    "import seaborn as sns\n",
    "\n",
    "import string as str\n",
    "\n",
    "import nltk\n",
    "\n",
    "import warnings as warn\n",
    "warn.filterwarnings(\"ignore\", category=DeprecationWarning)\n",
    "\n",
    "import pandas as pd \n",
    "pd.set_option(\"display.max_colwidth\", 200)\n",
    "\n",
    "%matplotlib inline"
   ]
  },
  {
   "cell_type": "markdown",
   "id": "378c6266",
   "metadata": {},
   "source": [
    "### Reading datasets\n",
    "\n",
    "---\n",
    "\n",
    "Let us read the train and test data sets using pandas."
   ]
  },
  {
   "cell_type": "code",
   "execution_count": 41,
   "id": "cb935811",
   "metadata": {},
   "outputs": [],
   "source": [
    "train  = pd.read_csv('train.csv')\n",
    "test = pd.read_csv('test.csv')"
   ]
  },
  {
   "cell_type": "markdown",
   "id": "9da0141a",
   "metadata": {},
   "source": [
    "---\n",
    "\n",
    "Check the vital statistics of the dataset using the `type` and `shape` attributes."
   ]
  },
  {
   "cell_type": "code",
   "execution_count": 42,
   "id": "c9a61254",
   "metadata": {},
   "outputs": [
    {
     "name": "stdout",
     "output_type": "stream",
     "text": [
      "Data type :  <class 'pandas.core.frame.DataFrame'>\n",
      "Data dims (train):  (31962, 3)\n",
      "Data dims (test):  (17197, 2)\n"
     ]
    }
   ],
   "source": [
    "print(\"Data type : \", type(train))\n",
    "print(\"Data dims (train): \", train.shape)\n",
    "print(\"Data dims (test): \", test.shape)"
   ]
  },
  {
   "cell_type": "markdown",
   "id": "8f2ac308",
   "metadata": {},
   "source": [
    "> Train set has 31,962 tweets and test set has 17,197 tweets with 3 and 2 columns respectively."
   ]
  },
  {
   "cell_type": "markdown",
   "id": "a796647e",
   "metadata": {},
   "source": [
    "Check the variables (and their types) in the dataset using the `dtypes` attribute."
   ]
  },
  {
   "cell_type": "code",
   "execution_count": 43,
   "id": "c52ee40a",
   "metadata": {},
   "outputs": [
    {
     "name": "stdout",
     "output_type": "stream",
     "text": [
      "Train:\n"
     ]
    },
    {
     "data": {
      "text/plain": [
       "id        int64\n",
       "label     int64\n",
       "tweet    object\n",
       "dtype: object"
      ]
     },
     "execution_count": 43,
     "metadata": {},
     "output_type": "execute_result"
    }
   ],
   "source": [
    "print(\"Train:\")\n",
    "train.dtypes"
   ]
  },
  {
   "cell_type": "code",
   "execution_count": 44,
   "id": "c04a1ad8",
   "metadata": {},
   "outputs": [
    {
     "name": "stdout",
     "output_type": "stream",
     "text": [
      "Test:\n"
     ]
    },
    {
     "data": {
      "text/plain": [
       "id        int64\n",
       "tweet    object\n",
       "dtype: object"
      ]
     },
     "execution_count": 44,
     "metadata": {},
     "output_type": "execute_result"
    }
   ],
   "source": [
    "print(\"Test:\")\n",
    "test.dtypes"
   ]
  },
  {
   "cell_type": "markdown",
   "id": "ea1bc064",
   "metadata": {},
   "source": [
    "## Data Preparation and Cleaning"
   ]
  },
  {
   "cell_type": "markdown",
   "id": "7b26de12",
   "metadata": {},
   "source": [
    "---\n",
    "\n",
    "### Data Inspection"
   ]
  },
  {
   "cell_type": "markdown",
   "id": "82838c4d",
   "metadata": {},
   "source": [
    "---\n",
    "\n",
    "We shall inspect expamples of non-hate messages."
   ]
  },
  {
   "cell_type": "code",
   "execution_count": 45,
   "id": "1f81386f",
   "metadata": {},
   "outputs": [
    {
     "data": {
      "text/html": [
       "<div>\n",
       "<style scoped>\n",
       "    .dataframe tbody tr th:only-of-type {\n",
       "        vertical-align: middle;\n",
       "    }\n",
       "\n",
       "    .dataframe tbody tr th {\n",
       "        vertical-align: top;\n",
       "    }\n",
       "\n",
       "    .dataframe thead th {\n",
       "        text-align: right;\n",
       "    }\n",
       "</style>\n",
       "<table border=\"1\" class=\"dataframe\">\n",
       "  <thead>\n",
       "    <tr style=\"text-align: right;\">\n",
       "      <th></th>\n",
       "      <th>id</th>\n",
       "      <th>label</th>\n",
       "      <th>tweet</th>\n",
       "    </tr>\n",
       "  </thead>\n",
       "  <tbody>\n",
       "    <tr>\n",
       "      <th>0</th>\n",
       "      <td>1</td>\n",
       "      <td>0</td>\n",
       "      <td>@user when a father is dysfunctional and is so selfish he drags his kids into his dysfunction.   #run</td>\n",
       "    </tr>\n",
       "    <tr>\n",
       "      <th>1</th>\n",
       "      <td>2</td>\n",
       "      <td>0</td>\n",
       "      <td>@user @user thanks for #lyft credit i can't use cause they don't offer wheelchair vans in pdx.    #disapointed #getthanked</td>\n",
       "    </tr>\n",
       "    <tr>\n",
       "      <th>2</th>\n",
       "      <td>3</td>\n",
       "      <td>0</td>\n",
       "      <td>bihday your majesty</td>\n",
       "    </tr>\n",
       "    <tr>\n",
       "      <th>3</th>\n",
       "      <td>4</td>\n",
       "      <td>0</td>\n",
       "      <td>#model   i love u take with u all the time in urð±!!! ððððð¦ð¦ð¦</td>\n",
       "    </tr>\n",
       "    <tr>\n",
       "      <th>4</th>\n",
       "      <td>5</td>\n",
       "      <td>0</td>\n",
       "      <td>factsguide: society now    #motivation</td>\n",
       "    </tr>\n",
       "    <tr>\n",
       "      <th>5</th>\n",
       "      <td>6</td>\n",
       "      <td>0</td>\n",
       "      <td>[2/2] huge fan fare and big talking before they leave. chaos and pay disputes when they get there. #allshowandnogo</td>\n",
       "    </tr>\n",
       "    <tr>\n",
       "      <th>6</th>\n",
       "      <td>7</td>\n",
       "      <td>0</td>\n",
       "      <td>@user camping tomorrow @user @user @user @user @user @user @user dannyâ¦</td>\n",
       "    </tr>\n",
       "    <tr>\n",
       "      <th>7</th>\n",
       "      <td>8</td>\n",
       "      <td>0</td>\n",
       "      <td>the next school year is the year for exams.ð¯ can't think about that ð­ #school #exams   #hate #imagine #actorslife #revolutionschool #girl</td>\n",
       "    </tr>\n",
       "    <tr>\n",
       "      <th>8</th>\n",
       "      <td>9</td>\n",
       "      <td>0</td>\n",
       "      <td>we won!!! love the land!!! #allin #cavs #champions #cleveland #clevelandcavaliers  â¦</td>\n",
       "    </tr>\n",
       "    <tr>\n",
       "      <th>9</th>\n",
       "      <td>10</td>\n",
       "      <td>0</td>\n",
       "      <td>@user @user welcome here !  i'm   it's so #gr8 !</td>\n",
       "    </tr>\n",
       "    <tr>\n",
       "      <th>10</th>\n",
       "      <td>11</td>\n",
       "      <td>0</td>\n",
       "      <td>â #ireland consumer price index (mom) climbed from previous 0.2% to 0.5% in may   #blog #silver #gold #forex</td>\n",
       "    </tr>\n",
       "    <tr>\n",
       "      <th>11</th>\n",
       "      <td>12</td>\n",
       "      <td>0</td>\n",
       "      <td>we are so selfish. #orlando #standwithorlando #pulseshooting #orlandoshooting #biggerproblems #selfish #heabreaking   #values #love #</td>\n",
       "    </tr>\n",
       "    <tr>\n",
       "      <th>12</th>\n",
       "      <td>13</td>\n",
       "      <td>0</td>\n",
       "      <td>i get to see my daddy today!!   #80days #gettingfed</td>\n",
       "    </tr>\n",
       "    <tr>\n",
       "      <th>15</th>\n",
       "      <td>16</td>\n",
       "      <td>0</td>\n",
       "      <td>ouch...junior is angryð#got7 #junior #yugyoem   #omg</td>\n",
       "    </tr>\n",
       "    <tr>\n",
       "      <th>16</th>\n",
       "      <td>17</td>\n",
       "      <td>0</td>\n",
       "      <td>i am thankful for having a paner. #thankful #positive</td>\n",
       "    </tr>\n",
       "  </tbody>\n",
       "</table>\n",
       "</div>"
      ],
      "text/plain": [
       "    id  label  \\\n",
       "0    1      0   \n",
       "1    2      0   \n",
       "2    3      0   \n",
       "3    4      0   \n",
       "4    5      0   \n",
       "5    6      0   \n",
       "6    7      0   \n",
       "7    8      0   \n",
       "8    9      0   \n",
       "9   10      0   \n",
       "10  11      0   \n",
       "11  12      0   \n",
       "12  13      0   \n",
       "15  16      0   \n",
       "16  17      0   \n",
       "\n",
       "                                                                                                                                              tweet  \n",
       "0                                             @user when a father is dysfunctional and is so selfish he drags his kids into his dysfunction.   #run  \n",
       "1                        @user @user thanks for #lyft credit i can't use cause they don't offer wheelchair vans in pdx.    #disapointed #getthanked  \n",
       "2                                                                                                                               bihday your majesty  \n",
       "3                                                            #model   i love u take with u all the time in urð±!!! ðððð\n",
       "ð¦ð¦ð¦    \n",
       "4                                                                                                            factsguide: society now    #motivation  \n",
       "5                              [2/2] huge fan fare and big talking before they leave. chaos and pay disputes when they get there. #allshowandnogo    \n",
       "6                                                                         @user camping tomorrow @user @user @user @user @user @user @user dannyâ¦  \n",
       "7   the next school year is the year for exams.ð¯ can't think about that ð­ #school #exams   #hate #imagine #actorslife #revolutionschool #girl  \n",
       "8                                                           we won!!! love the land!!! #allin #cavs #champions #cleveland #clevelandcavaliers  â¦   \n",
       "9                                                                                                 @user @user welcome here !  i'm   it's so #gr8 !   \n",
       "10                                   â #ireland consumer price index (mom) climbed from previous 0.2% to 0.5% in may   #blog #silver #gold #forex  \n",
       "11            we are so selfish. #orlando #standwithorlando #pulseshooting #orlandoshooting #biggerproblems #selfish #heabreaking   #values #love #  \n",
       "12                                                                                              i get to see my daddy today!!   #80days #gettingfed  \n",
       "15                                                                                         ouch...junior is angryð#got7 #junior #yugyoem   #omg   \n",
       "16                                                                                       i am thankful for having a paner. #thankful #positive       "
      ]
     },
     "execution_count": 45,
     "metadata": {},
     "output_type": "execute_result"
    }
   ],
   "source": [
    "train[train['label'] == 0].head(15)"
   ]
  },
  {
   "cell_type": "markdown",
   "id": "5fec45f7",
   "metadata": {},
   "source": [
    "---\n",
    "\n",
    "We shall inspect expamples of hate messages."
   ]
  },
  {
   "cell_type": "code",
   "execution_count": 46,
   "id": "97a180f4",
   "metadata": {},
   "outputs": [
    {
     "data": {
      "text/html": [
       "<div>\n",
       "<style scoped>\n",
       "    .dataframe tbody tr th:only-of-type {\n",
       "        vertical-align: middle;\n",
       "    }\n",
       "\n",
       "    .dataframe tbody tr th {\n",
       "        vertical-align: top;\n",
       "    }\n",
       "\n",
       "    .dataframe thead th {\n",
       "        text-align: right;\n",
       "    }\n",
       "</style>\n",
       "<table border=\"1\" class=\"dataframe\">\n",
       "  <thead>\n",
       "    <tr style=\"text-align: right;\">\n",
       "      <th></th>\n",
       "      <th>id</th>\n",
       "      <th>label</th>\n",
       "      <th>tweet</th>\n",
       "    </tr>\n",
       "  </thead>\n",
       "  <tbody>\n",
       "    <tr>\n",
       "      <th>13</th>\n",
       "      <td>14</td>\n",
       "      <td>1</td>\n",
       "      <td>@user #cnn calls #michigan middle school 'build the wall' chant '' #tcot</td>\n",
       "    </tr>\n",
       "    <tr>\n",
       "      <th>14</th>\n",
       "      <td>15</td>\n",
       "      <td>1</td>\n",
       "      <td>no comment!  in #australia   #opkillingbay #seashepherd #helpcovedolphins #thecove  #helpcovedolphins</td>\n",
       "    </tr>\n",
       "    <tr>\n",
       "      <th>17</th>\n",
       "      <td>18</td>\n",
       "      <td>1</td>\n",
       "      <td>retweet if you agree!</td>\n",
       "    </tr>\n",
       "    <tr>\n",
       "      <th>23</th>\n",
       "      <td>24</td>\n",
       "      <td>1</td>\n",
       "      <td>@user @user lumpy says i am a . prove it lumpy.</td>\n",
       "    </tr>\n",
       "    <tr>\n",
       "      <th>34</th>\n",
       "      <td>35</td>\n",
       "      <td>1</td>\n",
       "      <td>it's unbelievable that in the 21st century we'd need something like this. again. #neverump  #xenophobia</td>\n",
       "    </tr>\n",
       "    <tr>\n",
       "      <th>56</th>\n",
       "      <td>57</td>\n",
       "      <td>1</td>\n",
       "      <td>@user lets fight against  #love #peace</td>\n",
       "    </tr>\n",
       "    <tr>\n",
       "      <th>68</th>\n",
       "      <td>69</td>\n",
       "      <td>1</td>\n",
       "      <td>ð©the white establishment can't have blk folx running around loving themselves and promoting our greatness</td>\n",
       "    </tr>\n",
       "    <tr>\n",
       "      <th>77</th>\n",
       "      <td>78</td>\n",
       "      <td>1</td>\n",
       "      <td>@user hey, white people: you can call people 'white' by @user  #race  #identity #medâ¦</td>\n",
       "    </tr>\n",
       "    <tr>\n",
       "      <th>82</th>\n",
       "      <td>83</td>\n",
       "      <td>1</td>\n",
       "      <td>how the #altright uses  &amp;amp; insecurity to lure men into #whitesupremacy</td>\n",
       "    </tr>\n",
       "    <tr>\n",
       "      <th>111</th>\n",
       "      <td>112</td>\n",
       "      <td>1</td>\n",
       "      <td>@user i'm not interested in a #linguistics that doesn't address #race &amp;amp; . racism is about #power. #raciolinguistics bringsâ¦</td>\n",
       "    </tr>\n",
       "    <tr>\n",
       "      <th>114</th>\n",
       "      <td>115</td>\n",
       "      <td>1</td>\n",
       "      <td>@user why not @user mocked obama for being black.  @user @user @user @user #brexit</td>\n",
       "    </tr>\n",
       "    <tr>\n",
       "      <th>131</th>\n",
       "      <td>132</td>\n",
       "      <td>1</td>\n",
       "      <td>#people aren't protesting #trump because a #republican won-they do so because trump has fuhered  &amp;amp;â¦</td>\n",
       "    </tr>\n",
       "    <tr>\n",
       "      <th>151</th>\n",
       "      <td>152</td>\n",
       "      <td>1</td>\n",
       "      <td>yes it's  when you call #michelleobama a gorilla because racists have long thought of black people as no betâ¦</td>\n",
       "    </tr>\n",
       "    <tr>\n",
       "      <th>156</th>\n",
       "      <td>157</td>\n",
       "      <td>1</td>\n",
       "      <td>as the smaller hands show, barry probably lied about  being why his #knicks game sucked more than his #golfâ¦</td>\n",
       "    </tr>\n",
       "    <tr>\n",
       "      <th>167</th>\n",
       "      <td>168</td>\n",
       "      <td>1</td>\n",
       "      <td>@user @user you point one finger @user millions are pointed right back at you,  #jewishsupremacist</td>\n",
       "    </tr>\n",
       "  </tbody>\n",
       "</table>\n",
       "</div>"
      ],
      "text/plain": [
       "      id  label  \\\n",
       "13    14      1   \n",
       "14    15      1   \n",
       "17    18      1   \n",
       "23    24      1   \n",
       "34    35      1   \n",
       "56    57      1   \n",
       "68    69      1   \n",
       "77    78      1   \n",
       "82    83      1   \n",
       "111  112      1   \n",
       "114  115      1   \n",
       "131  132      1   \n",
       "151  152      1   \n",
       "156  157      1   \n",
       "167  168      1   \n",
       "\n",
       "                                                                                                                                 tweet  \n",
       "13                                                          @user #cnn calls #michigan middle school 'build the wall' chant '' #tcot    \n",
       "14                               no comment!  in #australia   #opkillingbay #seashepherd #helpcovedolphins #thecove  #helpcovedolphins  \n",
       "17                                                                                                              retweet if you agree!   \n",
       "23                                                                                     @user @user lumpy says i am a . prove it lumpy.  \n",
       "34                            it's unbelievable that in the 21st century we'd need something like this. again. #neverump  #xenophobia   \n",
       "56                                                                                             @user lets fight against  #love #peace   \n",
       "68                      ð©the white establishment can't have blk folx running around loving themselves and promoting our greatness    \n",
       "77                                             @user hey, white people: you can call people 'white' by @user  #race  #identity #medâ¦  \n",
       "82                                                       how the #altright uses  &amp; insecurity to lure men into #whitesupremacy      \n",
       "111  @user i'm not interested in a #linguistics that doesn't address #race &amp; . racism is about #power. #raciolinguistics bringsâ¦  \n",
       "114                                                 @user why not @user mocked obama for being black.  @user @user @user @user #brexit  \n",
       "131                         #people aren't protesting #trump because a #republican won-they do so because trump has fuhered  &amp;â¦   \n",
       "151                   yes it's  when you call #michelleobama a gorilla because racists have long thought of black people as no betâ¦   \n",
       "156                    as the smaller hands show, barry probably lied about  being why his #knicks game sucked more than his #golfâ¦   \n",
       "167                                 @user @user you point one finger @user millions are pointed right back at you,  #jewishsupremacist  "
      ]
     },
     "execution_count": 46,
     "metadata": {},
     "output_type": "execute_result"
    }
   ],
   "source": [
    "train[train['label'] == 1].head(15)"
   ]
  },
  {
   "cell_type": "markdown",
   "id": "25f1bf4a",
   "metadata": {},
   "source": [
    "Let us see the label-distribution in the training dataset."
   ]
  },
  {
   "cell_type": "code",
   "execution_count": 47,
   "id": "af60049c",
   "metadata": {},
   "outputs": [
    {
     "data": {
      "text/plain": [
       "0    29720\n",
       "1     2242\n",
       "Name: label, dtype: int64"
      ]
     },
     "execution_count": 47,
     "metadata": {},
     "output_type": "execute_result"
    }
   ],
   "source": [
    "train[\"label\"].value_counts()"
   ]
  },
  {
   "cell_type": "markdown",
   "id": "fff59fed",
   "metadata": {},
   "source": [
    "> An interesting distribution indeed! We have **29720 (92.985...%)** positive tweets while on the other hand we have **2242 (7.014...%)** hate tweets. So it is a highly imbalanced distribution."
   ]
  },
  {
   "cell_type": "markdown",
   "id": "37719219",
   "metadata": {},
   "source": [
    "### Changes in the distribution of length\n",
    "\n",
    "---\n",
    "\n",
    "We need to check if the distribution of the length of tweets of test data is similar to that of the train data. This is because we do not want our model to be a bad classifier due to not taking care of managing this conrol variable."
   ]
  },
  {
   "cell_type": "code",
   "execution_count": 48,
   "id": "d5b1a81e",
   "metadata": {},
   "outputs": [
    {
     "data": {
      "image/png": "[encoded data removed]",
      "text/plain": [
       "<Figure size 432x288 with 1 Axes>"
      ]
     },
     "metadata": {
      "needs_background": "light"
     },
     "output_type": "display_data"
    }
   ],
   "source": [
    "train_len = train['tweet'].str.len()\n",
    "test_len = test['tweet'].str.len()\n",
    "\n",
    "plt.hist(train_len, bins=25, label=\"train_data\")\n",
    "plt.hist(test_len, bins=25, label=\"test_data\")\n",
    "plt.legend()\n",
    "plt.show()"
   ]
  },
  {
   "cell_type": "markdown",
   "id": "5b015f99",
   "metadata": {},
   "source": [
    "> The overall shape of the two distributions are roughly similar. This means we have a well-distributed train-test split."
   ]
  },
  {
   "cell_type": "markdown",
   "id": "d45c5cda",
   "metadata": {},
   "source": [
    "### Data Cleaning"
   ]
  },
  {
   "cell_type": "code",
   "execution_count": 49,
   "id": "752ac5be",
   "metadata": {},
   "outputs": [
    {
     "data": {
      "text/html": [
       "<div>\n",
       "<style scoped>\n",
       "    .dataframe tbody tr th:only-of-type {\n",
       "        vertical-align: middle;\n",
       "    }\n",
       "\n",
       "    .dataframe tbody tr th {\n",
       "        vertical-align: top;\n",
       "    }\n",
       "\n",
       "    .dataframe thead th {\n",
       "        text-align: right;\n",
       "    }\n",
       "</style>\n",
       "<table border=\"1\" class=\"dataframe\">\n",
       "  <thead>\n",
       "    <tr style=\"text-align: right;\">\n",
       "      <th></th>\n",
       "      <th>id</th>\n",
       "      <th>label</th>\n",
       "      <th>tweet</th>\n",
       "    </tr>\n",
       "  </thead>\n",
       "  <tbody>\n",
       "    <tr>\n",
       "      <th>0</th>\n",
       "      <td>1</td>\n",
       "      <td>0</td>\n",
       "      <td>@user when a father is dysfunctional and is so selfish he drags his kids into his dysfunction.   #run</td>\n",
       "    </tr>\n",
       "    <tr>\n",
       "      <th>1</th>\n",
       "      <td>2</td>\n",
       "      <td>0</td>\n",
       "      <td>@user @user thanks for #lyft credit i can't use cause they don't offer wheelchair vans in pdx.    #disapointed #getthanked</td>\n",
       "    </tr>\n",
       "    <tr>\n",
       "      <th>2</th>\n",
       "      <td>3</td>\n",
       "      <td>0</td>\n",
       "      <td>bihday your majesty</td>\n",
       "    </tr>\n",
       "    <tr>\n",
       "      <th>3</th>\n",
       "      <td>4</td>\n",
       "      <td>0</td>\n",
       "      <td>#model   i love u take with u all the time in urð±!!! ððððð¦ð¦ð¦</td>\n",
       "    </tr>\n",
       "    <tr>\n",
       "      <th>4</th>\n",
       "      <td>5</td>\n",
       "      <td>0</td>\n",
       "      <td>factsguide: society now    #motivation</td>\n",
       "    </tr>\n",
       "    <tr>\n",
       "      <th>...</th>\n",
       "      <td>...</td>\n",
       "      <td>...</td>\n",
       "      <td>...</td>\n",
       "    </tr>\n",
       "    <tr>\n",
       "      <th>31957</th>\n",
       "      <td>31958</td>\n",
       "      <td>0</td>\n",
       "      <td>ate @user isz that youuu?ðððððððððâ¤ï¸</td>\n",
       "    </tr>\n",
       "    <tr>\n",
       "      <th>31958</th>\n",
       "      <td>31959</td>\n",
       "      <td>0</td>\n",
       "      <td>to see nina turner on the airwaves trying to wrap herself in the mantle of a genuine hero like shirley chisolm. #shame #imwithher</td>\n",
       "    </tr>\n",
       "    <tr>\n",
       "      <th>31959</th>\n",
       "      <td>31960</td>\n",
       "      <td>0</td>\n",
       "      <td>listening to sad songs on a monday morning otw to work is sad</td>\n",
       "    </tr>\n",
       "    <tr>\n",
       "      <th>31960</th>\n",
       "      <td>31961</td>\n",
       "      <td>1</td>\n",
       "      <td>@user #sikh #temple vandalised in in #calgary, #wso condemns  act</td>\n",
       "    </tr>\n",
       "    <tr>\n",
       "      <th>31961</th>\n",
       "      <td>31962</td>\n",
       "      <td>0</td>\n",
       "      <td>thank you @user for you follow</td>\n",
       "    </tr>\n",
       "  </tbody>\n",
       "</table>\n",
       "<p>31962 rows × 3 columns</p>\n",
       "</div>"
      ],
      "text/plain": [
       "          id  label  \\\n",
       "0          1      0   \n",
       "1          2      0   \n",
       "2          3      0   \n",
       "3          4      0   \n",
       "4          5      0   \n",
       "...      ...    ...   \n",
       "31957  31958      0   \n",
       "31958  31959      0   \n",
       "31959  31960      0   \n",
       "31960  31961      1   \n",
       "31961  31962      0   \n",
       "\n",
       "                                                                                                                                     tweet  \n",
       "0                                    @user when a father is dysfunctional and is so selfish he drags his kids into his dysfunction.   #run  \n",
       "1               @user @user thanks for #lyft credit i can't use cause they don't offer wheelchair vans in pdx.    #disapointed #getthanked  \n",
       "2                                                                                                                      bihday your majesty  \n",
       "3                                                   #model   i love u take with u all the time in urð±!!! ðððð\n",
       "ð¦ð¦ð¦    \n",
       "4                                                                                                   factsguide: society now    #motivation  \n",
       "...                                                                                                                                    ...  \n",
       "31957                                                                 ate @user isz that youuu?ðððððððððâ¤ï¸   \n",
       "31958    to see nina turner on the airwaves trying to wrap herself in the mantle of a genuine hero like shirley chisolm. #shame #imwithher  \n",
       "31959                                                                      listening to sad songs on a monday morning otw to work is sad    \n",
       "31960                                                                  @user #sikh #temple vandalised in in #calgary, #wso condemns  act    \n",
       "31961                                                                                                     thank you @user for you follow    \n",
       "\n",
       "[31962 rows x 3 columns]"
      ]
     },
     "execution_count": 49,
     "metadata": {},
     "output_type": "execute_result"
    }
   ],
   "source": [
    "data = pd.read_csv('train.csv')\n",
    "data_clean = data.copy()\n",
    "data_clean"
   ]
  },
  {
   "cell_type": "markdown",
   "id": "2816c7c3",
   "metadata": {},
   "source": [
    "Upon initial inspection it seems that the 'id' column is quite redundant, and hence will be dropped. In addition, the following operations will be performed to make the dataset more legible: \n",
    "1. Renaming 'tweet' to 'Cleaned Tweet'\n",
    "2. Reindexing of S/N to start from 1\n"
   ]
  },
  {
   "cell_type": "code",
   "execution_count": 50,
   "id": "2101f420",
   "metadata": {},
   "outputs": [
    {
     "data": {
      "text/html": [
       "<div>\n",
       "<style scoped>\n",
       "    .dataframe tbody tr th:only-of-type {\n",
       "        vertical-align: middle;\n",
       "    }\n",
       "\n",
       "    .dataframe tbody tr th {\n",
       "        vertical-align: top;\n",
       "    }\n",
       "\n",
       "    .dataframe thead th {\n",
       "        text-align: right;\n",
       "    }\n",
       "</style>\n",
       "<table border=\"1\" class=\"dataframe\">\n",
       "  <thead>\n",
       "    <tr style=\"text-align: right;\">\n",
       "      <th></th>\n",
       "      <th>label</th>\n",
       "      <th>Cleaned Tweet</th>\n",
       "    </tr>\n",
       "  </thead>\n",
       "  <tbody>\n",
       "    <tr>\n",
       "      <th>1</th>\n",
       "      <td>0</td>\n",
       "      <td>@user when a father is dysfunctional and is so selfish he drags his kids into his dysfunction.   #run</td>\n",
       "    </tr>\n",
       "    <tr>\n",
       "      <th>2</th>\n",
       "      <td>0</td>\n",
       "      <td>@user @user thanks for #lyft credit i can't use cause they don't offer wheelchair vans in pdx.    #disapointed #getthanked</td>\n",
       "    </tr>\n",
       "    <tr>\n",
       "      <th>3</th>\n",
       "      <td>0</td>\n",
       "      <td>bihday your majesty</td>\n",
       "    </tr>\n",
       "    <tr>\n",
       "      <th>4</th>\n",
       "      <td>0</td>\n",
       "      <td>#model   i love u take with u all the time in urð±!!! ððððð¦ð¦ð¦</td>\n",
       "    </tr>\n",
       "    <tr>\n",
       "      <th>5</th>\n",
       "      <td>0</td>\n",
       "      <td>factsguide: society now    #motivation</td>\n",
       "    </tr>\n",
       "    <tr>\n",
       "      <th>...</th>\n",
       "      <td>...</td>\n",
       "      <td>...</td>\n",
       "    </tr>\n",
       "    <tr>\n",
       "      <th>31958</th>\n",
       "      <td>0</td>\n",
       "      <td>ate @user isz that youuu?ðððððððððâ¤ï¸</td>\n",
       "    </tr>\n",
       "    <tr>\n",
       "      <th>31959</th>\n",
       "      <td>0</td>\n",
       "      <td>to see nina turner on the airwaves trying to wrap herself in the mantle of a genuine hero like shirley chisolm. #shame #imwithher</td>\n",
       "    </tr>\n",
       "    <tr>\n",
       "      <th>31960</th>\n",
       "      <td>0</td>\n",
       "      <td>listening to sad songs on a monday morning otw to work is sad</td>\n",
       "    </tr>\n",
       "    <tr>\n",
       "      <th>31961</th>\n",
       "      <td>1</td>\n",
       "      <td>@user #sikh #temple vandalised in in #calgary, #wso condemns  act</td>\n",
       "    </tr>\n",
       "    <tr>\n",
       "      <th>31962</th>\n",
       "      <td>0</td>\n",
       "      <td>thank you @user for you follow</td>\n",
       "    </tr>\n",
       "  </tbody>\n",
       "</table>\n",
       "<p>31962 rows × 2 columns</p>\n",
       "</div>"
      ],
      "text/plain": [
       "       label  \\\n",
       "1          0   \n",
       "2          0   \n",
       "3          0   \n",
       "4          0   \n",
       "5          0   \n",
       "...      ...   \n",
       "31958      0   \n",
       "31959      0   \n",
       "31960      0   \n",
       "31961      1   \n",
       "31962      0   \n",
       "\n",
       "                                                                                                                             Cleaned Tweet  \n",
       "1                                    @user when a father is dysfunctional and is so selfish he drags his kids into his dysfunction.   #run  \n",
       "2               @user @user thanks for #lyft credit i can't use cause they don't offer wheelchair vans in pdx.    #disapointed #getthanked  \n",
       "3                                                                                                                      bihday your majesty  \n",
       "4                                                   #model   i love u take with u all the time in urð±!!! ðððð\n",
       "ð¦ð¦ð¦    \n",
       "5                                                                                                   factsguide: society now    #motivation  \n",
       "...                                                                                                                                    ...  \n",
       "31958                                                                 ate @user isz that youuu?ðððððððððâ¤ï¸   \n",
       "31959    to see nina turner on the airwaves trying to wrap herself in the mantle of a genuine hero like shirley chisolm. #shame #imwithher  \n",
       "31960                                                                      listening to sad songs on a monday morning otw to work is sad    \n",
       "31961                                                                  @user #sikh #temple vandalised in in #calgary, #wso condemns  act    \n",
       "31962                                                                                                     thank you @user for you follow    \n",
       "\n",
       "[31962 rows x 2 columns]"
      ]
     },
     "execution_count": 50,
     "metadata": {},
     "output_type": "execute_result"
    }
   ],
   "source": [
    "data_clean.drop(data_clean.columns[0], axis=1, inplace=True) \n",
    "data_clean = data_clean.rename(columns = {'tweet':'Cleaned Tweet'})\n",
    "data_clean.index = np.arange(1, len(data_clean) + 1)\n",
    "data_clean"
   ]
  },
  {
   "cell_type": "markdown",
   "id": "48f3ccc4",
   "metadata": {},
   "source": [
    "There seem to be a lot of unconventional characters in our data. To tackle this, we can run a simple for loop and remove non-ascii values from our dataset using the `encode()` and `decode()` functions in Python."
   ]
  },
  {
   "cell_type": "code",
   "execution_count": 51,
   "id": "6f5c1ff6",
   "metadata": {},
   "outputs": [
    {
     "data": {
      "text/html": [
       "<div>\n",
       "<style scoped>\n",
       "    .dataframe tbody tr th:only-of-type {\n",
       "        vertical-align: middle;\n",
       "    }\n",
       "\n",
       "    .dataframe tbody tr th {\n",
       "        vertical-align: top;\n",
       "    }\n",
       "\n",
       "    .dataframe thead th {\n",
       "        text-align: right;\n",
       "    }\n",
       "</style>\n",
       "<table border=\"1\" class=\"dataframe\">\n",
       "  <thead>\n",
       "    <tr style=\"text-align: right;\">\n",
       "      <th></th>\n",
       "      <th>label</th>\n",
       "      <th>Cleaned Tweet</th>\n",
       "    </tr>\n",
       "  </thead>\n",
       "  <tbody>\n",
       "    <tr>\n",
       "      <th>1</th>\n",
       "      <td>0</td>\n",
       "      <td>@user when a father is dysfunctional and is so selfish he drags his kids into his dysfunction.   #run</td>\n",
       "    </tr>\n",
       "    <tr>\n",
       "      <th>2</th>\n",
       "      <td>0</td>\n",
       "      <td>@user @user thanks for #lyft credit i can't use cause they don't offer wheelchair vans in pdx.    #disapointed #getthanked</td>\n",
       "    </tr>\n",
       "    <tr>\n",
       "      <th>3</th>\n",
       "      <td>0</td>\n",
       "      <td>bihday your majesty</td>\n",
       "    </tr>\n",
       "    <tr>\n",
       "      <th>4</th>\n",
       "      <td>0</td>\n",
       "      <td>#model   i love u take with u all the time in ur!!!</td>\n",
       "    </tr>\n",
       "    <tr>\n",
       "      <th>5</th>\n",
       "      <td>0</td>\n",
       "      <td>factsguide: society now    #motivation</td>\n",
       "    </tr>\n",
       "    <tr>\n",
       "      <th>...</th>\n",
       "      <td>...</td>\n",
       "      <td>...</td>\n",
       "    </tr>\n",
       "    <tr>\n",
       "      <th>31958</th>\n",
       "      <td>0</td>\n",
       "      <td>ate @user isz that youuu?</td>\n",
       "    </tr>\n",
       "    <tr>\n",
       "      <th>31959</th>\n",
       "      <td>0</td>\n",
       "      <td>to see nina turner on the airwaves trying to wrap herself in the mantle of a genuine hero like shirley chisolm. #shame #imwithher</td>\n",
       "    </tr>\n",
       "    <tr>\n",
       "      <th>31960</th>\n",
       "      <td>0</td>\n",
       "      <td>listening to sad songs on a monday morning otw to work is sad</td>\n",
       "    </tr>\n",
       "    <tr>\n",
       "      <th>31961</th>\n",
       "      <td>1</td>\n",
       "      <td>@user #sikh #temple vandalised in in #calgary, #wso condemns  act</td>\n",
       "    </tr>\n",
       "    <tr>\n",
       "      <th>31962</th>\n",
       "      <td>0</td>\n",
       "      <td>thank you @user for you follow</td>\n",
       "    </tr>\n",
       "  </tbody>\n",
       "</table>\n",
       "<p>31962 rows × 2 columns</p>\n",
       "</div>"
      ],
      "text/plain": [
       "       label  \\\n",
       "1          0   \n",
       "2          0   \n",
       "3          0   \n",
       "4          0   \n",
       "5          0   \n",
       "...      ...   \n",
       "31958      0   \n",
       "31959      0   \n",
       "31960      0   \n",
       "31961      1   \n",
       "31962      0   \n",
       "\n",
       "                                                                                                                             Cleaned Tweet  \n",
       "1                                    @user when a father is dysfunctional and is so selfish he drags his kids into his dysfunction.   #run  \n",
       "2               @user @user thanks for #lyft credit i can't use cause they don't offer wheelchair vans in pdx.    #disapointed #getthanked  \n",
       "3                                                                                                                      bihday your majesty  \n",
       "4                                                                                   #model   i love u take with u all the time in ur!!!     \n",
       "5                                                                                                   factsguide: society now    #motivation  \n",
       "...                                                                                                                                    ...  \n",
       "31958                                                                                                           ate @user isz that youuu?   \n",
       "31959    to see nina turner on the airwaves trying to wrap herself in the mantle of a genuine hero like shirley chisolm. #shame #imwithher  \n",
       "31960                                                                      listening to sad songs on a monday morning otw to work is sad    \n",
       "31961                                                                  @user #sikh #temple vandalised in in #calgary, #wso condemns  act    \n",
       "31962                                                                                                     thank you @user for you follow    \n",
       "\n",
       "[31962 rows x 2 columns]"
      ]
     },
     "execution_count": 51,
     "metadata": {},
     "output_type": "execute_result"
    }
   ],
   "source": [
    "new_values = []\n",
    "\n",
    "for string in data_clean['Cleaned Tweet']:\n",
    "    encoded_string = string.encode(\"ascii\", \"ignore\")\n",
    "    decode_string = encoded_string.decode()\n",
    "    new_values.append(decode_string)\n",
    "    \n",
    "    \n",
    "data_clean['Cleaned Tweet'] = new_values\n",
    "\n",
    "data_clean"
   ]
  },
  {
   "cell_type": "markdown",
   "id": "6dbdde10",
   "metadata": {},
   "source": [
    "There still seem to be a lot of anomalous strings in our data, &gt and &amp for instance. We will have to clean these individually. In addition, @user will be removed as it is not pertinent to our analysis. The reformatting of ';' to ',' will also be performed. "
   ]
  },
  {
   "cell_type": "code",
   "execution_count": 52,
   "id": "a2a39cd4",
   "metadata": {
    "scrolled": true
   },
   "outputs": [
    {
     "data": {
      "text/html": [
       "<div>\n",
       "<style scoped>\n",
       "    .dataframe tbody tr th:only-of-type {\n",
       "        vertical-align: middle;\n",
       "    }\n",
       "\n",
       "    .dataframe tbody tr th {\n",
       "        vertical-align: top;\n",
       "    }\n",
       "\n",
       "    .dataframe thead th {\n",
       "        text-align: right;\n",
       "    }\n",
       "</style>\n",
       "<table border=\"1\" class=\"dataframe\">\n",
       "  <thead>\n",
       "    <tr style=\"text-align: right;\">\n",
       "      <th></th>\n",
       "      <th>label</th>\n",
       "      <th>Cleaned Tweet</th>\n",
       "    </tr>\n",
       "  </thead>\n",
       "  <tbody>\n",
       "    <tr>\n",
       "      <th>1</th>\n",
       "      <td>0</td>\n",
       "      <td>when a father is dysfunctional and is so selfish he drags his kids into his dysfunction.   #run</td>\n",
       "    </tr>\n",
       "    <tr>\n",
       "      <th>2</th>\n",
       "      <td>0</td>\n",
       "      <td>thanks for #lyft credit i can't use cause they don't offer wheelchair vans in pdx.    #disapointed #getthanked</td>\n",
       "    </tr>\n",
       "    <tr>\n",
       "      <th>3</th>\n",
       "      <td>0</td>\n",
       "      <td>bihday your majesty</td>\n",
       "    </tr>\n",
       "    <tr>\n",
       "      <th>4</th>\n",
       "      <td>0</td>\n",
       "      <td>#model   i love u take with u all the time in ur!!!</td>\n",
       "    </tr>\n",
       "    <tr>\n",
       "      <th>5</th>\n",
       "      <td>0</td>\n",
       "      <td>factsguide: society now    #motivation</td>\n",
       "    </tr>\n",
       "    <tr>\n",
       "      <th>...</th>\n",
       "      <td>...</td>\n",
       "      <td>...</td>\n",
       "    </tr>\n",
       "    <tr>\n",
       "      <th>31958</th>\n",
       "      <td>0</td>\n",
       "      <td>ate  isz that youuu?</td>\n",
       "    </tr>\n",
       "    <tr>\n",
       "      <th>31959</th>\n",
       "      <td>0</td>\n",
       "      <td>to see nina turner on the airwaves trying to wrap herself in the mantle of a genuine hero like shirley chisolm. #shame #imwithher</td>\n",
       "    </tr>\n",
       "    <tr>\n",
       "      <th>31960</th>\n",
       "      <td>0</td>\n",
       "      <td>listening to sad songs on a monday morning otw to work is sad</td>\n",
       "    </tr>\n",
       "    <tr>\n",
       "      <th>31961</th>\n",
       "      <td>1</td>\n",
       "      <td>#sikh #temple vandalised in in #calgary, #wso condemns  act</td>\n",
       "    </tr>\n",
       "    <tr>\n",
       "      <th>31962</th>\n",
       "      <td>0</td>\n",
       "      <td>thank you  for you follow</td>\n",
       "    </tr>\n",
       "  </tbody>\n",
       "</table>\n",
       "<p>31962 rows × 2 columns</p>\n",
       "</div>"
      ],
      "text/plain": [
       "       label  \\\n",
       "1          0   \n",
       "2          0   \n",
       "3          0   \n",
       "4          0   \n",
       "5          0   \n",
       "...      ...   \n",
       "31958      0   \n",
       "31959      0   \n",
       "31960      0   \n",
       "31961      1   \n",
       "31962      0   \n",
       "\n",
       "                                                                                                                             Cleaned Tweet  \n",
       "1                                          when a father is dysfunctional and is so selfish he drags his kids into his dysfunction.   #run  \n",
       "2                           thanks for #lyft credit i can't use cause they don't offer wheelchair vans in pdx.    #disapointed #getthanked  \n",
       "3                                                                                                                      bihday your majesty  \n",
       "4                                                                                   #model   i love u take with u all the time in ur!!!     \n",
       "5                                                                                                   factsguide: society now    #motivation  \n",
       "...                                                                                                                                    ...  \n",
       "31958                                                                                                                ate  isz that youuu?   \n",
       "31959    to see nina turner on the airwaves trying to wrap herself in the mantle of a genuine hero like shirley chisolm. #shame #imwithher  \n",
       "31960                                                                      listening to sad songs on a monday morning otw to work is sad    \n",
       "31961                                                                        #sikh #temple vandalised in in #calgary, #wso condemns  act    \n",
       "31962                                                                                                          thank you  for you follow    \n",
       "\n",
       "[31962 rows x 2 columns]"
      ]
     },
     "execution_count": 52,
     "metadata": {},
     "output_type": "execute_result"
    }
   ],
   "source": [
    "data_clean['Cleaned Tweet'] = data_clean['Cleaned Tweet'].str.replace('&gt;3','')\n",
    "data_clean['Cleaned Tweet'] = data_clean['Cleaned Tweet'].str.replace('&amp','')\n",
    "data_clean['Cleaned Tweet'] = data_clean['Cleaned Tweet'].str.replace('--&gt;','')\n",
    "data_clean['Cleaned Tweet'] = data_clean['Cleaned Tweet'].str.replace('@user','')\n",
    "data_clean['Cleaned Tweet'] = data_clean['Cleaned Tweet'].str.replace(';',',')\n",
    "data_clean"
   ]
  },
  {
   "cell_type": "markdown",
   "id": "8fda28dc",
   "metadata": {},
   "source": [
    "### Text Normalisation\n",
    "\n",
    "---\n",
    "\n",
    "Here we will use `PorterStemmer()` function from the nltk module to normalise tweets. But before that we will have to tokenise the tweets. \n",
    "\n",
    "Tokens are individual terms or words, and tokenisation is the process of splitting a string of text into individual tokens."
   ]
  },
  {
   "cell_type": "code",
   "execution_count": 53,
   "id": "f111dc90",
   "metadata": {},
   "outputs": [],
   "source": [
    "tweet_tokens = data_clean['Cleaned Tweet'].apply(lambda x: x.split()) # tokenising tweets"
   ]
  },
  {
   "cell_type": "code",
   "execution_count": 54,
   "id": "0ac1acf1",
   "metadata": {},
   "outputs": [
    {
     "data": {
      "text/plain": [
       "1                  [when, a, father, is, dysfunctional, and, is, so, selfish, he, drags, his, kids, into, his, dysfunction., #run]\n",
       "2    [thanks, for, #lyft, credit, i, can't, use, cause, they, don't, offer, wheelchair, vans, in, pdx., #disapointed, #getthanked]\n",
       "3                                                                                                          [bihday, your, majesty]\n",
       "4                                                                   [#model, i, love, u, take, with, u, all, the, time, in, ur!!!]\n",
       "5                                                                                         [factsguide:, society, now, #motivation]\n",
       "Name: Cleaned Tweet, dtype: object"
      ]
     },
     "execution_count": 54,
     "metadata": {},
     "output_type": "execute_result"
    }
   ],
   "source": [
    "tweet_tokens.head()"
   ]
  },
  {
   "cell_type": "markdown",
   "id": "edc1a177",
   "metadata": {},
   "source": [
    "> We shall normalise tokens and join them back together."
   ]
  },
  {
   "cell_type": "code",
   "execution_count": 55,
   "id": "434132a0",
   "metadata": {},
   "outputs": [],
   "source": [
    "from nltk.stem.porter import *\n",
    "\n",
    "pStemmer = PorterStemmer()\n",
    "\n",
    "tweet_tokens = tweet_tokens.apply(lambda x: [pStemmer.stem(i) for i in x]) # stemming"
   ]
  },
  {
   "cell_type": "code",
   "execution_count": 56,
   "id": "451e1444",
   "metadata": {},
   "outputs": [
    {
     "name": "stdout",
     "output_type": "stream",
     "text": [
      "defaultdict(<class 'set'>, {'when': {'when'}})\n",
      "defaultdict(<class 'set'>, {'when': {'when'}, 'hi': {'hi'}})\n",
      "defaultdict(<class 'set'>, {'when': {'when'}, 'hi': {'hi'}, 'kid': {'kid'}})\n",
      "defaultdict(<class 'set'>, {'when': {'when'}, 'hi': {'hi'}, 'kid': {'kid'}, 'selfish': {'selfish'}})\n",
      "defaultdict(<class 'set'>, {'when': {'when'}, 'hi': {'hi'}, 'kid': {'kid'}, 'selfish': {'selfish'}, 'into': {'into'}})\n",
      "defaultdict(<class 'set'>, {'when': {'when'}, 'hi': {'hi'}, 'kid': {'kid'}, 'selfish': {'selfish'}, 'into': {'into'}, 'he': {'he'}})\n",
      "defaultdict(<class 'set'>, {'when': {'when'}, 'hi': {'hi'}, 'kid': {'kid'}, 'selfish': {'selfish'}, 'into': {'into'}, 'he': {'he'}, 'is': {'is'}})\n",
      "defaultdict(<class 'set'>, {'when': {'when'}, 'hi': {'hi'}, 'kid': {'kid'}, 'selfish': {'selfish'}, 'into': {'into'}, 'he': {'he'}, 'is': {'is'}, 'drag': {'drag'}})\n",
      "defaultdict(<class 'set'>, {'when': {'when'}, 'hi': {'hi'}, 'kid': {'kid'}, 'selfish': {'selfish'}, 'into': {'into'}, 'he': {'he'}, 'is': {'is'}, 'drag': {'drag'}, 'a': {'a'}})\n",
      "defaultdict(<class 'set'>, {'when': {'when'}, 'hi': {'hi'}, 'kid': {'kid'}, 'selfish': {'selfish'}, 'into': {'into'}, 'he': {'he'}, 'is': {'is'}, 'drag': {'drag'}, 'a': {'a'}, '#run': {'#run'}})\n",
      "defaultdict(<class 'set'>, {'when': {'when'}, 'hi': {'hi'}, 'kid': {'kid'}, 'selfish': {'selfish'}, 'into': {'into'}, 'he': {'he'}, 'is': {'is'}, 'drag': {'drag'}, 'a': {'a'}, '#run': {'#run'}, 'and': {'and'}})\n",
      "defaultdict(<class 'set'>, {'when': {'when'}, 'hi': {'hi'}, 'kid': {'kid'}, 'selfish': {'selfish'}, 'into': {'into'}, 'he': {'he'}, 'is': {'is'}, 'drag': {'drag'}, 'a': {'a'}, '#run': {'#run'}, 'and': {'and'}, 'father': {'father'}})\n",
      "defaultdict(<class 'set'>, {'when': {'when'}, 'hi': {'hi'}, 'kid': {'kid'}, 'selfish': {'selfish'}, 'into': {'into'}, 'he': {'he'}, 'is': {'is'}, 'drag': {'drag'}, 'a': {'a'}, '#run': {'#run'}, 'and': {'and'}, 'father': {'father'}, 'dysfunction.': {'dysfunction.'}})\n",
      "defaultdict(<class 'set'>, {'when': {'when'}, 'hi': {'hi'}, 'kid': {'kid'}, 'selfish': {'selfish'}, 'into': {'into'}, 'he': {'he'}, 'is': {'is'}, 'drag': {'drag'}, 'a': {'a'}, '#run': {'#run'}, 'and': {'and'}, 'father': {'father'}, 'dysfunction.': {'dysfunction.'}, 'so': {'so'}})\n",
      "defaultdict(<class 'set'>, {'when': {'when'}, 'hi': {'hi'}, 'kid': {'kid'}, 'selfish': {'selfish'}, 'into': {'into'}, 'he': {'he'}, 'is': {'is'}, 'drag': {'drag'}, 'a': {'a'}, '#run': {'#run'}, 'and': {'and'}, 'father': {'father'}, 'dysfunction.': {'dysfunction.'}, 'so': {'so'}, 'dysfunct': {'dysfunct'}})\n"
     ]
    }
   ],
   "source": [
    "#needs update\n",
    "from collections import defaultdict\n",
    "\n",
    "tokenList = set(tweet_tokens[1]) #just tweet tokens throws TypeError\n",
    "\n",
    "dictionary = defaultdict(set)\n",
    "\n",
    "for i in tokenList:\n",
    "    dictionary[pStemmer.stem(i)].add(i)\n",
    "    print(dictionary)"
   ]
  },
  {
   "cell_type": "markdown",
   "id": "d9fa9524",
   "metadata": {},
   "source": [
    "## Story Visualisation and Generation"
   ]
  },
  {
   "cell_type": "markdown",
   "id": "126fd25c",
   "metadata": {},
   "source": [
    "---\n",
    "\n",
    "**1. Visualising frequently-used words in tweets: `WordCloud`**\n",
    "\n",
    "One may wonder, \"How well are the sentiments distributed across the train dataset?\" For this, we can understand frequently-used words by plotting wordclouds.\n",
    "\n",
    "A wordcloud is a form of visualisation wherein the size of the word depicts the frequency of usage.\n",
    "\n",
    "Let us visualise all the words our data using the wordcloud plot."
   ]
  },
  {
   "cell_type": "code",
   "execution_count": 57,
   "id": "26b5e710",
   "metadata": {},
   "outputs": [
    {
     "ename": "ModuleNotFoundError",
     "evalue": "No module named 'wordcloud'",
     "output_type": "error",
     "traceback": [
      "\u001b[1;31m---------------------------------------------------------------------------\u001b[0m",
      "\u001b[1;31mModuleNotFoundError\u001b[0m                       Traceback (most recent call last)",
      "\u001b[1;32m<ipython-input-57-2deaa3b7cab2>\u001b[0m in \u001b[0;36m<module>\u001b[1;34m\u001b[0m\n\u001b[0;32m      1\u001b[0m \u001b[0mwords\u001b[0m \u001b[1;33m=\u001b[0m \u001b[1;34m' '\u001b[0m\u001b[1;33m.\u001b[0m\u001b[0mjoin\u001b[0m\u001b[1;33m(\u001b[0m\u001b[1;33m[\u001b[0m\u001b[0mtoken\u001b[0m \u001b[1;32mfor\u001b[0m \u001b[0mtoken\u001b[0m \u001b[1;32min\u001b[0m \u001b[0mdata_clean\u001b[0m\u001b[1;33m[\u001b[0m\u001b[1;34m'Cleaned Tweet'\u001b[0m\u001b[1;33m]\u001b[0m\u001b[1;33m]\u001b[0m\u001b[1;33m)\u001b[0m\u001b[1;33m\u001b[0m\u001b[1;33m\u001b[0m\u001b[0m\n\u001b[0;32m      2\u001b[0m \u001b[1;33m\u001b[0m\u001b[0m\n\u001b[1;32m----> 3\u001b[1;33m \u001b[1;32mfrom\u001b[0m \u001b[0mwordcloud\u001b[0m \u001b[1;32mimport\u001b[0m \u001b[0mWordCloud\u001b[0m\u001b[1;33m\u001b[0m\u001b[1;33m\u001b[0m\u001b[0m\n\u001b[0m\u001b[0;32m      4\u001b[0m \u001b[0mwordcloud\u001b[0m \u001b[1;33m=\u001b[0m \u001b[0mWordCloud\u001b[0m\u001b[1;33m(\u001b[0m\u001b[0mwidth\u001b[0m\u001b[1;33m=\u001b[0m \u001b[1;36m980\u001b[0m\u001b[1;33m,\u001b[0m \u001b[0mheight\u001b[0m\u001b[1;33m=\u001b[0m \u001b[1;36m650\u001b[0m\u001b[1;33m,\u001b[0m \u001b[0mrandom_state\u001b[0m\u001b[1;33m=\u001b[0m\u001b[1;36m21\u001b[0m\u001b[1;33m,\u001b[0m \u001b[0mmax_font_size\u001b[0m\u001b[1;33m=\u001b[0m\u001b[1;36m120\u001b[0m\u001b[1;33m)\u001b[0m\u001b[1;33m.\u001b[0m\u001b[0mgenerate\u001b[0m\u001b[1;33m(\u001b[0m\u001b[0mwords\u001b[0m\u001b[1;33m)\u001b[0m\u001b[1;33m\u001b[0m\u001b[1;33m\u001b[0m\u001b[0m\n\u001b[0;32m      5\u001b[0m \u001b[1;33m\u001b[0m\u001b[0m\n",
      "\u001b[1;31mModuleNotFoundError\u001b[0m: No module named 'wordcloud'"
     ]
    }
   ],
   "source": [
    "words = ' '.join([token for token in data_clean['Cleaned Tweet']])\n",
    "\n",
    "from wordcloud import WordCloud\n",
    "wordcloud = WordCloud(width= 980, height= 650, random_state=21, max_font_size=120).generate(words)\n",
    "\n",
    "plt.figure(figsize=(15, 10))\n",
    "plt.imshow(wordcloud, interpolation=\"bilinear\")\n",
    "plt.axis('off')\n",
    "plt.show()"
   ]
  },
  {
   "cell_type": "markdown",
   "id": "db14a726",
   "metadata": {},
   "source": [
    "We can see most of the words are positive or neutral. Words like **love, happy, friend, life, day** etc are most frequently used. \n",
    "\n",
    "However, this does not give us any real idea about the words associated with tweets of racist/sexist sentiment. So, for solving this we could plot separate wordclouds for both the classes (racist/sexist or positive) in our train data."
   ]
  },
  {
   "cell_type": "markdown",
   "id": "febadda2",
   "metadata": {},
   "source": [
    "**2. Words in positive tweets**"
   ]
  },
  {
   "cell_type": "code",
   "execution_count": null,
   "id": "b53ec7b2",
   "metadata": {},
   "outputs": [
    {
     "ename": "NameError",
     "evalue": "name 'WordCloud' is not defined",
     "output_type": "error",
     "traceback": [
      "\u001b[1;31m---------------------------------------------------------------------------\u001b[0m",
      "\u001b[1;31mNameError\u001b[0m                                 Traceback (most recent call last)",
      "\u001b[1;32m<ipython-input-22-42cae6f5414b>\u001b[0m in \u001b[0;36m<module>\u001b[1;34m\u001b[0m\n\u001b[0;32m      1\u001b[0m \u001b[0mpositive_words\u001b[0m \u001b[1;33m=\u001b[0m\u001b[1;34m' '\u001b[0m\u001b[1;33m.\u001b[0m\u001b[0mjoin\u001b[0m\u001b[1;33m(\u001b[0m\u001b[1;33m[\u001b[0m\u001b[0mtoken\u001b[0m \u001b[1;32mfor\u001b[0m \u001b[0mtoken\u001b[0m \u001b[1;32min\u001b[0m \u001b[0mdata_clean\u001b[0m\u001b[1;33m[\u001b[0m\u001b[1;34m'Cleaned Tweet'\u001b[0m\u001b[1;33m]\u001b[0m\u001b[1;33m[\u001b[0m\u001b[0mdata_clean\u001b[0m\u001b[1;33m[\u001b[0m\u001b[1;34m'label'\u001b[0m\u001b[1;33m]\u001b[0m \u001b[1;33m==\u001b[0m \u001b[1;36m0\u001b[0m\u001b[1;33m]\u001b[0m\u001b[1;33m]\u001b[0m\u001b[1;33m)\u001b[0m\u001b[1;33m\u001b[0m\u001b[1;33m\u001b[0m\u001b[0m\n\u001b[0;32m      2\u001b[0m \u001b[1;33m\u001b[0m\u001b[0m\n\u001b[1;32m----> 3\u001b[1;33m \u001b[0mwordcloud\u001b[0m \u001b[1;33m=\u001b[0m \u001b[0mWordCloud\u001b[0m\u001b[1;33m(\u001b[0m\u001b[0mwidth\u001b[0m\u001b[1;33m=\u001b[0m\u001b[1;36m980\u001b[0m\u001b[1;33m,\u001b[0m \u001b[0mheight\u001b[0m\u001b[1;33m=\u001b[0m\u001b[1;36m650\u001b[0m\u001b[1;33m,\u001b[0m \u001b[0mrandom_state\u001b[0m\u001b[1;33m=\u001b[0m\u001b[1;36m21\u001b[0m\u001b[1;33m,\u001b[0m \u001b[0mmax_font_size\u001b[0m\u001b[1;33m=\u001b[0m\u001b[1;36m120\u001b[0m\u001b[1;33m)\u001b[0m\u001b[1;33m.\u001b[0m\u001b[0mgenerate\u001b[0m\u001b[1;33m(\u001b[0m\u001b[0mpositive_words\u001b[0m\u001b[1;33m)\u001b[0m\u001b[1;33m\u001b[0m\u001b[1;33m\u001b[0m\u001b[0m\n\u001b[0m\u001b[0;32m      4\u001b[0m \u001b[0mplt\u001b[0m\u001b[1;33m.\u001b[0m\u001b[0mfigure\u001b[0m\u001b[1;33m(\u001b[0m\u001b[0mfigsize\u001b[0m\u001b[1;33m=\u001b[0m\u001b[1;33m(\u001b[0m\u001b[1;36m15\u001b[0m\u001b[1;33m,\u001b[0m \u001b[1;36m10\u001b[0m\u001b[1;33m)\u001b[0m\u001b[1;33m)\u001b[0m\u001b[1;33m\u001b[0m\u001b[1;33m\u001b[0m\u001b[0m\n\u001b[0;32m      5\u001b[0m \u001b[0mplt\u001b[0m\u001b[1;33m.\u001b[0m\u001b[0mimshow\u001b[0m\u001b[1;33m(\u001b[0m\u001b[0mwordcloud\u001b[0m\u001b[1;33m,\u001b[0m \u001b[0minterpolation\u001b[0m\u001b[1;33m=\u001b[0m\u001b[1;34m\"bilinear\"\u001b[0m\u001b[1;33m)\u001b[0m\u001b[1;33m\u001b[0m\u001b[1;33m\u001b[0m\u001b[0m\n",
      "\u001b[1;31mNameError\u001b[0m: name 'WordCloud' is not defined"
     ]
    }
   ],
   "source": [
    "positive_words =' '.join([token for token in data_clean['Cleaned Tweet'][data_clean['label'] == 0]])\n",
    "\n",
    "wordcloud = WordCloud(width=980, height=650, random_state=21, max_font_size=120).generate(positive_words)\n",
    "plt.figure(figsize=(15, 10))\n",
    "plt.imshow(wordcloud, interpolation=\"bilinear\")\n",
    "plt.axis('off')\n",
    "plt.show()"
   ]
  },
  {
   "cell_type": "markdown",
   "id": "0b4f5c89",
   "metadata": {},
   "source": [
    "Most of the frequently-used words seem compatible with the sentiment, i.e, non-racist/sexists (or positive) tweets. Similarly, we will plot the word cloud for the other sentiment. \n",
    "\n",
    "We should be expecting to see negative, racist, and sexist tokens."
   ]
  },
  {
   "cell_type": "markdown",
   "id": "5444b2ec",
   "metadata": {},
   "source": [
    "**3. Words in negative tweets**"
   ]
  },
  {
   "cell_type": "code",
   "execution_count": null,
   "id": "e2897f16",
   "metadata": {},
   "outputs": [
    {
     "ename": "NameError",
     "evalue": "name 'WordCloud' is not defined",
     "output_type": "error",
     "traceback": [
      "\u001b[1;31m---------------------------------------------------------------------------\u001b[0m",
      "\u001b[1;31mNameError\u001b[0m                                 Traceback (most recent call last)",
      "\u001b[1;32m<ipython-input-23-81ce2064a1c0>\u001b[0m in \u001b[0;36m<module>\u001b[1;34m\u001b[0m\n\u001b[0;32m      1\u001b[0m \u001b[0mnegative_words\u001b[0m \u001b[1;33m=\u001b[0m \u001b[1;34m' '\u001b[0m\u001b[1;33m.\u001b[0m\u001b[0mjoin\u001b[0m\u001b[1;33m(\u001b[0m\u001b[1;33m[\u001b[0m\u001b[0mtoken\u001b[0m \u001b[1;32mfor\u001b[0m \u001b[0mtoken\u001b[0m \u001b[1;32min\u001b[0m \u001b[0mdata_clean\u001b[0m\u001b[1;33m[\u001b[0m\u001b[1;34m'Cleaned Tweet'\u001b[0m\u001b[1;33m]\u001b[0m\u001b[1;33m[\u001b[0m\u001b[0mdata_clean\u001b[0m\u001b[1;33m[\u001b[0m\u001b[1;34m'label'\u001b[0m\u001b[1;33m]\u001b[0m \u001b[1;33m==\u001b[0m \u001b[1;36m1\u001b[0m\u001b[1;33m]\u001b[0m\u001b[1;33m]\u001b[0m\u001b[1;33m)\u001b[0m\u001b[1;33m\u001b[0m\u001b[1;33m\u001b[0m\u001b[0m\n\u001b[1;32m----> 2\u001b[1;33m \u001b[0mwordcloud\u001b[0m \u001b[1;33m=\u001b[0m \u001b[0mWordCloud\u001b[0m\u001b[1;33m(\u001b[0m\u001b[0mwidth\u001b[0m\u001b[1;33m=\u001b[0m\u001b[1;36m980\u001b[0m\u001b[1;33m,\u001b[0m \u001b[0mheight\u001b[0m\u001b[1;33m=\u001b[0m\u001b[1;36m650\u001b[0m\u001b[1;33m,\u001b[0m \u001b[0mrandom_state\u001b[0m\u001b[1;33m=\u001b[0m\u001b[1;36m21\u001b[0m\u001b[1;33m,\u001b[0m \u001b[0mmax_font_size\u001b[0m\u001b[1;33m=\u001b[0m\u001b[1;36m120\u001b[0m\u001b[1;33m)\u001b[0m\u001b[1;33m.\u001b[0m\u001b[0mgenerate\u001b[0m\u001b[1;33m(\u001b[0m\u001b[0mnegative_words\u001b[0m\u001b[1;33m)\u001b[0m\u001b[1;33m\u001b[0m\u001b[1;33m\u001b[0m\u001b[0m\n\u001b[0m\u001b[0;32m      3\u001b[0m \u001b[0mplt\u001b[0m\u001b[1;33m.\u001b[0m\u001b[0mfigure\u001b[0m\u001b[1;33m(\u001b[0m\u001b[0mfigsize\u001b[0m\u001b[1;33m=\u001b[0m\u001b[1;33m(\u001b[0m\u001b[1;36m15\u001b[0m\u001b[1;33m,\u001b[0m \u001b[1;36m10\u001b[0m\u001b[1;33m)\u001b[0m\u001b[1;33m)\u001b[0m\u001b[1;33m\u001b[0m\u001b[1;33m\u001b[0m\u001b[0m\n\u001b[0;32m      4\u001b[0m \u001b[0mplt\u001b[0m\u001b[1;33m.\u001b[0m\u001b[0mimshow\u001b[0m\u001b[1;33m(\u001b[0m\u001b[0mwordcloud\u001b[0m\u001b[1;33m,\u001b[0m \u001b[0minterpolation\u001b[0m\u001b[1;33m=\u001b[0m\u001b[1;34m\"bilinear\"\u001b[0m\u001b[1;33m)\u001b[0m\u001b[1;33m\u001b[0m\u001b[1;33m\u001b[0m\u001b[0m\n\u001b[0;32m      5\u001b[0m \u001b[0mplt\u001b[0m\u001b[1;33m.\u001b[0m\u001b[0maxis\u001b[0m\u001b[1;33m(\u001b[0m\u001b[1;34m'off'\u001b[0m\u001b[1;33m)\u001b[0m\u001b[1;33m\u001b[0m\u001b[1;33m\u001b[0m\u001b[0m\n",
      "\u001b[1;31mNameError\u001b[0m: name 'WordCloud' is not defined"
     ]
    }
   ],
   "source": [
    "negative_words = ' '.join([token for token in data_clean['Cleaned Tweet'][data_clean['label'] == 1]])\n",
    "wordcloud = WordCloud(width=980, height=650, random_state=21, max_font_size=120).generate(negative_words)\n",
    "plt.figure(figsize=(15, 10))\n",
    "plt.imshow(wordcloud, interpolation=\"bilinear\")\n",
    "plt.axis('off')\n",
    "plt.show()"
   ]
  },
  {
   "cell_type": "markdown",
   "id": "b89bb4e6",
   "metadata": {},
   "source": [
    "As clearly shown, most of these tokens have negative connotations. So, it seems we have a pretty good amount of text data to work on. Next we will analyse the impact of hashtags/trends in our twitter data."
   ]
  },
  {
   "cell_type": "markdown",
   "id": "8d0cc950",
   "metadata": {},
   "source": [
    "**4. Understanding the impact of Hashtags on sentiments of tweets**"
   ]
  },
  {
   "cell_type": "code",
   "execution_count": null,
   "id": "c13cb8c3",
   "metadata": {},
   "outputs": [],
   "source": [
    "# function to collect hashtags\n",
    "def extract_hashtag(x):\n",
    "    hashtags = []\n",
    "    # Loop over the words in the tweet\n",
    "    for i in x:\n",
    "        ht = re.findall(r\"#(\\w+)\", i)\n",
    "        hashtags.append(ht)\n",
    "\n",
    "    return hashtags"
   ]
  },
  {
   "cell_type": "code",
   "execution_count": null,
   "id": "1a5eface",
   "metadata": {},
   "outputs": [],
   "source": [
    "# extracting hashtags from non racist/sexist tweets\n",
    "\n",
    "HT_positive = extract_hashtag(data_clean['Cleaned Tweet'][data_clean['label'] == 0])\n",
    "\n",
    "# extracting hashtags from racist/sexist tweets\n",
    "HT_negative = extract_hashtag(data_clean['Cleaned Tweet'][data_clean['label'] == 1])\n",
    "\n",
    "# unnesting list\n",
    "HT_positive = sum(HT_positive,[])\n",
    "HT_negative = sum(HT_negative,[])"
   ]
  },
  {
   "cell_type": "markdown",
   "id": "54c1de4a",
   "metadata": {},
   "source": [
    "Now that we have prepared our lists of hashtags for both the sentiments, we can plot the top *n* hashtags. So, first we shall check the hashtags in the positive tweets."
   ]
  },
  {
   "cell_type": "markdown",
   "id": "3266f27c",
   "metadata": {},
   "source": [
    "#### Positive Tweets "
   ]
  },
  {
   "cell_type": "code",
   "execution_count": null,
   "id": "62d8255c",
   "metadata": {},
   "outputs": [
    {
     "data": {
      "image/png": "[encoded data removed]",
      "text/plain": [
       "<Figure size 1440x360 with 1 Axes>"
      ]
     },
     "metadata": {
      "needs_background": "light"
     },
     "output_type": "display_data"
    }
   ],
   "source": [
    "a = nltk.FreqDist(HT_positive)\n",
    "d = pd.DataFrame({'Hashtag': list(a.keys()),\n",
    "                  'Count': list(a.values())})\n",
    "\n",
    "# selecting top 25 most frequent hashtags     \n",
    "d = d.nlargest(columns=\"Count\", n = 25) \n",
    "plt.figure(figsize=(20,5))\n",
    "ax = sns.barplot(data=d, x= \"Hashtag\", y = \"Count\")\n",
    "ax.set(ylabel = 'Count')\n",
    "plt.show()"
   ]
  },
  {
   "cell_type": "markdown",
   "id": "77276b83",
   "metadata": {},
   "source": [
    "The above hashtags are positive and the plot makes sense. We would expect negative tokens in the plot of the second list. \n",
    "Let us check the most frequent hashtags appearing in the racist/sexist tweets."
   ]
  },
  {
   "cell_type": "markdown",
   "id": "d987576d",
   "metadata": {},
   "source": [
    "#### Negative Tweets"
   ]
  },
  {
   "cell_type": "code",
   "execution_count": null,
   "id": "2508c24f",
   "metadata": {
    "scrolled": true
   },
   "outputs": [
    {
     "data": {
      "image/png": "[encoded data removed]",
      "text/plain": [
       "<Figure size 1440x360 with 1 Axes>"
      ]
     },
     "metadata": {
      "needs_background": "light"
     },
     "output_type": "display_data"
    }
   ],
   "source": [
    "b = nltk.FreqDist(HT_negative)\n",
    "e = pd.DataFrame({'Hashtag': list(b.keys()), 'Count': list(b.values())})\n",
    "\n",
    "# selecting top 25 most frequent hashtags\n",
    "e = e.nlargest(columns=\"Count\", n = 25)   \n",
    "plt.figure(figsize=(20,5))\n",
    "ax = sns.barplot(data=e, x= \"Hashtag\", y = \"Count\")"
   ]
  },
  {
   "cell_type": "markdown",
   "id": "7a27595a",
   "metadata": {},
   "source": [
    "As we expected, most of the terms are negative with a few neutral terms as well. So, it’s not a bad idea to keep these hashtags in our data as they contain some useful information. Next, we will try to extract features from the tokenised tweets."
   ]
  },
  {
   "cell_type": "markdown",
   "id": "c823554d",
   "metadata": {},
   "source": [
    "## Extracting Features from Tokenised Tweets\n",
    "---"
   ]
  },
  {
   "cell_type": "code",
   "execution_count": null,
   "id": "0c5f04a9",
   "metadata": {
    "scrolled": false
   },
   "outputs": [],
   "source": [
    "from sklearn.feature_extraction.text import CountVectorizer, TfidfVectorizer\n",
    "import gensim"
   ]
  },
  {
   "cell_type": "markdown",
   "id": "5f5365fa",
   "metadata": {},
   "source": [
    "### Bag-Of-Words Features"
   ]
  },
  {
   "cell_type": "code",
   "execution_count": null,
   "id": "9ac28f7c",
   "metadata": {},
   "outputs": [
    {
     "data": {
      "text/plain": [
       "(31962, 1500)"
      ]
     },
     "execution_count": 27,
     "metadata": {},
     "output_type": "execute_result"
    }
   ],
   "source": [
    "BOW_vectoriser = CountVectorizer(max_df=0.90, min_df=2, max_features=1500, stop_words='english')\n",
    "BOW = BOW_vectoriser.fit_transform(data_clean['Cleaned Tweet'])\n",
    "BOW.shape"
   ]
  },
  {
   "cell_type": "markdown",
   "id": "10f6604b",
   "metadata": {},
   "source": [
    "### TF-IDF Features"
   ]
  },
  {
   "cell_type": "code",
   "execution_count": null,
   "id": "70add09c",
   "metadata": {},
   "outputs": [
    {
     "data": {
      "text/plain": [
       "(31962, 1500)"
      ]
     },
     "execution_count": 28,
     "metadata": {},
     "output_type": "execute_result"
    }
   ],
   "source": [
    "tfidf_vectoriser = TfidfVectorizer(max_df=0.90, min_df=2, max_features=1500, stop_words='english')\n",
    "tfidf = tfidf_vectoriser.fit_transform(data_clean['Cleaned Tweet'])\n",
    "tfidf.shape"
   ]
  },
  {
   "cell_type": "markdown",
   "id": "4f88eb77",
   "metadata": {},
   "source": [
    "### Word Embeddings\n",
    "\n",
    "---\n",
    "\n",
    "**1. Word2Vec Embeddings**"
   ]
  },
  {
   "cell_type": "code",
   "execution_count": null,
   "id": "83760ac1",
   "metadata": {},
   "outputs": [
    {
     "data": {
      "text/plain": [
       "(29660171, 39494500)"
      ]
     },
     "execution_count": 29,
     "metadata": {},
     "output_type": "execute_result"
    }
   ],
   "source": [
    "tweet_tokens = data_clean['Cleaned Tweet'].apply(lambda x: x.split()) # tokenising tweets\n",
    "\n",
    "model_w2v = gensim.models.Word2Vec(\n",
    "            tweet_tokens,\n",
    "            vector_size=500, # desired no. of features/independent variables \n",
    "            window=5, # context window size\n",
    "            min_count=2,\n",
    "            sg = 1, # 1 for skip-gram model\n",
    "            hs = 0,\n",
    "            negative = 10, # for negative sampling\n",
    "            workers= 2, # no.of cores\n",
    "            seed = 17)\n",
    "\n",
    "model_w2v.train(tweet_tokens, total_examples= len(data_clean['Cleaned Tweet']), epochs=100)"
   ]
  },
  {
   "cell_type": "markdown",
   "id": "4ececb0b",
   "metadata": {},
   "source": [
    "Let us test out a bit with our Word2Vec model and see how does it perform. We will specify a word and the model will pull out the most similar words from the dataset."
   ]
  },
  {
   "cell_type": "code",
   "execution_count": null,
   "id": "3ba89c6e",
   "metadata": {},
   "outputs": [
    {
     "data": {
      "text/plain": [
       "[('candid', 0.5426030158996582),\n",
       " ('ci', 0.48457393050193787),\n",
       " ('guy,', 0.481329083442688),\n",
       " ('#marriedlife', 0.4520012140274048),\n",
       " ('couples', 0.43199580907821655),\n",
       " ('bride:', 0.4280705749988556),\n",
       " ('equate', 0.4046002924442291),\n",
       " ('arrives', 0.39930421113967896),\n",
       " ('delivery!', 0.3991697430610657),\n",
       " ('le', 0.39764589071273804)]"
      ]
     },
     "execution_count": 30,
     "metadata": {},
     "output_type": "execute_result"
    }
   ],
   "source": [
    "model_w2v.wv.most_similar(positive=\"romantic\")"
   ]
  },
  {
   "cell_type": "code",
   "execution_count": null,
   "id": "bd4a6617",
   "metadata": {},
   "outputs": [
    {
     "data": {
      "text/plain": [
       "[('unmasking', 0.4892732501029968),\n",
       " ('fuhered', 0.48244017362594604),\n",
       " ('suppoer.', 0.47152528166770935),\n",
       " ('overwhelmingly', 0.4636531174182892),\n",
       " ('ally,', 0.4568559527397156),\n",
       " (\"thank'\", 0.45669761300086975),\n",
       " (\"chicago's\", 0.44863975048065186),\n",
       " (\"bihday'\", 0.4485248029232025),\n",
       " ('suppoer', 0.44802165031433105),\n",
       " ('#dumptrump', 0.44800856709480286)]"
      ]
     },
     "execution_count": 31,
     "metadata": {},
     "output_type": "execute_result"
    }
   ],
   "source": [
    "model_w2v.wv.most_similar(positive=\"trump\")"
   ]
  },
  {
   "cell_type": "code",
   "execution_count": null,
   "id": "b37cbe23",
   "metadata": {},
   "outputs": [
    {
     "data": {
      "text/plain": [
       "array([ 0.08461116,  0.18083389, -0.35002545, -0.18046251, -0.06368045,\n",
       "       -0.20872359, -0.44435373,  0.04884207,  0.04234019, -0.08030106,\n",
       "        0.10948791,  0.2718789 , -0.05782933, -0.19195347, -0.6580708 ,\n",
       "       -0.04942732, -0.01705835,  0.05946647, -0.09361463,  0.49597892,\n",
       "       -0.3626464 ,  0.56441027, -0.31526452,  0.05335667, -0.28474835,\n",
       "       -0.3215969 ,  0.51068604, -0.01696683, -0.25016564,  0.22147043,\n",
       "        0.2149814 , -0.22648765,  0.03120968, -0.3665818 ,  0.06394764,\n",
       "       -0.0666062 , -0.27470753,  0.00241786, -0.1857647 ,  0.00506313,\n",
       "       -0.29052252,  0.4501743 ,  0.15102248, -0.4038139 ,  0.0097228 ,\n",
       "        0.17538986,  0.00189823,  0.2475176 , -0.14033933,  0.15439792,\n",
       "        0.29988417,  0.21389538, -0.13237955, -0.2912413 , -0.18077773,\n",
       "       -0.6766733 ,  0.01887643,  0.2504163 ,  0.3221837 , -0.0434519 ,\n",
       "        0.04020887,  0.0693792 ,  0.26788202, -0.08121139,  0.1632874 ,\n",
       "       -0.00605822,  0.12728125,  0.2533646 , -0.33232376, -0.27456024,\n",
       "        0.0853744 , -0.06651991,  0.01869545, -0.19661483,  0.33074296,\n",
       "       -0.13885769, -0.61655235,  0.00409307,  0.04765328, -0.16954689,\n",
       "        0.3868505 ,  0.09852439,  0.35216045, -0.47825417,  0.6887574 ,\n",
       "       -0.3469294 ,  0.02315253,  0.04795804, -0.35749462, -0.07289939,\n",
       "        0.12788807, -0.13389164, -0.1674339 , -0.37637022, -0.00593995,\n",
       "       -0.20938006,  0.14930725, -0.14684495, -0.31385872, -0.0205899 ,\n",
       "       -0.13537613, -0.0467342 , -0.03860165,  0.02392924, -0.4456113 ,\n",
       "        0.01335369, -0.01146436,  0.04481998, -0.11329773, -0.28526226,\n",
       "       -0.08668506,  0.08270578, -0.04675   , -0.2461332 , -0.01645086,\n",
       "       -0.3092245 ,  0.13454059, -0.23202893,  0.1767002 , -0.04322736,\n",
       "       -0.00202293, -0.12829973, -0.3943554 , -0.2834956 , -0.01478989,\n",
       "       -0.09106349, -0.36687404,  0.42944232, -0.10217427,  0.13366066,\n",
       "        0.03549762,  0.01761682, -0.17598663, -0.13413979, -0.41301343,\n",
       "       -0.18378833, -0.16762583, -0.2365541 ,  0.4562032 ,  0.599959  ,\n",
       "       -0.15447593, -0.10850578, -0.23160912,  0.46072564, -0.58046395,\n",
       "        0.12690553, -0.17140387,  0.01667037, -0.13164817,  0.17025268,\n",
       "        0.24309331, -0.5276831 ,  0.1115365 ,  0.18099564, -0.25535306,\n",
       "       -0.10804463, -0.133751  ,  0.22679529,  0.33548185, -0.16689803,\n",
       "       -0.14229362,  0.19326878, -0.12746331,  0.17403895,  0.51631665,\n",
       "       -0.15050691,  0.0325577 , -0.20857   ,  0.12711932,  0.4801935 ,\n",
       "       -0.27550778,  0.192058  ,  0.21442387, -0.43318513, -0.41070595,\n",
       "        0.03870122,  0.1605372 ,  0.14524128,  0.65320224,  0.32010737,\n",
       "       -0.05280566,  0.00811558, -0.154955  , -0.3571222 ,  0.4223165 ,\n",
       "       -0.09530026,  0.04380134, -0.08547673,  0.27999854,  0.36289877,\n",
       "        0.15731819, -0.42246032,  0.31313214, -0.17450292, -0.34155774,\n",
       "        0.24266635,  0.0507911 ,  0.20576803, -0.12864412, -0.05752941,\n",
       "        0.05360299,  0.24701504,  0.49342322,  0.33124632, -0.16552807,\n",
       "       -0.09679935, -0.04641489, -0.29031315, -0.5936449 , -0.22932193,\n",
       "        0.17717673,  0.0657063 ,  0.35766873,  0.20025942, -0.13157742,\n",
       "       -0.02086085,  0.03653259,  0.10381778,  0.24614936,  0.0657807 ,\n",
       "       -0.4738814 ,  0.48570895,  0.33632985, -0.0682722 , -0.24335997,\n",
       "       -0.21234733, -0.16257423,  0.08897616,  0.17556761,  0.14580692,\n",
       "       -0.4586937 , -0.21019033,  0.00307947,  0.4087659 ,  0.20425695,\n",
       "        0.17248838,  0.21890657, -0.01816274, -0.6232946 , -0.13009101,\n",
       "       -0.317448  ,  0.32113528,  0.06413893, -0.09862661,  0.32425302,\n",
       "       -0.24828134,  0.33072114, -0.18770394, -0.01863315, -0.61749923,\n",
       "        0.04813837,  0.31588212,  0.538507  ,  0.46733388, -0.19167095,\n",
       "        0.14097336,  0.32604724, -0.32853764,  0.652895  , -0.04686429,\n",
       "        0.11312138,  0.1617407 , -0.39254662,  0.2467582 , -0.45424163,\n",
       "       -0.12070446,  0.34916672,  0.49050707,  0.42153093, -0.47044832,\n",
       "        0.26804906,  0.3568638 , -0.22703601,  0.16005218, -0.0088379 ,\n",
       "        0.10639694, -0.16815746, -0.09355579,  0.06111336, -0.20139672,\n",
       "        0.543407  ,  0.42768747,  0.36198828,  0.08812159, -0.21224259,\n",
       "       -0.7039098 ,  0.06085241, -0.4163106 , -0.1899757 ,  0.20645592,\n",
       "       -0.19050272, -0.43935528, -0.11142675,  0.3021347 ,  0.20565225,\n",
       "       -0.04418891, -0.21615578, -0.2563622 , -0.1731503 ,  0.31260285,\n",
       "       -0.39981148, -0.00274238,  0.15043977, -0.18645816, -0.47253948,\n",
       "       -0.77417827,  0.5911043 ,  0.01923911,  0.09209667,  0.14870065,\n",
       "       -0.5088636 , -0.43599126, -0.34460297,  0.06402237,  0.09944797,\n",
       "       -0.1024909 , -0.1885834 ,  0.31590816, -0.11213068, -0.33889297,\n",
       "       -0.10329244,  0.39655927, -0.00372038,  0.07045452,  0.04895671,\n",
       "       -0.3664664 ,  0.17013052,  0.10052696,  0.5319647 , -0.11938741,\n",
       "       -0.01321668, -0.11179008,  0.05692268,  0.23597988, -0.03391517,\n",
       "        0.18254746, -0.06519203,  0.5302659 ,  0.22100948, -0.18472987,\n",
       "        0.23366472, -0.274301  , -0.1823809 , -0.06287677, -0.04536146,\n",
       "        0.36999434, -0.3059155 ,  0.00530812,  0.218963  ,  0.3992414 ,\n",
       "        0.19520919,  0.01292026, -0.1407883 ,  0.33093652,  0.19935459,\n",
       "       -0.8149884 ,  0.5515766 ,  0.45580533, -0.07530978,  0.00924206,\n",
       "       -0.03256894, -0.3192573 ,  0.46739623,  0.2557071 ,  0.14519247,\n",
       "        0.05123737, -0.12035447, -0.16440776, -0.37824312,  0.17997523,\n",
       "        0.15485802, -0.19189182, -0.2212759 , -0.11423543, -0.10189673,\n",
       "       -0.17807822, -0.08756831,  0.06796723,  0.04060842, -0.0535092 ,\n",
       "       -0.20401584,  0.05659679, -0.11399639,  0.15429407,  0.01420206,\n",
       "        0.41945207,  0.01570213, -0.35967126, -0.15502518,  0.45772097,\n",
       "       -0.07226165,  0.29129863, -0.08556738,  0.37642717,  0.15283374,\n",
       "       -0.16312811, -0.12718716,  0.05916023, -0.24341328,  0.18403889,\n",
       "        0.03614378,  0.539107  , -0.20475613, -0.04822187, -0.2198837 ,\n",
       "       -0.23740353,  0.42241353, -0.04824658,  0.13391279, -0.23599218,\n",
       "       -0.0999086 ,  0.34087107, -0.3831874 , -0.3424709 ,  0.79278934,\n",
       "       -0.06266324,  0.05675234,  0.00247307,  0.5286167 ,  0.07159919,\n",
       "        0.4052579 ,  0.21610132,  0.21678695, -0.5595659 ,  0.08974104,\n",
       "       -0.00468538, -0.21617904,  0.24506524,  0.04271126, -0.16451605,\n",
       "       -0.31623426,  0.3234839 ,  0.4887616 , -0.02828793, -0.22000816,\n",
       "        0.36281645, -0.24022737,  0.03617042, -0.0233432 , -0.2543243 ,\n",
       "       -0.38254052, -0.13103876, -0.08278648, -0.16282053, -0.35739237,\n",
       "        0.17957324,  0.08954828,  0.2868806 , -0.08456167, -0.16202658,\n",
       "        0.16918841,  0.07234729,  0.11566203,  0.58016026,  0.18019778,\n",
       "        0.2325957 ,  0.49378   , -0.04551849,  0.10069659, -0.43293414,\n",
       "       -0.316329  , -0.10106675,  0.27079064,  0.28699687, -0.15099567,\n",
       "       -0.13093314,  0.72953695, -0.21837568, -0.54048586,  0.5144174 ,\n",
       "       -0.3494952 , -0.01035275,  0.33412603,  0.268066  , -0.36775863,\n",
       "       -0.12726131,  0.158064  ,  0.13460363,  0.19041474, -0.06673341,\n",
       "       -0.28330898, -0.1572803 , -0.44696242,  0.1832086 ,  0.07759892,\n",
       "       -0.15118062, -0.02019457,  0.4040817 , -0.19534548, -0.13509157,\n",
       "       -0.12256218, -0.08084022,  0.11233579,  0.28735375,  0.2685556 ,\n",
       "       -0.17954354, -0.5298186 , -0.04235496, -0.11731991,  0.48184824],\n",
       "      dtype=float32)"
      ]
     },
     "execution_count": 31,
     "metadata": {},
     "output_type": "execute_result"
    }
   ],
   "source": [
    "model_w2v.wv['love']"
   ]
  },
  {
   "cell_type": "code",
   "execution_count": null,
   "id": "cdc7edd8",
   "metadata": {},
   "outputs": [
    {
     "data": {
      "text/plain": [
       "500"
      ]
     },
     "execution_count": 32,
     "metadata": {},
     "output_type": "execute_result"
    }
   ],
   "source": [
    "len(model_w2v.wv['love']) #The length of the vector is 500"
   ]
  },
  {
   "cell_type": "markdown",
   "id": "1b8f48d2",
   "metadata": {},
   "source": [
    "#### Preparing Vectors for Tweets\n",
    "\n",
    "We will use the below function to create a vector for each tweet by taking the average of the vectors of the words present in the tweet."
   ]
  },
  {
   "cell_type": "code",
   "execution_count": null,
   "id": "e767732e",
   "metadata": {},
   "outputs": [],
   "source": [
    "def word_vec(tokens, size):\n",
    "    vec = np.zeros(size).reshape((1, size))\n",
    "    count = 0.\n",
    "    for word in tokens:\n",
    "        try:\n",
    "            vec += model_w2v.wv[word].reshape((1, size))\n",
    "            count += 1.\n",
    "        except KeyError: # handling the case where the token is not in vocabulary\n",
    "                         \n",
    "            continue\n",
    "    if count != 0:\n",
    "        vec /= count\n",
    "    return vec"
   ]
  },
  {
   "cell_type": "markdown",
   "id": "acdd3de6",
   "metadata": {},
   "source": [
    "#### Preparing word2vec Feature Set"
   ]
  },
  {
   "cell_type": "code",
   "execution_count": null,
   "id": "10fb01c9",
   "metadata": {},
   "outputs": [
    {
     "data": {
      "text/plain": [
       "(31962, 500)"
      ]
     },
     "execution_count": 35,
     "metadata": {},
     "output_type": "execute_result"
    }
   ],
   "source": [
    "wordvec_arrays = np.zeros((len(tweet_tokens), 500))\n",
    "\n",
    "for i in range(len(tweet_tokens)):\n",
    "    wordvec_arrays[i,:] = word_vec(tweet_tokens[i+1], 500)\n",
    "\n",
    "wordvec = pd.DataFrame(wordvec_arrays)\n",
    "wordvec.shape"
   ]
  },
  {
   "cell_type": "markdown",
   "id": "52b22fdd",
   "metadata": {},
   "source": [
    "> Now we have 500 new features, whereas in Bag of Words and TF-IDF we had 1500 features."
   ]
  },
  {
   "cell_type": "markdown",
   "id": "69d844d7",
   "metadata": {},
   "source": [
    "**2. Doc2Vec Embedding**\n",
    "\n",
    "Let us load the required libraries."
   ]
  },
  {
   "cell_type": "code",
   "execution_count": null,
   "id": "47ee1a6b",
   "metadata": {},
   "outputs": [
    {
     "name": "stderr",
     "output_type": "stream",
     "text": [
      "[nltk_data] Downloading package punkt to\n",
      "[nltk_data]     C:\\Users\\sharm\\AppData\\Roaming\\nltk_data...\n",
      "[nltk_data]   Unzipping tokenizers\\punkt.zip.\n"
     ]
    },
    {
     "data": {
      "text/plain": [
       "True"
      ]
     },
     "execution_count": 8,
     "metadata": {},
     "output_type": "execute_result"
    }
   ],
   "source": [
    "from tqdm import tqdm\n",
    "tqdm.pandas(desc=\"progress-bar\")\n",
    "from gensim.models.doc2vec import TaggedDocument\n",
    "from nltk.tokenize import word_tokenize\n",
    "import nltk\n",
    "nltk.download('punkt')"
   ]
  },
  {
   "cell_type": "markdown",
   "id": "38afc0c2",
   "metadata": {},
   "source": [
    "To implement doc2vec, we need to **labelise** or **tag** each tokenised tweet with unique IDs. We can do so by using Gensim’s `TaggedDocument()` function."
   ]
  },
  {
   "cell_type": "code",
   "execution_count": null,
   "id": "3e95fe1f",
   "metadata": {},
   "outputs": [],
   "source": [
    "def add_label(twt):\n",
    "    output = []\n",
    "    counter = 0\n",
    "    for i, s in zip(twt.index, twt):\n",
    "        output.append(TaggedDocument(s, tags = [counter]))\n",
    "        counter += 1\n",
    "    #output.append(TaggedDocument(twt, tags=[str(i)]) for i, _d in zip(twt.index, twt))\n",
    "    return output"
   ]
  },
  {
   "cell_type": "code",
   "execution_count": null,
   "id": "dd74ffe0",
   "metadata": {},
   "outputs": [],
   "source": [
    "tweet_label = add_label(tweet_tokens) # label all the tweets"
   ]
  },
  {
   "cell_type": "markdown",
   "id": "b1f607d9",
   "metadata": {},
   "source": [
    "Let's have a look at the result."
   ]
  },
  {
   "cell_type": "code",
   "execution_count": null,
   "id": "3fafbe79",
   "metadata": {},
   "outputs": [
    {
     "data": {
      "text/plain": [
       "[TaggedDocument(words=['when', 'a', 'father', 'is', 'dysfunctional', 'and', 'is', 'so', 'selfish', 'he', 'drags', 'his', 'kids', 'into', 'his', 'dysfunction.', '#run'], tags=[0]),\n",
       " TaggedDocument(words=['thanks', 'for', '#lyft', 'credit', 'i', \"can't\", 'use', 'cause', 'they', \"don't\", 'offer', 'wheelchair', 'vans', 'in', 'pdx.', '#disapointed', '#getthanked'], tags=[1]),\n",
       " TaggedDocument(words=['bihday', 'your', 'majesty'], tags=[2]),\n",
       " TaggedDocument(words=['#model', 'i', 'love', 'u', 'take', 'with', 'u', 'all', 'the', 'time', 'in', 'ur!!!'], tags=[3]),\n",
       " TaggedDocument(words=['factsguide:', 'society', 'now', '#motivation'], tags=[4]),\n",
       " TaggedDocument(words=['[2/2]', 'huge', 'fan', 'fare', 'and', 'big', 'talking', 'before', 'they', 'leave.', 'chaos', 'and', 'pay', 'disputes', 'when', 'they', 'get', 'there.', '#allshowandnogo'], tags=[5]),\n",
       " TaggedDocument(words=['camping', 'tomorrow', 'danny'], tags=[6]),\n",
       " TaggedDocument(words=['the', 'next', 'school', 'year', 'is', 'the', 'year', 'for', 'exams.', \"can't\", 'think', 'about', 'that', '#school', '#exams', '#hate', '#imagine', '#actorslife', '#revolutionschool', '#girl'], tags=[7]),\n",
       " TaggedDocument(words=['we', 'won!!!', 'love', 'the', 'land!!!', '#allin', '#cavs', '#champions', '#cleveland', '#clevelandcavaliers'], tags=[8]),\n",
       " TaggedDocument(words=['welcome', 'here', '!', \"i'm\", \"it's\", 'so', '#gr8', '!'], tags=[9]),\n",
       " TaggedDocument(words=['#ireland', 'consumer', 'price', 'index', '(mom)', 'climbed', 'from', 'previous', '0.2%', 'to', '0.5%', 'in', 'may', '#blog', '#silver', '#gold', '#forex'], tags=[10])]"
      ]
     },
     "execution_count": 38,
     "metadata": {},
     "output_type": "execute_result"
    }
   ],
   "source": [
    "tweet_label[:11]"
   ]
  },
  {
   "cell_type": "markdown",
   "id": "e9b90280",
   "metadata": {},
   "source": [
    "Now let's train a `doc2vec` model."
   ]
  },
  {
   "cell_type": "code",
   "execution_count": null,
   "id": "2f9f9213",
   "metadata": {},
   "outputs": [
    {
     "name": "stderr",
     "output_type": "stream",
     "text": [
      "100%|██████████████████████████████████████████████████████████████| 31962/31962 [00:00<00:00, 1957885.01it/s]\n"
     ]
    }
   ],
   "source": [
    "model_d2v = gensim.models.Doc2Vec(dm=1, # dm = 1 for ‘distributed memory’ model \n",
    "                                  dm_mean=1, # dm = 1 for using mean of the context word vectors\n",
    "                                  vector_size=500, # no. of desired features\n",
    "                                  window=5, # width of the context window\n",
    "                                  negative=7, # if > 0 then negative sampling will be used\n",
    "                                  min_count=5, # Ignores all words with total frequency lower than 2.\n",
    "                                  workers=3, # no. of cores\n",
    "                                  alpha=0.1, # learning rate\n",
    "                                  seed = 46)\n",
    "\n",
    "model_d2v.build_vocab([i for i in tqdm(tweet_label)])"
   ]
  },
  {
   "cell_type": "code",
   "execution_count": null,
   "id": "384ff1b5",
   "metadata": {},
   "outputs": [],
   "source": [
    "model_d2v.train(tweet_label, total_examples= len(data_clean['Cleaned Tweet']), epochs=100)"
   ]
  },
  {
   "cell_type": "markdown",
   "id": "a2d28921",
   "metadata": {},
   "source": [
    "#### Preparing doc2vec Feature Set"
   ]
  },
  {
   "cell_type": "code",
   "execution_count": null,
   "id": "22599b3f",
   "metadata": {},
   "outputs": [
    {
     "data": {
      "text/plain": [
       "(31962, 500)"
      ]
     },
     "execution_count": 41,
     "metadata": {},
     "output_type": "execute_result"
    }
   ],
   "source": [
    "docvec_arrays = np.zeros((len(tweet_tokens), 500))\n",
    "\n",
    "for i in range(len(data_clean)):\n",
    "    docvec_arrays[i,:] = model_d2v.docvecs[i].reshape((1,500))\n",
    "    \n",
    "docvec = pd.DataFrame(docvec_arrays)\n",
    "docvec.shape\n",
    "\n"
   ]
  },
  {
   "cell_type": "markdown",
   "id": "acaa52a3",
   "metadata": {},
   "source": [
    "---\n",
    "## Model Building\n",
    "\n",
    "---\n",
    "\n",
    "We are now done with all the pre-modelling stages required to get the data in the proper form and shape. We shall be building models on the datasets with different feature sets prepared in the earlier sections — Bag-of-Words, TF-IDF, word2vec vectors, and doc2vec vectors. The following algorithms would be used to build models:\n",
    "\n",
    "1. **Support Vector Machine** \n",
    "\n",
    "2. **Logistic Regression** \n",
    "\n",
    "3. **RandomForest** \n",
    "\n",
    "4. **XGBoost** "
   ]
  },
  {
   "cell_type": "markdown",
   "id": "05c5f090",
   "metadata": {},
   "source": [
    "### 1. Support Vector Machine"
   ]
  },
  {
   "cell_type": "code",
   "execution_count": null,
   "id": "5cb2ca44",
   "metadata": {},
   "outputs": [],
   "source": [
    "from sklearn import svm\n",
    "from sklearn.model_selection import train_test_split\n",
    "from sklearn.metrics import f1_score"
   ]
  },
  {
   "cell_type": "markdown",
   "id": "a9672a69",
   "metadata": {},
   "source": [
    "#### Bag-of-Words Features"
   ]
  },
  {
   "cell_type": "code",
   "execution_count": null,
   "id": "92d46d30",
   "metadata": {},
   "outputs": [],
   "source": [
    "train_bow = BOW[:31962,:]\n",
    "test_bow = BOW[31962:,:]\n",
    "\n",
    "# splitting data into training and validation set\n",
    "xtrain_bow, xvalid_bow, ytrain, yvalid = train_test_split(train_bow, train['label'], random_state=42, test_size=0.3)"
   ]
  },
  {
   "cell_type": "code",
   "execution_count": null,
   "id": "01df80f8",
   "metadata": {},
   "outputs": [
    {
     "data": {
      "text/plain": [
       "0.5557491289198607"
      ]
     },
     "execution_count": 44,
     "metadata": {},
     "output_type": "execute_result"
    }
   ],
   "source": [
    "svc = svm.SVC(kernel='linear', C=1, probability=True).fit(xtrain_bow, ytrain)\n",
    "\n",
    "prediction = svc.predict_proba(xvalid_bow)\n",
    "prediction_int = prediction[:,1] >= 0.3\n",
    "prediction_int = prediction_int.astype(np.int)\n",
    "f1_score(yvalid, prediction_int)"
   ]
  },
  {
   "cell_type": "markdown",
   "id": "3e645527",
   "metadata": {},
   "source": [
    "Let us create a submission csv file for this."
   ]
  },
  {
   "cell_type": "code",
   "execution_count": null,
   "id": "c3cb2770",
   "metadata": {},
   "outputs": [
    {
     "ename": "ValueError",
     "evalue": "Found array with 0 sample(s) (shape=(0, 1500)) while a minimum of 1 is required.",
     "output_type": "error",
     "traceback": [
      "\u001b[0;31m---------------------------------------------------------------------------\u001b[0m",
      "\u001b[0;31mValueError\u001b[0m                                Traceback (most recent call last)",
      "\u001b[0;32m/tmp/ipykernel_55267/2279792645.py\u001b[0m in \u001b[0;36m<module>\u001b[0;34m\u001b[0m\n\u001b[0;32m----> 1\u001b[0;31m \u001b[0mtest_pred\u001b[0m \u001b[0;34m=\u001b[0m \u001b[0msvc\u001b[0m\u001b[0;34m.\u001b[0m\u001b[0mpredict_proba\u001b[0m\u001b[0;34m(\u001b[0m\u001b[0mtest_bow\u001b[0m\u001b[0;34m)\u001b[0m\u001b[0;34m\u001b[0m\u001b[0;34m\u001b[0m\u001b[0m\n\u001b[0m\u001b[1;32m      2\u001b[0m \u001b[0mtest_pred_int\u001b[0m \u001b[0;34m=\u001b[0m \u001b[0mtest_pred\u001b[0m\u001b[0;34m[\u001b[0m\u001b[0;34m:\u001b[0m\u001b[0;34m,\u001b[0m\u001b[0;36m1\u001b[0m\u001b[0;34m]\u001b[0m \u001b[0;34m>=\u001b[0m \u001b[0;36m0.3\u001b[0m\u001b[0;34m\u001b[0m\u001b[0;34m\u001b[0m\u001b[0m\n\u001b[1;32m      3\u001b[0m \u001b[0mtest_pred_int\u001b[0m \u001b[0;34m=\u001b[0m \u001b[0mtest_pred_int\u001b[0m\u001b[0;34m.\u001b[0m\u001b[0mastype\u001b[0m\u001b[0;34m(\u001b[0m\u001b[0mnp\u001b[0m\u001b[0;34m.\u001b[0m\u001b[0mint\u001b[0m\u001b[0;34m)\u001b[0m\u001b[0;34m\u001b[0m\u001b[0;34m\u001b[0m\u001b[0m\n\u001b[1;32m      4\u001b[0m \u001b[0mtest\u001b[0m\u001b[0;34m[\u001b[0m\u001b[0;34m'label'\u001b[0m\u001b[0;34m]\u001b[0m \u001b[0;34m=\u001b[0m \u001b[0mtest_pred_int\u001b[0m\u001b[0;34m\u001b[0m\u001b[0;34m\u001b[0m\u001b[0m\n\u001b[1;32m      5\u001b[0m \u001b[0msubmission\u001b[0m \u001b[0;34m=\u001b[0m \u001b[0mtest\u001b[0m\u001b[0;34m[\u001b[0m\u001b[0;34m[\u001b[0m\u001b[0;34m'id'\u001b[0m\u001b[0;34m,\u001b[0m\u001b[0;34m'label'\u001b[0m\u001b[0;34m]\u001b[0m\u001b[0;34m]\u001b[0m\u001b[0;34m\u001b[0m\u001b[0;34m\u001b[0m\u001b[0m\n",
      "\u001b[0;32m~/anaconda3/lib/python3.9/site-packages/sklearn/svm/_base.py\u001b[0m in \u001b[0;36m_predict_proba\u001b[0;34m(self, X)\u001b[0m\n\u001b[1;32m    668\u001b[0m \u001b[0;34m\u001b[0m\u001b[0m\n\u001b[1;32m    669\u001b[0m     \u001b[0;32mdef\u001b[0m \u001b[0m_predict_proba\u001b[0m\u001b[0;34m(\u001b[0m\u001b[0mself\u001b[0m\u001b[0;34m,\u001b[0m \u001b[0mX\u001b[0m\u001b[0;34m)\u001b[0m\u001b[0;34m:\u001b[0m\u001b[0;34m\u001b[0m\u001b[0;34m\u001b[0m\u001b[0m\n\u001b[0;32m--> 670\u001b[0;31m         \u001b[0mX\u001b[0m \u001b[0;34m=\u001b[0m \u001b[0mself\u001b[0m\u001b[0;34m.\u001b[0m\u001b[0m_validate_for_predict\u001b[0m\u001b[0;34m(\u001b[0m\u001b[0mX\u001b[0m\u001b[0;34m)\u001b[0m\u001b[0;34m\u001b[0m\u001b[0;34m\u001b[0m\u001b[0m\n\u001b[0m\u001b[1;32m    671\u001b[0m         \u001b[0;32mif\u001b[0m \u001b[0mself\u001b[0m\u001b[0;34m.\u001b[0m\u001b[0mprobA_\u001b[0m\u001b[0;34m.\u001b[0m\u001b[0msize\u001b[0m \u001b[0;34m==\u001b[0m \u001b[0;36m0\u001b[0m \u001b[0;32mor\u001b[0m \u001b[0mself\u001b[0m\u001b[0;34m.\u001b[0m\u001b[0mprobB_\u001b[0m\u001b[0;34m.\u001b[0m\u001b[0msize\u001b[0m \u001b[0;34m==\u001b[0m \u001b[0;36m0\u001b[0m\u001b[0;34m:\u001b[0m\u001b[0;34m\u001b[0m\u001b[0;34m\u001b[0m\u001b[0m\n\u001b[1;32m    672\u001b[0m             raise NotFittedError(\"predict_proba is not available when fitted \"\n",
      "\u001b[0;32m~/anaconda3/lib/python3.9/site-packages/sklearn/svm/_base.py\u001b[0m in \u001b[0;36m_validate_for_predict\u001b[0;34m(self, X)\u001b[0m\n\u001b[1;32m    472\u001b[0m \u001b[0;34m\u001b[0m\u001b[0m\n\u001b[1;32m    473\u001b[0m         \u001b[0;32mif\u001b[0m \u001b[0;32mnot\u001b[0m \u001b[0mcallable\u001b[0m\u001b[0;34m(\u001b[0m\u001b[0mself\u001b[0m\u001b[0;34m.\u001b[0m\u001b[0mkernel\u001b[0m\u001b[0;34m)\u001b[0m\u001b[0;34m:\u001b[0m\u001b[0;34m\u001b[0m\u001b[0;34m\u001b[0m\u001b[0m\n\u001b[0;32m--> 474\u001b[0;31m             X = check_array(X, accept_sparse='csr', dtype=np.float64,\n\u001b[0m\u001b[1;32m    475\u001b[0m                             order=\"C\", accept_large_sparse=False)\n\u001b[1;32m    476\u001b[0m \u001b[0;34m\u001b[0m\u001b[0m\n",
      "\u001b[0;32m~/anaconda3/lib/python3.9/site-packages/sklearn/utils/validation.py\u001b[0m in \u001b[0;36minner_f\u001b[0;34m(*args, **kwargs)\u001b[0m\n\u001b[1;32m     61\u001b[0m             \u001b[0mextra_args\u001b[0m \u001b[0;34m=\u001b[0m \u001b[0mlen\u001b[0m\u001b[0;34m(\u001b[0m\u001b[0margs\u001b[0m\u001b[0;34m)\u001b[0m \u001b[0;34m-\u001b[0m \u001b[0mlen\u001b[0m\u001b[0;34m(\u001b[0m\u001b[0mall_args\u001b[0m\u001b[0;34m)\u001b[0m\u001b[0;34m\u001b[0m\u001b[0;34m\u001b[0m\u001b[0m\n\u001b[1;32m     62\u001b[0m             \u001b[0;32mif\u001b[0m \u001b[0mextra_args\u001b[0m \u001b[0;34m<=\u001b[0m \u001b[0;36m0\u001b[0m\u001b[0;34m:\u001b[0m\u001b[0;34m\u001b[0m\u001b[0;34m\u001b[0m\u001b[0m\n\u001b[0;32m---> 63\u001b[0;31m                 \u001b[0;32mreturn\u001b[0m \u001b[0mf\u001b[0m\u001b[0;34m(\u001b[0m\u001b[0;34m*\u001b[0m\u001b[0margs\u001b[0m\u001b[0;34m,\u001b[0m \u001b[0;34m**\u001b[0m\u001b[0mkwargs\u001b[0m\u001b[0;34m)\u001b[0m\u001b[0;34m\u001b[0m\u001b[0;34m\u001b[0m\u001b[0m\n\u001b[0m\u001b[1;32m     64\u001b[0m \u001b[0;34m\u001b[0m\u001b[0m\n\u001b[1;32m     65\u001b[0m             \u001b[0;31m# extra_args > 0\u001b[0m\u001b[0;34m\u001b[0m\u001b[0;34m\u001b[0m\u001b[0m\n",
      "\u001b[0;32m~/anaconda3/lib/python3.9/site-packages/sklearn/utils/validation.py\u001b[0m in \u001b[0;36mcheck_array\u001b[0;34m(array, accept_sparse, accept_large_sparse, dtype, order, copy, force_all_finite, ensure_2d, allow_nd, ensure_min_samples, ensure_min_features, estimator)\u001b[0m\n\u001b[1;32m    724\u001b[0m         \u001b[0mn_samples\u001b[0m \u001b[0;34m=\u001b[0m \u001b[0m_num_samples\u001b[0m\u001b[0;34m(\u001b[0m\u001b[0marray\u001b[0m\u001b[0;34m)\u001b[0m\u001b[0;34m\u001b[0m\u001b[0;34m\u001b[0m\u001b[0m\n\u001b[1;32m    725\u001b[0m         \u001b[0;32mif\u001b[0m \u001b[0mn_samples\u001b[0m \u001b[0;34m<\u001b[0m \u001b[0mensure_min_samples\u001b[0m\u001b[0;34m:\u001b[0m\u001b[0;34m\u001b[0m\u001b[0;34m\u001b[0m\u001b[0m\n\u001b[0;32m--> 726\u001b[0;31m             raise ValueError(\"Found array with %d sample(s) (shape=%s) while a\"\n\u001b[0m\u001b[1;32m    727\u001b[0m                              \u001b[0;34m\" minimum of %d is required%s.\"\u001b[0m\u001b[0;34m\u001b[0m\u001b[0;34m\u001b[0m\u001b[0m\n\u001b[1;32m    728\u001b[0m                              % (n_samples, array.shape, ensure_min_samples,\n",
      "\u001b[0;31mValueError\u001b[0m: Found array with 0 sample(s) (shape=(0, 1500)) while a minimum of 1 is required."
     ]
    }
   ],
   "source": [
    "test_pred = svc.predict_proba(test_bow)\n",
    "test_pred_int = test_pred[:,1] >= 0.3\n",
    "test_pred_int = test_pred_int.astype(np.int)\n",
    "test['label'] = test_pred_int\n",
    "submission = test[['id','label']]\n",
    "submission.to_csv('submission_svc_bow.csv', index=False)  # NEEDS FIX"
   ]
  },
  {
   "cell_type": "markdown",
   "id": "9071668e",
   "metadata": {},
   "source": [
    "#### TF-IDF Features"
   ]
  },
  {
   "cell_type": "code",
   "execution_count": null,
   "id": "b63e158d",
   "metadata": {},
   "outputs": [],
   "source": [
    "train_tfidf = tfidf[:31962,:]\n",
    "test_tfidf = tfidf[31962:,:]\n",
    "\n",
    "xtrain_tfidf = train_tfidf[ytrain.index]\n",
    "xvalid_tfidf = train_tfidf[yvalid.index]"
   ]
  },
  {
   "cell_type": "code",
   "execution_count": null,
   "id": "7c3c0029",
   "metadata": {},
   "outputs": [
    {
     "data": {
      "text/plain": [
       "0.5443478260869565"
      ]
     },
     "execution_count": 47,
     "metadata": {},
     "output_type": "execute_result"
    }
   ],
   "source": [
    "svc = svm.SVC(kernel='linear', C=1, probability=True).fit(xtrain_tfidf, ytrain)\n",
    "\n",
    "prediction = svc.predict_proba(xvalid_tfidf)\n",
    "prediction_int = prediction[:,1] >= 0.3\n",
    "prediction_int = prediction_int.astype(np.int)\n",
    "f1_score(yvalid, prediction_int)"
   ]
  },
  {
   "cell_type": "markdown",
   "id": "82212135",
   "metadata": {},
   "source": [
    "#### Word2Vec Features"
   ]
  },
  {
   "cell_type": "code",
   "execution_count": null,
   "id": "5ef1400f",
   "metadata": {},
   "outputs": [
    {
     "ename": "NameError",
     "evalue": "name 'ytrain' is not defined",
     "output_type": "error",
     "traceback": [
      "\u001b[1;31m---------------------------------------------------------------------------\u001b[0m",
      "\u001b[1;31mNameError\u001b[0m                                 Traceback (most recent call last)",
      "\u001b[1;32m<ipython-input-39-80d85c0baaf2>\u001b[0m in \u001b[0;36m<module>\u001b[1;34m\u001b[0m\n\u001b[0;32m      2\u001b[0m \u001b[0mtest_w2v\u001b[0m \u001b[1;33m=\u001b[0m \u001b[0mwordvec\u001b[0m\u001b[1;33m.\u001b[0m\u001b[0miloc\u001b[0m\u001b[1;33m[\u001b[0m\u001b[1;36m31962\u001b[0m\u001b[1;33m:\u001b[0m\u001b[1;33m,\u001b[0m\u001b[1;33m:\u001b[0m\u001b[1;33m]\u001b[0m\u001b[1;33m\u001b[0m\u001b[1;33m\u001b[0m\u001b[0m\n\u001b[0;32m      3\u001b[0m \u001b[1;33m\u001b[0m\u001b[0m\n\u001b[1;32m----> 4\u001b[1;33m \u001b[0mxtrain_w2v\u001b[0m \u001b[1;33m=\u001b[0m \u001b[0mtrain_w2v\u001b[0m\u001b[1;33m.\u001b[0m\u001b[0miloc\u001b[0m\u001b[1;33m[\u001b[0m\u001b[0mytrain\u001b[0m\u001b[1;33m.\u001b[0m\u001b[0mindex\u001b[0m\u001b[1;33m,\u001b[0m\u001b[1;33m:\u001b[0m\u001b[1;33m]\u001b[0m\u001b[1;33m\u001b[0m\u001b[1;33m\u001b[0m\u001b[0m\n\u001b[0m\u001b[0;32m      5\u001b[0m \u001b[0mxvalid_w2v\u001b[0m \u001b[1;33m=\u001b[0m \u001b[0mtrain_w2v\u001b[0m\u001b[1;33m.\u001b[0m\u001b[0miloc\u001b[0m\u001b[1;33m[\u001b[0m\u001b[0myvalid\u001b[0m\u001b[1;33m.\u001b[0m\u001b[0mindex\u001b[0m\u001b[1;33m,\u001b[0m\u001b[1;33m:\u001b[0m\u001b[1;33m]\u001b[0m\u001b[1;33m\u001b[0m\u001b[1;33m\u001b[0m\u001b[0m\n",
      "\u001b[1;31mNameError\u001b[0m: name 'ytrain' is not defined"
     ]
    }
   ],
   "source": [
    "train_w2v = wordvec.iloc[:31962,:]\n",
    "test_w2v = wordvec.iloc[31962:,:]\n",
    "\n",
    "xtrain_w2v = train_w2v.iloc[ytrain.index,:]\n",
    "xvalid_w2v = train_w2v.iloc[yvalid.index,:]"
   ]
  },
  {
   "cell_type": "code",
   "execution_count": null,
   "id": "af874426",
   "metadata": {},
   "outputs": [
    {
     "ename": "NameError",
     "evalue": "name 'svm' is not defined",
     "output_type": "error",
     "traceback": [
      "\u001b[1;31m---------------------------------------------------------------------------\u001b[0m",
      "\u001b[1;31mNameError\u001b[0m                                 Traceback (most recent call last)",
      "\u001b[1;32m<ipython-input-38-cefbefc15f4c>\u001b[0m in \u001b[0;36m<module>\u001b[1;34m\u001b[0m\n\u001b[1;32m----> 1\u001b[1;33m \u001b[0msvc\u001b[0m \u001b[1;33m=\u001b[0m \u001b[0msvm\u001b[0m\u001b[1;33m.\u001b[0m\u001b[0mSVC\u001b[0m\u001b[1;33m(\u001b[0m\u001b[0mkernel\u001b[0m\u001b[1;33m=\u001b[0m\u001b[1;34m'linear'\u001b[0m\u001b[1;33m,\u001b[0m \u001b[0mC\u001b[0m\u001b[1;33m=\u001b[0m\u001b[1;36m1\u001b[0m\u001b[1;33m,\u001b[0m \u001b[0mprobability\u001b[0m\u001b[1;33m=\u001b[0m\u001b[1;32mTrue\u001b[0m\u001b[1;33m)\u001b[0m\u001b[1;33m.\u001b[0m\u001b[0mfit\u001b[0m\u001b[1;33m(\u001b[0m\u001b[0mxtrain_w2v\u001b[0m\u001b[1;33m,\u001b[0m \u001b[0mytrain\u001b[0m\u001b[1;33m)\u001b[0m\u001b[1;33m\u001b[0m\u001b[1;33m\u001b[0m\u001b[0m\n\u001b[0m\u001b[0;32m      2\u001b[0m \u001b[1;33m\u001b[0m\u001b[0m\n\u001b[0;32m      3\u001b[0m \u001b[0mprediction\u001b[0m \u001b[1;33m=\u001b[0m \u001b[0msvc\u001b[0m\u001b[1;33m.\u001b[0m\u001b[0mpredict_proba\u001b[0m\u001b[1;33m(\u001b[0m\u001b[0mxvalid_w2v\u001b[0m\u001b[1;33m)\u001b[0m\u001b[1;33m\u001b[0m\u001b[1;33m\u001b[0m\u001b[0m\n\u001b[0;32m      4\u001b[0m \u001b[0mprediction_int\u001b[0m \u001b[1;33m=\u001b[0m \u001b[0mprediction\u001b[0m\u001b[1;33m[\u001b[0m\u001b[1;33m:\u001b[0m\u001b[1;33m,\u001b[0m\u001b[1;36m1\u001b[0m\u001b[1;33m]\u001b[0m \u001b[1;33m>=\u001b[0m \u001b[1;36m0.3\u001b[0m\u001b[1;33m\u001b[0m\u001b[1;33m\u001b[0m\u001b[0m\n\u001b[0;32m      5\u001b[0m \u001b[0mprediction_int\u001b[0m \u001b[1;33m=\u001b[0m \u001b[0mprediction_int\u001b[0m\u001b[1;33m.\u001b[0m\u001b[0mastype\u001b[0m\u001b[1;33m(\u001b[0m\u001b[0mnp\u001b[0m\u001b[1;33m.\u001b[0m\u001b[0mint\u001b[0m\u001b[1;33m)\u001b[0m\u001b[1;33m\u001b[0m\u001b[1;33m\u001b[0m\u001b[0m\n",
      "\u001b[1;31mNameError\u001b[0m: name 'svm' is not defined"
     ]
    }
   ],
   "source": [
    "svc = svm.SVC(kernel='linear', C=1, probability=True).fit(xtrain_w2v, ytrain)\n",
    "\n",
    "prediction = svc.predict_proba(xvalid_w2v)\n",
    "prediction_int = prediction[:,1] >= 0.3\n",
    "prediction_int = prediction_int.astype(np.int)\n",
    "f1_score(yvalid, prediction_int)"
   ]
  },
  {
   "cell_type": "markdown",
   "id": "a557f3fd",
   "metadata": {},
   "source": [
    "#### Doc2Vec Features"
   ]
  },
  {
   "cell_type": "code",
   "execution_count": null,
   "id": "181f79a6",
   "metadata": {},
   "outputs": [
    {
     "ename": "NameError",
     "evalue": "name 'docvec' is not defined",
     "output_type": "error",
     "traceback": [
      "\u001b[1;31m---------------------------------------------------------------------------\u001b[0m",
      "\u001b[1;31mNameError\u001b[0m                                 Traceback (most recent call last)",
      "\u001b[1;32m<ipython-input-37-9f8b597f0530>\u001b[0m in \u001b[0;36m<module>\u001b[1;34m\u001b[0m\n\u001b[1;32m----> 1\u001b[1;33m \u001b[0mtrain_d2v\u001b[0m \u001b[1;33m=\u001b[0m \u001b[0mdocvec\u001b[0m\u001b[1;33m.\u001b[0m\u001b[0miloc\u001b[0m\u001b[1;33m[\u001b[0m\u001b[1;33m:\u001b[0m\u001b[1;36m31962\u001b[0m\u001b[1;33m,\u001b[0m\u001b[1;33m:\u001b[0m\u001b[1;33m]\u001b[0m\u001b[1;33m\u001b[0m\u001b[1;33m\u001b[0m\u001b[0m\n\u001b[0m\u001b[0;32m      2\u001b[0m \u001b[0mtest_d2v\u001b[0m \u001b[1;33m=\u001b[0m \u001b[0mdocvec\u001b[0m\u001b[1;33m.\u001b[0m\u001b[0miloc\u001b[0m\u001b[1;33m[\u001b[0m\u001b[1;36m31962\u001b[0m\u001b[1;33m:\u001b[0m\u001b[1;33m,\u001b[0m\u001b[1;33m:\u001b[0m\u001b[1;33m]\u001b[0m\u001b[1;33m\u001b[0m\u001b[1;33m\u001b[0m\u001b[0m\n\u001b[0;32m      3\u001b[0m \u001b[1;33m\u001b[0m\u001b[0m\n\u001b[0;32m      4\u001b[0m \u001b[0mxtrain_d2v\u001b[0m \u001b[1;33m=\u001b[0m \u001b[0mtrain_d2v\u001b[0m\u001b[1;33m.\u001b[0m\u001b[0miloc\u001b[0m\u001b[1;33m[\u001b[0m\u001b[0mytrain\u001b[0m\u001b[1;33m.\u001b[0m\u001b[0mindex\u001b[0m\u001b[1;33m,\u001b[0m\u001b[1;33m:\u001b[0m\u001b[1;33m]\u001b[0m\u001b[1;33m\u001b[0m\u001b[1;33m\u001b[0m\u001b[0m\n\u001b[0;32m      5\u001b[0m \u001b[0mxvalid_d2v\u001b[0m \u001b[1;33m=\u001b[0m \u001b[0mtrain_d2v\u001b[0m\u001b[1;33m.\u001b[0m\u001b[0miloc\u001b[0m\u001b[1;33m[\u001b[0m\u001b[0myvalid\u001b[0m\u001b[1;33m.\u001b[0m\u001b[0mindex\u001b[0m\u001b[1;33m,\u001b[0m\u001b[1;33m:\u001b[0m\u001b[1;33m]\u001b[0m\u001b[1;33m\u001b[0m\u001b[1;33m\u001b[0m\u001b[0m\n",
      "\u001b[1;31mNameError\u001b[0m: name 'docvec' is not defined"
     ]
    }
   ],
   "source": [
    "train_d2v = docvec.iloc[:31962,:]\n",
    "test_d2v = docvec.iloc[31962:,:]\n",
    "\n",
    "xtrain_d2v = train_d2v.iloc[ytrain.index,:]\n",
    "xvalid_d2v = train_d2v.iloc[yvalid.index,:]"
   ]
  },
  {
   "cell_type": "code",
   "execution_count": null,
   "id": "a7d2bd2c",
   "metadata": {},
   "outputs": [
    {
     "ename": "NameError",
     "evalue": "name 'svm' is not defined",
     "output_type": "error",
     "traceback": [
      "\u001b[1;31m---------------------------------------------------------------------------\u001b[0m",
      "\u001b[1;31mNameError\u001b[0m                                 Traceback (most recent call last)",
      "\u001b[1;32m<ipython-input-36-eec7601d7376>\u001b[0m in \u001b[0;36m<module>\u001b[1;34m\u001b[0m\n\u001b[1;32m----> 1\u001b[1;33m \u001b[0msvc\u001b[0m \u001b[1;33m=\u001b[0m \u001b[0msvm\u001b[0m\u001b[1;33m.\u001b[0m\u001b[0mSVC\u001b[0m\u001b[1;33m(\u001b[0m\u001b[0mkernel\u001b[0m\u001b[1;33m=\u001b[0m\u001b[1;34m'linear'\u001b[0m\u001b[1;33m,\u001b[0m \u001b[0mC\u001b[0m\u001b[1;33m=\u001b[0m\u001b[1;36m1\u001b[0m\u001b[1;33m,\u001b[0m \u001b[0mprobability\u001b[0m\u001b[1;33m=\u001b[0m\u001b[1;32mTrue\u001b[0m\u001b[1;33m)\u001b[0m\u001b[1;33m.\u001b[0m\u001b[0mfit\u001b[0m\u001b[1;33m(\u001b[0m\u001b[0mxtrain_d2v\u001b[0m\u001b[1;33m,\u001b[0m \u001b[0mytrain\u001b[0m\u001b[1;33m)\u001b[0m\u001b[1;33m\u001b[0m\u001b[1;33m\u001b[0m\u001b[0m\n\u001b[0m\u001b[0;32m      2\u001b[0m \u001b[1;33m\u001b[0m\u001b[0m\n\u001b[0;32m      3\u001b[0m \u001b[0mprediction\u001b[0m \u001b[1;33m=\u001b[0m \u001b[0msvc\u001b[0m\u001b[1;33m.\u001b[0m\u001b[0mpredict_proba\u001b[0m\u001b[1;33m(\u001b[0m\u001b[0mxvalid_d2v\u001b[0m\u001b[1;33m)\u001b[0m\u001b[1;33m\u001b[0m\u001b[1;33m\u001b[0m\u001b[0m\n\u001b[0;32m      4\u001b[0m \u001b[0mprediction_int\u001b[0m \u001b[1;33m=\u001b[0m \u001b[0mprediction\u001b[0m\u001b[1;33m[\u001b[0m\u001b[1;33m:\u001b[0m\u001b[1;33m,\u001b[0m\u001b[1;36m1\u001b[0m\u001b[1;33m]\u001b[0m \u001b[1;33m>=\u001b[0m \u001b[1;36m0.3\u001b[0m\u001b[1;33m\u001b[0m\u001b[1;33m\u001b[0m\u001b[0m\n\u001b[0;32m      5\u001b[0m \u001b[0mprediction_int\u001b[0m \u001b[1;33m=\u001b[0m \u001b[0mprediction_int\u001b[0m\u001b[1;33m.\u001b[0m\u001b[0mastype\u001b[0m\u001b[1;33m(\u001b[0m\u001b[0mnp\u001b[0m\u001b[1;33m.\u001b[0m\u001b[0mint\u001b[0m\u001b[1;33m)\u001b[0m\u001b[1;33m\u001b[0m\u001b[1;33m\u001b[0m\u001b[0m\n",
      "\u001b[1;31mNameError\u001b[0m: name 'svm' is not defined"
     ]
    }
   ],
   "source": [
    "svc = svm.SVC(kernel='linear', C=1, probability=True).fit(xtrain_d2v, ytrain)\n",
    "\n",
    "prediction = svc.predict_proba(xvalid_d2v)\n",
    "prediction_int = prediction[:,1] >= 0.3\n",
    "prediction_int = prediction_int.astype(np.int)\n",
    "f1_score(yvalid, prediction_int)"
   ]
  },
  {
   "cell_type": "code",
   "execution_count": null,
   "id": "b55853c4",
   "metadata": {},
   "outputs": [],
   "source": []
  },
  {
   "cell_type": "code",
   "execution_count": null,
   "id": "2fa37740",
   "metadata": {},
   "outputs": [],
   "source": []
  },
  {
   "cell_type": "code",
   "execution_count": null,
   "id": "b250fe4d",
   "metadata": {},
   "outputs": [],
   "source": []
  },
  {
   "cell_type": "code",
   "execution_count": null,
   "id": "544e666d",
   "metadata": {},
   "outputs": [],
   "source": []
  },
  {
   "cell_type": "code",
   "execution_count": null,
   "id": "d932d720",
   "metadata": {},
   "outputs": [],
   "source": []
  },
  {
   "cell_type": "code",
   "execution_count": null,
   "id": "1dcfd6b8",
   "metadata": {},
   "outputs": [],
   "source": []
  },
  {
   "cell_type": "code",
   "execution_count": null,
   "id": "c699cd75",
   "metadata": {},
   "outputs": [],
   "source": []
  },
  {
   "cell_type": "code",
   "execution_count": null,
   "id": "1552d6ea",
   "metadata": {},
   "outputs": [],
   "source": []
  },
  {
   "cell_type": "code",
   "execution_count": null,
   "id": "c4b63e62",
   "metadata": {},
   "outputs": [],
   "source": []
  },
  {
   "cell_type": "code",
   "execution_count": null,
   "id": "0b65f08d",
   "metadata": {},
   "outputs": [],
   "source": []
  },
  {
   "cell_type": "code",
   "execution_count": null,
   "id": "7ef32891",
   "metadata": {},
   "outputs": [],
   "source": []
  },
  {
   "cell_type": "code",
   "execution_count": null,
   "id": "559a9cb6",
   "metadata": {},
   "outputs": [],
   "source": []
  },
  {
   "cell_type": "code",
   "execution_count": null,
   "id": "fc7b69bb",
   "metadata": {},
   "outputs": [],
   "source": []
  },
  {
   "cell_type": "code",
   "execution_count": null,
   "id": "11ce9d5c",
   "metadata": {},
   "outputs": [],
   "source": []
  },
  {
   "cell_type": "code",
   "execution_count": null,
   "id": "5e069db2",
   "metadata": {},
   "outputs": [],
   "source": []
  },
  {
   "cell_type": "code",
   "execution_count": null,
   "id": "f2b9990c",
   "metadata": {},
   "outputs": [],
   "source": []
  },
  {
   "cell_type": "code",
   "execution_count": null,
   "id": "07042600",
   "metadata": {},
   "outputs": [],
   "source": []
  },
  {
   "cell_type": "code",
   "execution_count": null,
   "id": "3a853040",
   "metadata": {},
   "outputs": [],
   "source": []
  },
  {
   "cell_type": "code",
   "execution_count": null,
   "id": "b9762e05",
   "metadata": {},
   "outputs": [],
   "source": []
  },
  {
   "cell_type": "code",
   "execution_count": null,
   "id": "4e2512fb",
   "metadata": {},
   "outputs": [],
   "source": []
  },
  {
   "cell_type": "code",
   "execution_count": null,
   "id": "d609c00d",
   "metadata": {},
   "outputs": [],
   "source": []
  },
  {
   "cell_type": "markdown",
   "id": "2b56831d",
   "metadata": {},
   "source": [
    "### 4. XGBoost"
   ]
  },
  {
   "cell_type": "code",
   "execution_count": null,
   "id": "0ecdbc2b",
   "metadata": {},
   "outputs": [],
   "source": [
    "from xgboost import XGBClassifier"
   ]
  },
  {
   "cell_type": "markdown",
   "id": "dd01464d",
   "metadata": {},
   "source": [
    "#### Bag-Of-Words Features"
   ]
  },
  {
   "cell_type": "code",
   "execution_count": null,
   "id": "6f4441f2",
   "metadata": {},
   "outputs": [],
   "source": [
    "xgb_model = XGBClassifier(max_depth=6, n_estimators=1000).fit(xtrain_bow, ytrain)\n",
    "prediction = xgb_model.predict(xvalid_bow)\n",
    "f1_score(yvalid, prediction)"
   ]
  },
  {
   "cell_type": "markdown",
   "id": "756357b8",
   "metadata": {},
   "source": [
    "Let us create a prediction submission file."
   ]
  },
  {
   "cell_type": "code",
   "execution_count": null,
   "id": "beaa729f",
   "metadata": {},
   "outputs": [],
   "source": [
    "test_pred = xgb_model.predict(test_bow)\n",
    "test['label'] = test_pred\n",
    "submission = test[['id','label']]\n",
    "submission.to_csv('submission_xgb_bow.csv', index=False)"
   ]
  },
  {
   "cell_type": "markdown",
   "id": "af74273c",
   "metadata": {},
   "source": [
    "#### TF-IDF Features"
   ]
  },
  {
   "cell_type": "code",
   "execution_count": null,
   "id": "5db44ffc",
   "metadata": {},
   "outputs": [],
   "source": [
    "xgb = XGBClassifier(max_depth=6, n_estimators=1000).fit(xtrain_tfidf, ytrain)\n",
    "prediction = xgb.predict(xvalid_tfidf)\n",
    "f1_score(yvalid, prediction)"
   ]
  },
  {
   "cell_type": "markdown",
   "id": "88d755f8",
   "metadata": {},
   "source": [
    "#### Word2Vec Features"
   ]
  },
  {
   "cell_type": "code",
   "execution_count": null,
   "id": "0e1d5c07",
   "metadata": {},
   "outputs": [],
   "source": [
    "xgb = XGBClassifier(max_depth=6, n_estimators=1000, nthread= 3).fit(xtrain_w2v, ytrain)\n",
    "prediction = xgb.predict(xvalid_w2v)\n",
    "f1_score(yvalid, prediction)"
   ]
  },
  {
   "cell_type": "markdown",
   "id": "05b8f7a3",
   "metadata": {},
   "source": [
    "#### Doc2Vec Features "
   ]
  },
  {
   "cell_type": "code",
   "execution_count": null,
   "id": "3615187c",
   "metadata": {},
   "outputs": [],
   "source": [
    "xgb = XGBClassifier(max_depth=6, n_estimators=1000, nthread= 3).fit(xtrain_d2v, ytrain)\n",
    "prediction = xgb.predict(xvalid_d2v)\n",
    "f1_score(yvalid, prediction)"
   ]
  }
 ],
 "metadata": {
  "kernelspec": {
   "display_name": "Python 3 (ipykernel)",
   "language": "python",
   "name": "python3"
  },
  "language_info": {
   "codemirror_mode": {
    "name": "ipython",
    "version": 3
   },
   "file_extension": ".py",
   "mimetype": "text/x-python",
   "name": "python",
   "nbconvert_exporter": "python",
   "pygments_lexer": "ipython3",
   "version": "3.8.8"
  }
 },
 "nbformat": 4,
 "nbformat_minor": 5
}
