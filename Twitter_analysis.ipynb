{
 "cells": [
  {
   "cell_type": "markdown",
   "id": "d8d22713",
   "metadata": {},
   "source": [
    "# Twitter Sentiment Analysis"
   ]
  },
  {
   "cell_type": "markdown",
   "id": "c5eceda5",
   "metadata": {},
   "source": [
    "---\n",
    "\n",
    "## Problem Statement\n",
    "\n",
    "---\n",
    "\n",
    "Understanding the problem statement is of prime importance. This would help us get an intuition of what we might be dealing with. Let us see the problem statement -\n",
    "\n",
    "The aim of this problem is to detect hate speech in tweets. To simplify, we assume that a tweet contains hate speech if it has a racist or sexist sentiments in it. So, our task is to classify racist or sexist tweets from a mixture of tweets.\n",
    "\n",
    "Formally, given a training sample of tweets and labels, where label '1' denotes the tweet is racist/sexist i.e. a hate message and label '0' denotes the tweet is not racist/sexist i.e. not a hate message, your objective is to predict the labels on the test dataset.  \n",
    "\n",
    "The dataset can be found here:  \n",
    "https://www.kaggle.com/datasets/dv1453/twitter-sentiment-analysis-analytics-vidya?select=train_E6oV3lV.csv"
   ]
  },
  {
   "cell_type": "markdown",
   "id": "9405730a",
   "metadata": {},
   "source": [
    "### Essential Libraries\n",
    "\n",
    "Let us begin by importing the essential Python Libraries.\n",
    "\n",
    "> numpy : Library for Numeric Computations in Python  \n",
    "> pandas : Library for Data Acquisition and Preparation  \n",
    "> matplotlib : Low-level library for Data Visualization  \n",
    "> seaborn : Higher-level library for Data Visualization  \n",
    "> re : for applying regular expressions  \n",
    "> nltk : for Natural Language Processing  \n",
    "> string : for string manipulation  \n",
    "> warnings : for controlling warnings  "
   ]
  },
  {
   "cell_type": "code",
   "execution_count": 3,
   "id": "71208507",
   "metadata": {},
   "outputs": [],
   "source": [
    "import re\n",
    "\n",
    "import numpy as np\n",
    "\n",
    "import matplotlib.pyplot as plt\n",
    "\n",
    "import seaborn as sns\n",
    "\n",
    "import string as str\n",
    "\n",
    "import nltk\n",
    "\n",
    "import warnings as warn\n",
    "warn.filterwarnings(\"ignore\", category=DeprecationWarning)\n",
    "\n",
    "import pandas as pd \n",
    "pd.set_option(\"display.max_colwidth\", 200)\n",
    "\n",
    "%matplotlib inline"
   ]
  },
  {
   "cell_type": "markdown",
   "id": "378c6266",
   "metadata": {},
   "source": [
    "### Reading datasets\n",
    "\n",
    "---\n",
    "\n",
    "Let us read the train and test data sets using pandas."
   ]
  },
  {
   "cell_type": "code",
   "execution_count": 4,
   "id": "cb935811",
   "metadata": {},
   "outputs": [],
   "source": [
    "train  = pd.read_csv('train.csv')\n",
    "test = pd.read_csv('test.csv')"
   ]
  },
  {
   "cell_type": "markdown",
   "id": "9da0141a",
   "metadata": {},
   "source": [
    "---\n",
    "\n",
    "Check the vital statistics of the dataset using the `type` and `shape` attributes."
   ]
  },
  {
   "cell_type": "code",
   "execution_count": 5,
   "id": "c9a61254",
   "metadata": {},
   "outputs": [
    {
     "name": "stdout",
     "output_type": "stream",
     "text": [
      "Data type :  <class 'pandas.core.frame.DataFrame'>\n",
      "Data dims (train):  (31962, 3)\n",
      "Data dims (test):  (17197, 2)\n"
     ]
    }
   ],
   "source": [
    "print(\"Data type : \", type(train))\n",
    "print(\"Data dims (train): \", train.shape)\n",
    "print(\"Data dims (test): \", test.shape)"
   ]
  },
  {
   "cell_type": "markdown",
   "id": "8f2ac308",
   "metadata": {},
   "source": [
    "> Train set has 31,962 tweets and test set has 17,197 tweets with 3 and 2 columns respectively."
   ]
  },
  {
   "cell_type": "markdown",
   "id": "a796647e",
   "metadata": {},
   "source": [
    "Check the variables (and their types) in the dataset using the `dtypes` attribute."
   ]
  },
  {
   "cell_type": "code",
   "execution_count": 6,
   "id": "c52ee40a",
   "metadata": {},
   "outputs": [
    {
     "name": "stdout",
     "output_type": "stream",
     "text": [
      "Train:\n"
     ]
    },
    {
     "data": {
      "text/plain": [
       "id        int64\n",
       "label     int64\n",
       "tweet    object\n",
       "dtype: object"
      ]
     },
     "execution_count": 6,
     "metadata": {},
     "output_type": "execute_result"
    }
   ],
   "source": [
    "print(\"Train:\")\n",
    "train.dtypes"
   ]
  },
  {
   "cell_type": "code",
   "execution_count": 7,
   "id": "c04a1ad8",
   "metadata": {},
   "outputs": [
    {
     "name": "stdout",
     "output_type": "stream",
     "text": [
      "Test:\n"
     ]
    },
    {
     "data": {
      "text/plain": [
       "id        int64\n",
       "tweet    object\n",
       "dtype: object"
      ]
     },
     "execution_count": 7,
     "metadata": {},
     "output_type": "execute_result"
    }
   ],
   "source": [
    "print(\"Test:\")\n",
    "test.dtypes"
   ]
  },
  {
   "cell_type": "markdown",
   "id": "ea1bc064",
   "metadata": {},
   "source": [
    "## Data Preparation and Cleaning"
   ]
  },
  {
   "cell_type": "markdown",
   "id": "7b26de12",
   "metadata": {},
   "source": [
    "---\n",
    "\n",
    "### Data Inspection"
   ]
  },
  {
   "cell_type": "markdown",
   "id": "82838c4d",
   "metadata": {},
   "source": [
    "---\n",
    "\n",
    "We shall inspect expamples of non-hate messages."
   ]
  },
  {
   "cell_type": "code",
   "execution_count": 8,
   "id": "1f81386f",
   "metadata": {},
   "outputs": [
    {
     "data": {
      "text/html": [
       "<div>\n",
       "<style scoped>\n",
       "    .dataframe tbody tr th:only-of-type {\n",
       "        vertical-align: middle;\n",
       "    }\n",
       "\n",
       "    .dataframe tbody tr th {\n",
       "        vertical-align: top;\n",
       "    }\n",
       "\n",
       "    .dataframe thead th {\n",
       "        text-align: right;\n",
       "    }\n",
       "</style>\n",
       "<table border=\"1\" class=\"dataframe\">\n",
       "  <thead>\n",
       "    <tr style=\"text-align: right;\">\n",
       "      <th></th>\n",
       "      <th>id</th>\n",
       "      <th>label</th>\n",
       "      <th>tweet</th>\n",
       "    </tr>\n",
       "  </thead>\n",
       "  <tbody>\n",
       "    <tr>\n",
       "      <th>0</th>\n",
       "      <td>1</td>\n",
       "      <td>0</td>\n",
       "      <td>@user when a father is dysfunctional and is so selfish he drags his kids into his dysfunction.   #run</td>\n",
       "    </tr>\n",
       "    <tr>\n",
       "      <th>1</th>\n",
       "      <td>2</td>\n",
       "      <td>0</td>\n",
       "      <td>@user @user thanks for #lyft credit i can't use cause they don't offer wheelchair vans in pdx.    #disapointed #getthanked</td>\n",
       "    </tr>\n",
       "    <tr>\n",
       "      <th>2</th>\n",
       "      <td>3</td>\n",
       "      <td>0</td>\n",
       "      <td>bihday your majesty</td>\n",
       "    </tr>\n",
       "    <tr>\n",
       "      <th>3</th>\n",
       "      <td>4</td>\n",
       "      <td>0</td>\n",
       "      <td>#model   i love u take with u all the time in urð±!!! ðððð\n",
       "ð¦ð¦ð¦</td>\n",
       "    </tr>\n",
       "    <tr>\n",
       "      <th>4</th>\n",
       "      <td>5</td>\n",
       "      <td>0</td>\n",
       "      <td>factsguide: society now    #motivation</td>\n",
       "    </tr>\n",
       "    <tr>\n",
       "      <th>5</th>\n",
       "      <td>6</td>\n",
       "      <td>0</td>\n",
       "      <td>[2/2] huge fan fare and big talking before they leave. chaos and pay disputes when they get there. #allshowandnogo</td>\n",
       "    </tr>\n",
       "    <tr>\n",
       "      <th>6</th>\n",
       "      <td>7</td>\n",
       "      <td>0</td>\n",
       "      <td>@user camping tomorrow @user @user @user @user @user @user @user dannyâ¦</td>\n",
       "    </tr>\n",
       "    <tr>\n",
       "      <th>7</th>\n",
       "      <td>8</td>\n",
       "      <td>0</td>\n",
       "      <td>the next school year is the year for exams.ð¯ can't think about that ð­ #school #exams   #hate #imagine #actorslife #revolutionschool #girl</td>\n",
       "    </tr>\n",
       "    <tr>\n",
       "      <th>8</th>\n",
       "      <td>9</td>\n",
       "      <td>0</td>\n",
       "      <td>we won!!! love the land!!! #allin #cavs #champions #cleveland #clevelandcavaliers  â¦</td>\n",
       "    </tr>\n",
       "    <tr>\n",
       "      <th>9</th>\n",
       "      <td>10</td>\n",
       "      <td>0</td>\n",
       "      <td>@user @user welcome here !  i'm   it's so #gr8 !</td>\n",
       "    </tr>\n",
       "    <tr>\n",
       "      <th>10</th>\n",
       "      <td>11</td>\n",
       "      <td>0</td>\n",
       "      <td>â #ireland consumer price index (mom) climbed from previous 0.2% to 0.5% in may   #blog #silver #gold #forex</td>\n",
       "    </tr>\n",
       "    <tr>\n",
       "      <th>11</th>\n",
       "      <td>12</td>\n",
       "      <td>0</td>\n",
       "      <td>we are so selfish. #orlando #standwithorlando #pulseshooting #orlandoshooting #biggerproblems #selfish #heabreaking   #values #love #</td>\n",
       "    </tr>\n",
       "    <tr>\n",
       "      <th>12</th>\n",
       "      <td>13</td>\n",
       "      <td>0</td>\n",
       "      <td>i get to see my daddy today!!   #80days #gettingfed</td>\n",
       "    </tr>\n",
       "    <tr>\n",
       "      <th>15</th>\n",
       "      <td>16</td>\n",
       "      <td>0</td>\n",
       "      <td>ouch...junior is angryð#got7 #junior #yugyoem   #omg</td>\n",
       "    </tr>\n",
       "    <tr>\n",
       "      <th>16</th>\n",
       "      <td>17</td>\n",
       "      <td>0</td>\n",
       "      <td>i am thankful for having a paner. #thankful #positive</td>\n",
       "    </tr>\n",
       "  </tbody>\n",
       "</table>\n",
       "</div>"
      ],
      "text/plain": [
       "    id  label  \\\n",
       "0    1      0   \n",
       "1    2      0   \n",
       "2    3      0   \n",
       "3    4      0   \n",
       "4    5      0   \n",
       "5    6      0   \n",
       "6    7      0   \n",
       "7    8      0   \n",
       "8    9      0   \n",
       "9   10      0   \n",
       "10  11      0   \n",
       "11  12      0   \n",
       "12  13      0   \n",
       "15  16      0   \n",
       "16  17      0   \n",
       "\n",
       "                                                                                                                                              tweet  \n",
       "0                                             @user when a father is dysfunctional and is so selfish he drags his kids into his dysfunction.   #run  \n",
       "1                        @user @user thanks for #lyft credit i can't use cause they don't offer wheelchair vans in pdx.    #disapointed #getthanked  \n",
       "2                                                                                                                               bihday your majesty  \n",
       "3                                                            #model   i love u take with u all the time in urð±!!! ðððð\n",
       "ð¦ð¦ð¦    \n",
       "4                                                                                                            factsguide: society now    #motivation  \n",
       "5                              [2/2] huge fan fare and big talking before they leave. chaos and pay disputes when they get there. #allshowandnogo    \n",
       "6                                                                         @user camping tomorrow @user @user @user @user @user @user @user dannyâ¦  \n",
       "7   the next school year is the year for exams.ð¯ can't think about that ð­ #school #exams   #hate #imagine #actorslife #revolutionschool #girl  \n",
       "8                                                           we won!!! love the land!!! #allin #cavs #champions #cleveland #clevelandcavaliers  â¦   \n",
       "9                                                                                                 @user @user welcome here !  i'm   it's so #gr8 !   \n",
       "10                                   â #ireland consumer price index (mom) climbed from previous 0.2% to 0.5% in may   #blog #silver #gold #forex  \n",
       "11            we are so selfish. #orlando #standwithorlando #pulseshooting #orlandoshooting #biggerproblems #selfish #heabreaking   #values #love #  \n",
       "12                                                                                              i get to see my daddy today!!   #80days #gettingfed  \n",
       "15                                                                                         ouch...junior is angryð#got7 #junior #yugyoem   #omg   \n",
       "16                                                                                       i am thankful for having a paner. #thankful #positive       "
      ]
     },
     "execution_count": 8,
     "metadata": {},
     "output_type": "execute_result"
    }
   ],
   "source": [
    "train[train['label'] == 0].head(15)"
   ]
  },
  {
   "cell_type": "markdown",
   "id": "5fec45f7",
   "metadata": {},
   "source": [
    "---\n",
    "\n",
    "We shall inspect expamples of hate messages."
   ]
  },
  {
   "cell_type": "code",
   "execution_count": 9,
   "id": "97a180f4",
   "metadata": {},
   "outputs": [
    {
     "data": {
      "text/html": [
       "<div>\n",
       "<style scoped>\n",
       "    .dataframe tbody tr th:only-of-type {\n",
       "        vertical-align: middle;\n",
       "    }\n",
       "\n",
       "    .dataframe tbody tr th {\n",
       "        vertical-align: top;\n",
       "    }\n",
       "\n",
       "    .dataframe thead th {\n",
       "        text-align: right;\n",
       "    }\n",
       "</style>\n",
       "<table border=\"1\" class=\"dataframe\">\n",
       "  <thead>\n",
       "    <tr style=\"text-align: right;\">\n",
       "      <th></th>\n",
       "      <th>id</th>\n",
       "      <th>label</th>\n",
       "      <th>tweet</th>\n",
       "    </tr>\n",
       "  </thead>\n",
       "  <tbody>\n",
       "    <tr>\n",
       "      <th>13</th>\n",
       "      <td>14</td>\n",
       "      <td>1</td>\n",
       "      <td>@user #cnn calls #michigan middle school 'build the wall' chant '' #tcot</td>\n",
       "    </tr>\n",
       "    <tr>\n",
       "      <th>14</th>\n",
       "      <td>15</td>\n",
       "      <td>1</td>\n",
       "      <td>no comment!  in #australia   #opkillingbay #seashepherd #helpcovedolphins #thecove  #helpcovedolphins</td>\n",
       "    </tr>\n",
       "    <tr>\n",
       "      <th>17</th>\n",
       "      <td>18</td>\n",
       "      <td>1</td>\n",
       "      <td>retweet if you agree!</td>\n",
       "    </tr>\n",
       "    <tr>\n",
       "      <th>23</th>\n",
       "      <td>24</td>\n",
       "      <td>1</td>\n",
       "      <td>@user @user lumpy says i am a . prove it lumpy.</td>\n",
       "    </tr>\n",
       "    <tr>\n",
       "      <th>34</th>\n",
       "      <td>35</td>\n",
       "      <td>1</td>\n",
       "      <td>it's unbelievable that in the 21st century we'd need something like this. again. #neverump  #xenophobia</td>\n",
       "    </tr>\n",
       "    <tr>\n",
       "      <th>56</th>\n",
       "      <td>57</td>\n",
       "      <td>1</td>\n",
       "      <td>@user lets fight against  #love #peace</td>\n",
       "    </tr>\n",
       "    <tr>\n",
       "      <th>68</th>\n",
       "      <td>69</td>\n",
       "      <td>1</td>\n",
       "      <td>ð©the white establishment can't have blk folx running around loving themselves and promoting our greatness</td>\n",
       "    </tr>\n",
       "    <tr>\n",
       "      <th>77</th>\n",
       "      <td>78</td>\n",
       "      <td>1</td>\n",
       "      <td>@user hey, white people: you can call people 'white' by @user  #race  #identity #medâ¦</td>\n",
       "    </tr>\n",
       "    <tr>\n",
       "      <th>82</th>\n",
       "      <td>83</td>\n",
       "      <td>1</td>\n",
       "      <td>how the #altright uses  &amp;amp; insecurity to lure men into #whitesupremacy</td>\n",
       "    </tr>\n",
       "    <tr>\n",
       "      <th>111</th>\n",
       "      <td>112</td>\n",
       "      <td>1</td>\n",
       "      <td>@user i'm not interested in a #linguistics that doesn't address #race &amp;amp; . racism is about #power. #raciolinguistics bringsâ¦</td>\n",
       "    </tr>\n",
       "    <tr>\n",
       "      <th>114</th>\n",
       "      <td>115</td>\n",
       "      <td>1</td>\n",
       "      <td>@user why not @user mocked obama for being black.  @user @user @user @user #brexit</td>\n",
       "    </tr>\n",
       "    <tr>\n",
       "      <th>131</th>\n",
       "      <td>132</td>\n",
       "      <td>1</td>\n",
       "      <td>#people aren't protesting #trump because a #republican won-they do so because trump has fuhered  &amp;amp;â¦</td>\n",
       "    </tr>\n",
       "    <tr>\n",
       "      <th>151</th>\n",
       "      <td>152</td>\n",
       "      <td>1</td>\n",
       "      <td>yes it's  when you call #michelleobama a gorilla because racists have long thought of black people as no betâ¦</td>\n",
       "    </tr>\n",
       "    <tr>\n",
       "      <th>156</th>\n",
       "      <td>157</td>\n",
       "      <td>1</td>\n",
       "      <td>as the smaller hands show, barry probably lied about  being why his #knicks game sucked more than his #golfâ¦</td>\n",
       "    </tr>\n",
       "    <tr>\n",
       "      <th>167</th>\n",
       "      <td>168</td>\n",
       "      <td>1</td>\n",
       "      <td>@user @user you point one finger @user millions are pointed right back at you,  #jewishsupremacist</td>\n",
       "    </tr>\n",
       "  </tbody>\n",
       "</table>\n",
       "</div>"
      ],
      "text/plain": [
       "      id  label  \\\n",
       "13    14      1   \n",
       "14    15      1   \n",
       "17    18      1   \n",
       "23    24      1   \n",
       "34    35      1   \n",
       "56    57      1   \n",
       "68    69      1   \n",
       "77    78      1   \n",
       "82    83      1   \n",
       "111  112      1   \n",
       "114  115      1   \n",
       "131  132      1   \n",
       "151  152      1   \n",
       "156  157      1   \n",
       "167  168      1   \n",
       "\n",
       "                                                                                                                                 tweet  \n",
       "13                                                          @user #cnn calls #michigan middle school 'build the wall' chant '' #tcot    \n",
       "14                               no comment!  in #australia   #opkillingbay #seashepherd #helpcovedolphins #thecove  #helpcovedolphins  \n",
       "17                                                                                                              retweet if you agree!   \n",
       "23                                                                                     @user @user lumpy says i am a . prove it lumpy.  \n",
       "34                            it's unbelievable that in the 21st century we'd need something like this. again. #neverump  #xenophobia   \n",
       "56                                                                                             @user lets fight against  #love #peace   \n",
       "68                      ð©the white establishment can't have blk folx running around loving themselves and promoting our greatness    \n",
       "77                                             @user hey, white people: you can call people 'white' by @user  #race  #identity #medâ¦  \n",
       "82                                                       how the #altright uses  &amp; insecurity to lure men into #whitesupremacy      \n",
       "111  @user i'm not interested in a #linguistics that doesn't address #race &amp; . racism is about #power. #raciolinguistics bringsâ¦  \n",
       "114                                                 @user why not @user mocked obama for being black.  @user @user @user @user #brexit  \n",
       "131                         #people aren't protesting #trump because a #republican won-they do so because trump has fuhered  &amp;â¦   \n",
       "151                   yes it's  when you call #michelleobama a gorilla because racists have long thought of black people as no betâ¦   \n",
       "156                    as the smaller hands show, barry probably lied about  being why his #knicks game sucked more than his #golfâ¦   \n",
       "167                                 @user @user you point one finger @user millions are pointed right back at you,  #jewishsupremacist  "
      ]
     },
     "execution_count": 9,
     "metadata": {},
     "output_type": "execute_result"
    }
   ],
   "source": [
    "train[train['label'] == 1].head(15)"
   ]
  },
  {
   "cell_type": "markdown",
   "id": "25f1bf4a",
   "metadata": {},
   "source": [
    "Let us see the label-distribution in the training dataset."
   ]
  },
  {
   "cell_type": "code",
   "execution_count": 10,
   "id": "af60049c",
   "metadata": {},
   "outputs": [
    {
     "data": {
      "text/plain": [
       "0    29720\n",
       "1     2242\n",
       "Name: label, dtype: int64"
      ]
     },
     "execution_count": 10,
     "metadata": {},
     "output_type": "execute_result"
    }
   ],
   "source": [
    "train[\"label\"].value_counts()"
   ]
  },
  {
   "cell_type": "markdown",
   "id": "fff59fed",
   "metadata": {},
   "source": [
    "> An interesting distribution indeed! We have **29720 (92.985...%)** positive tweets while on the other hand we have **2242 (7.014...%)** hate tweets. So it is a highly imbalanced distribution."
   ]
  },
  {
   "cell_type": "markdown",
   "id": "37719219",
   "metadata": {},
   "source": [
    "### Changes in the distribution of length\n",
    "\n",
    "---\n",
    "\n",
    "We need to check if the distribution of the length of tweets of test data is similar to that of the train data. This is because we do not want our model to be a bad classifier due to not taking care of managing this conrol variable."
   ]
  },
  {
   "cell_type": "code",
   "execution_count": 11,
   "id": "d5b1a81e",
   "metadata": {},
   "outputs": [
    {
     "data": {
      "image/png": "[encoded data removed]",
      "text/plain": [
       "<Figure size 432x288 with 1 Axes>"
      ]
     },
     "metadata": {
      "needs_background": "light"
     },
     "output_type": "display_data"
    }
   ],
   "source": [
    "train_len = train['tweet'].str.len()\n",
    "test_len = test['tweet'].str.len()\n",
    "\n",
    "plt.hist(train_len, bins=25, label=\"train_data\")\n",
    "plt.hist(test_len, bins=25, label=\"test_data\")\n",
    "plt.legend()\n",
    "plt.show()"
   ]
  },
  {
   "cell_type": "markdown",
   "id": "5b015f99",
   "metadata": {},
   "source": [
    "> The overall shape of the two distributions are roughly similar. This means we have a well-distributed train-test split."
   ]
  },
  {
   "cell_type": "markdown",
   "id": "d45c5cda",
   "metadata": {},
   "source": [
    "### Data Cleaning"
   ]
  },
  {
   "cell_type": "code",
   "execution_count": 12,
   "id": "752ac5be",
   "metadata": {},
   "outputs": [
    {
     "data": {
      "text/html": [
       "<div>\n",
       "<style scoped>\n",
       "    .dataframe tbody tr th:only-of-type {\n",
       "        vertical-align: middle;\n",
       "    }\n",
       "\n",
       "    .dataframe tbody tr th {\n",
       "        vertical-align: top;\n",
       "    }\n",
       "\n",
       "    .dataframe thead th {\n",
       "        text-align: right;\n",
       "    }\n",
       "</style>\n",
       "<table border=\"1\" class=\"dataframe\">\n",
       "  <thead>\n",
       "    <tr style=\"text-align: right;\">\n",
       "      <th></th>\n",
       "      <th>id</th>\n",
       "      <th>label</th>\n",
       "      <th>tweet</th>\n",
       "    </tr>\n",
       "  </thead>\n",
       "  <tbody>\n",
       "    <tr>\n",
       "      <th>0</th>\n",
       "      <td>1</td>\n",
       "      <td>0</td>\n",
       "      <td>@user when a father is dysfunctional and is so selfish he drags his kids into his dysfunction.   #run</td>\n",
       "    </tr>\n",
       "    <tr>\n",
       "      <th>1</th>\n",
       "      <td>2</td>\n",
       "      <td>0</td>\n",
       "      <td>@user @user thanks for #lyft credit i can't use cause they don't offer wheelchair vans in pdx.    #disapointed #getthanked</td>\n",
       "    </tr>\n",
       "    <tr>\n",
       "      <th>2</th>\n",
       "      <td>3</td>\n",
       "      <td>0</td>\n",
       "      <td>bihday your majesty</td>\n",
       "    </tr>\n",
       "    <tr>\n",
       "      <th>3</th>\n",
       "      <td>4</td>\n",
       "      <td>0</td>\n",
       "      <td>#model   i love u take with u all the time in urð±!!! ðððð\n",
       "ð¦ð¦ð¦</td>\n",
       "    </tr>\n",
       "    <tr>\n",
       "      <th>4</th>\n",
       "      <td>5</td>\n",
       "      <td>0</td>\n",
       "      <td>factsguide: society now    #motivation</td>\n",
       "    </tr>\n",
       "    <tr>\n",
       "      <th>...</th>\n",
       "      <td>...</td>\n",
       "      <td>...</td>\n",
       "      <td>...</td>\n",
       "    </tr>\n",
       "    <tr>\n",
       "      <th>31957</th>\n",
       "      <td>31958</td>\n",
       "      <td>0</td>\n",
       "      <td>ate @user isz that youuu?ðððððððððâ¤ï¸</td>\n",
       "    </tr>\n",
       "    <tr>\n",
       "      <th>31958</th>\n",
       "      <td>31959</td>\n",
       "      <td>0</td>\n",
       "      <td>to see nina turner on the airwaves trying to wrap herself in the mantle of a genuine hero like shirley chisolm. #shame #imwithher</td>\n",
       "    </tr>\n",
       "    <tr>\n",
       "      <th>31959</th>\n",
       "      <td>31960</td>\n",
       "      <td>0</td>\n",
       "      <td>listening to sad songs on a monday morning otw to work is sad</td>\n",
       "    </tr>\n",
       "    <tr>\n",
       "      <th>31960</th>\n",
       "      <td>31961</td>\n",
       "      <td>1</td>\n",
       "      <td>@user #sikh #temple vandalised in in #calgary, #wso condemns  act</td>\n",
       "    </tr>\n",
       "    <tr>\n",
       "      <th>31961</th>\n",
       "      <td>31962</td>\n",
       "      <td>0</td>\n",
       "      <td>thank you @user for you follow</td>\n",
       "    </tr>\n",
       "  </tbody>\n",
       "</table>\n",
       "<p>31962 rows × 3 columns</p>\n",
       "</div>"
      ],
      "text/plain": [
       "          id  label  \\\n",
       "0          1      0   \n",
       "1          2      0   \n",
       "2          3      0   \n",
       "3          4      0   \n",
       "4          5      0   \n",
       "...      ...    ...   \n",
       "31957  31958      0   \n",
       "31958  31959      0   \n",
       "31959  31960      0   \n",
       "31960  31961      1   \n",
       "31961  31962      0   \n",
       "\n",
       "                                                                                                                                     tweet  \n",
       "0                                    @user when a father is dysfunctional and is so selfish he drags his kids into his dysfunction.   #run  \n",
       "1               @user @user thanks for #lyft credit i can't use cause they don't offer wheelchair vans in pdx.    #disapointed #getthanked  \n",
       "2                                                                                                                      bihday your majesty  \n",
       "3                                                   #model   i love u take with u all the time in urð±!!! ðððð\n",
       "ð¦ð¦ð¦    \n",
       "4                                                                                                   factsguide: society now    #motivation  \n",
       "...                                                                                                                                    ...  \n",
       "31957                                                                 ate @user isz that youuu?ðððððððððâ¤ï¸   \n",
       "31958    to see nina turner on the airwaves trying to wrap herself in the mantle of a genuine hero like shirley chisolm. #shame #imwithher  \n",
       "31959                                                                      listening to sad songs on a monday morning otw to work is sad    \n",
       "31960                                                                  @user #sikh #temple vandalised in in #calgary, #wso condemns  act    \n",
       "31961                                                                                                     thank you @user for you follow    \n",
       "\n",
       "[31962 rows x 3 columns]"
      ]
     },
     "execution_count": 12,
     "metadata": {},
     "output_type": "execute_result"
    }
   ],
   "source": [
    "data = pd.read_csv('train.csv')\n",
    "data_clean = data.copy()\n",
    "data_clean"
   ]
  },
  {
   "cell_type": "markdown",
   "id": "2816c7c3",
   "metadata": {},
   "source": [
    "Upon initial inspection it seems that the 'id' column is quite redundant, and hence will be dropped. In addition, the following operations will be performed to make the dataset more legible: \n",
    "1. Renaming 'tweet' to 'Cleaned Tweet'\n",
    "2. Reindexing of S/N to start from 1\n"
   ]
  },
  {
   "cell_type": "code",
   "execution_count": 13,
   "id": "2101f420",
   "metadata": {},
   "outputs": [
    {
     "data": {
      "text/html": [
       "<div>\n",
       "<style scoped>\n",
       "    .dataframe tbody tr th:only-of-type {\n",
       "        vertical-align: middle;\n",
       "    }\n",
       "\n",
       "    .dataframe tbody tr th {\n",
       "        vertical-align: top;\n",
       "    }\n",
       "\n",
       "    .dataframe thead th {\n",
       "        text-align: right;\n",
       "    }\n",
       "</style>\n",
       "<table border=\"1\" class=\"dataframe\">\n",
       "  <thead>\n",
       "    <tr style=\"text-align: right;\">\n",
       "      <th></th>\n",
       "      <th>label</th>\n",
       "      <th>Cleaned Tweet</th>\n",
       "    </tr>\n",
       "  </thead>\n",
       "  <tbody>\n",
       "    <tr>\n",
       "      <th>1</th>\n",
       "      <td>0</td>\n",
       "      <td>@user when a father is dysfunctional and is so selfish he drags his kids into his dysfunction.   #run</td>\n",
       "    </tr>\n",
       "    <tr>\n",
       "      <th>2</th>\n",
       "      <td>0</td>\n",
       "      <td>@user @user thanks for #lyft credit i can't use cause they don't offer wheelchair vans in pdx.    #disapointed #getthanked</td>\n",
       "    </tr>\n",
       "    <tr>\n",
       "      <th>3</th>\n",
       "      <td>0</td>\n",
       "      <td>bihday your majesty</td>\n",
       "    </tr>\n",
       "    <tr>\n",
       "      <th>4</th>\n",
       "      <td>0</td>\n",
       "      <td>#model   i love u take with u all the time in urð±!!! ðððð\n",
       "ð¦ð¦ð¦</td>\n",
       "    </tr>\n",
       "    <tr>\n",
       "      <th>5</th>\n",
       "      <td>0</td>\n",
       "      <td>factsguide: society now    #motivation</td>\n",
       "    </tr>\n",
       "    <tr>\n",
       "      <th>...</th>\n",
       "      <td>...</td>\n",
       "      <td>...</td>\n",
       "    </tr>\n",
       "    <tr>\n",
       "      <th>31958</th>\n",
       "      <td>0</td>\n",
       "      <td>ate @user isz that youuu?ðððððððððâ¤ï¸</td>\n",
       "    </tr>\n",
       "    <tr>\n",
       "      <th>31959</th>\n",
       "      <td>0</td>\n",
       "      <td>to see nina turner on the airwaves trying to wrap herself in the mantle of a genuine hero like shirley chisolm. #shame #imwithher</td>\n",
       "    </tr>\n",
       "    <tr>\n",
       "      <th>31960</th>\n",
       "      <td>0</td>\n",
       "      <td>listening to sad songs on a monday morning otw to work is sad</td>\n",
       "    </tr>\n",
       "    <tr>\n",
       "      <th>31961</th>\n",
       "      <td>1</td>\n",
       "      <td>@user #sikh #temple vandalised in in #calgary, #wso condemns  act</td>\n",
       "    </tr>\n",
       "    <tr>\n",
       "      <th>31962</th>\n",
       "      <td>0</td>\n",
       "      <td>thank you @user for you follow</td>\n",
       "    </tr>\n",
       "  </tbody>\n",
       "</table>\n",
       "<p>31962 rows × 2 columns</p>\n",
       "</div>"
      ],
      "text/plain": [
       "       label  \\\n",
       "1          0   \n",
       "2          0   \n",
       "3          0   \n",
       "4          0   \n",
       "5          0   \n",
       "...      ...   \n",
       "31958      0   \n",
       "31959      0   \n",
       "31960      0   \n",
       "31961      1   \n",
       "31962      0   \n",
       "\n",
       "                                                                                                                             Cleaned Tweet  \n",
       "1                                    @user when a father is dysfunctional and is so selfish he drags his kids into his dysfunction.   #run  \n",
       "2               @user @user thanks for #lyft credit i can't use cause they don't offer wheelchair vans in pdx.    #disapointed #getthanked  \n",
       "3                                                                                                                      bihday your majesty  \n",
       "4                                                   #model   i love u take with u all the time in urð±!!! ðððð\n",
       "ð¦ð¦ð¦    \n",
       "5                                                                                                   factsguide: society now    #motivation  \n",
       "...                                                                                                                                    ...  \n",
       "31958                                                                 ate @user isz that youuu?ðððððððððâ¤ï¸   \n",
       "31959    to see nina turner on the airwaves trying to wrap herself in the mantle of a genuine hero like shirley chisolm. #shame #imwithher  \n",
       "31960                                                                      listening to sad songs on a monday morning otw to work is sad    \n",
       "31961                                                                  @user #sikh #temple vandalised in in #calgary, #wso condemns  act    \n",
       "31962                                                                                                     thank you @user for you follow    \n",
       "\n",
       "[31962 rows x 2 columns]"
      ]
     },
     "execution_count": 13,
     "metadata": {},
     "output_type": "execute_result"
    }
   ],
   "source": [
    "data_clean.drop(data_clean.columns[0], axis=1, inplace=True) \n",
    "data_clean = data_clean.rename(columns = {'tweet':'Cleaned Tweet'})\n",
    "data_clean.index = np.arange(1, len(data_clean) + 1)\n",
    "data_clean"
   ]
  },
  {
   "cell_type": "markdown",
   "id": "48f3ccc4",
   "metadata": {},
   "source": [
    "There seem to be a lot of unconventional characters in our data. To tackle this, we can run a simple for loop and remove non-ascii values from our dataset using the `encode()` and `decode()` functions in Python."
   ]
  },
  {
   "cell_type": "code",
   "execution_count": 14,
   "id": "6f5c1ff6",
   "metadata": {},
   "outputs": [
    {
     "data": {
      "text/html": [
       "<div>\n",
       "<style scoped>\n",
       "    .dataframe tbody tr th:only-of-type {\n",
       "        vertical-align: middle;\n",
       "    }\n",
       "\n",
       "    .dataframe tbody tr th {\n",
       "        vertical-align: top;\n",
       "    }\n",
       "\n",
       "    .dataframe thead th {\n",
       "        text-align: right;\n",
       "    }\n",
       "</style>\n",
       "<table border=\"1\" class=\"dataframe\">\n",
       "  <thead>\n",
       "    <tr style=\"text-align: right;\">\n",
       "      <th></th>\n",
       "      <th>label</th>\n",
       "      <th>Cleaned Tweet</th>\n",
       "    </tr>\n",
       "  </thead>\n",
       "  <tbody>\n",
       "    <tr>\n",
       "      <th>1</th>\n",
       "      <td>0</td>\n",
       "      <td>@user when a father is dysfunctional and is so selfish he drags his kids into his dysfunction.   #run</td>\n",
       "    </tr>\n",
       "    <tr>\n",
       "      <th>2</th>\n",
       "      <td>0</td>\n",
       "      <td>@user @user thanks for #lyft credit i can't use cause they don't offer wheelchair vans in pdx.    #disapointed #getthanked</td>\n",
       "    </tr>\n",
       "    <tr>\n",
       "      <th>3</th>\n",
       "      <td>0</td>\n",
       "      <td>bihday your majesty</td>\n",
       "    </tr>\n",
       "    <tr>\n",
       "      <th>4</th>\n",
       "      <td>0</td>\n",
       "      <td>#model   i love u take with u all the time in ur!!!</td>\n",
       "    </tr>\n",
       "    <tr>\n",
       "      <th>5</th>\n",
       "      <td>0</td>\n",
       "      <td>factsguide: society now    #motivation</td>\n",
       "    </tr>\n",
       "    <tr>\n",
       "      <th>...</th>\n",
       "      <td>...</td>\n",
       "      <td>...</td>\n",
       "    </tr>\n",
       "    <tr>\n",
       "      <th>31958</th>\n",
       "      <td>0</td>\n",
       "      <td>ate @user isz that youuu?</td>\n",
       "    </tr>\n",
       "    <tr>\n",
       "      <th>31959</th>\n",
       "      <td>0</td>\n",
       "      <td>to see nina turner on the airwaves trying to wrap herself in the mantle of a genuine hero like shirley chisolm. #shame #imwithher</td>\n",
       "    </tr>\n",
       "    <tr>\n",
       "      <th>31960</th>\n",
       "      <td>0</td>\n",
       "      <td>listening to sad songs on a monday morning otw to work is sad</td>\n",
       "    </tr>\n",
       "    <tr>\n",
       "      <th>31961</th>\n",
       "      <td>1</td>\n",
       "      <td>@user #sikh #temple vandalised in in #calgary, #wso condemns  act</td>\n",
       "    </tr>\n",
       "    <tr>\n",
       "      <th>31962</th>\n",
       "      <td>0</td>\n",
       "      <td>thank you @user for you follow</td>\n",
       "    </tr>\n",
       "  </tbody>\n",
       "</table>\n",
       "<p>31962 rows × 2 columns</p>\n",
       "</div>"
      ],
      "text/plain": [
       "       label  \\\n",
       "1          0   \n",
       "2          0   \n",
       "3          0   \n",
       "4          0   \n",
       "5          0   \n",
       "...      ...   \n",
       "31958      0   \n",
       "31959      0   \n",
       "31960      0   \n",
       "31961      1   \n",
       "31962      0   \n",
       "\n",
       "                                                                                                                             Cleaned Tweet  \n",
       "1                                    @user when a father is dysfunctional and is so selfish he drags his kids into his dysfunction.   #run  \n",
       "2               @user @user thanks for #lyft credit i can't use cause they don't offer wheelchair vans in pdx.    #disapointed #getthanked  \n",
       "3                                                                                                                      bihday your majesty  \n",
       "4                                                                                   #model   i love u take with u all the time in ur!!!     \n",
       "5                                                                                                   factsguide: society now    #motivation  \n",
       "...                                                                                                                                    ...  \n",
       "31958                                                                                                           ate @user isz that youuu?   \n",
       "31959    to see nina turner on the airwaves trying to wrap herself in the mantle of a genuine hero like shirley chisolm. #shame #imwithher  \n",
       "31960                                                                      listening to sad songs on a monday morning otw to work is sad    \n",
       "31961                                                                  @user #sikh #temple vandalised in in #calgary, #wso condemns  act    \n",
       "31962                                                                                                     thank you @user for you follow    \n",
       "\n",
       "[31962 rows x 2 columns]"
      ]
     },
     "execution_count": 14,
     "metadata": {},
     "output_type": "execute_result"
    }
   ],
   "source": [
    "new_values = []\n",
    "\n",
    "for string in data_clean['Cleaned Tweet']:\n",
    "    encoded_string = string.encode(\"ascii\", \"ignore\")\n",
    "    decode_string = encoded_string.decode()\n",
    "    new_values.append(decode_string)\n",
    "    \n",
    "    \n",
    "data_clean['Cleaned Tweet'] = new_values\n",
    "\n",
    "data_clean"
   ]
  },
  {
   "cell_type": "markdown",
   "id": "6dbdde10",
   "metadata": {},
   "source": [
    "There still seem to be a lot of anomalous strings in our data, &gt and &amp for instance. We will have to clean these individually. In addition, @user will be removed as it is not pertinent to our analysis. The reformatting of ';' to ',' will also be performed. "
   ]
  },
  {
   "cell_type": "code",
   "execution_count": 15,
   "id": "a2a39cd4",
   "metadata": {
    "scrolled": true
   },
   "outputs": [
    {
     "data": {
      "text/html": [
       "<div>\n",
       "<style scoped>\n",
       "    .dataframe tbody tr th:only-of-type {\n",
       "        vertical-align: middle;\n",
       "    }\n",
       "\n",
       "    .dataframe tbody tr th {\n",
       "        vertical-align: top;\n",
       "    }\n",
       "\n",
       "    .dataframe thead th {\n",
       "        text-align: right;\n",
       "    }\n",
       "</style>\n",
       "<table border=\"1\" class=\"dataframe\">\n",
       "  <thead>\n",
       "    <tr style=\"text-align: right;\">\n",
       "      <th></th>\n",
       "      <th>label</th>\n",
       "      <th>Cleaned Tweet</th>\n",
       "    </tr>\n",
       "  </thead>\n",
       "  <tbody>\n",
       "    <tr>\n",
       "      <th>1</th>\n",
       "      <td>0</td>\n",
       "      <td>when a father is dysfunctional and is so selfish he drags his kids into his dysfunction.   #run</td>\n",
       "    </tr>\n",
       "    <tr>\n",
       "      <th>2</th>\n",
       "      <td>0</td>\n",
       "      <td>thanks for #lyft credit i can't use cause they don't offer wheelchair vans in pdx.    #disapointed #getthanked</td>\n",
       "    </tr>\n",
       "    <tr>\n",
       "      <th>3</th>\n",
       "      <td>0</td>\n",
       "      <td>bihday your majesty</td>\n",
       "    </tr>\n",
       "    <tr>\n",
       "      <th>4</th>\n",
       "      <td>0</td>\n",
       "      <td>#model   i love u take with u all the time in ur!!!</td>\n",
       "    </tr>\n",
       "    <tr>\n",
       "      <th>5</th>\n",
       "      <td>0</td>\n",
       "      <td>factsguide: society now    #motivation</td>\n",
       "    </tr>\n",
       "    <tr>\n",
       "      <th>...</th>\n",
       "      <td>...</td>\n",
       "      <td>...</td>\n",
       "    </tr>\n",
       "    <tr>\n",
       "      <th>31958</th>\n",
       "      <td>0</td>\n",
       "      <td>ate  isz that youuu?</td>\n",
       "    </tr>\n",
       "    <tr>\n",
       "      <th>31959</th>\n",
       "      <td>0</td>\n",
       "      <td>to see nina turner on the airwaves trying to wrap herself in the mantle of a genuine hero like shirley chisolm. #shame #imwithher</td>\n",
       "    </tr>\n",
       "    <tr>\n",
       "      <th>31960</th>\n",
       "      <td>0</td>\n",
       "      <td>listening to sad songs on a monday morning otw to work is sad</td>\n",
       "    </tr>\n",
       "    <tr>\n",
       "      <th>31961</th>\n",
       "      <td>1</td>\n",
       "      <td>#sikh #temple vandalised in in #calgary, #wso condemns  act</td>\n",
       "    </tr>\n",
       "    <tr>\n",
       "      <th>31962</th>\n",
       "      <td>0</td>\n",
       "      <td>thank you  for you follow</td>\n",
       "    </tr>\n",
       "  </tbody>\n",
       "</table>\n",
       "<p>31962 rows × 2 columns</p>\n",
       "</div>"
      ],
      "text/plain": [
       "       label  \\\n",
       "1          0   \n",
       "2          0   \n",
       "3          0   \n",
       "4          0   \n",
       "5          0   \n",
       "...      ...   \n",
       "31958      0   \n",
       "31959      0   \n",
       "31960      0   \n",
       "31961      1   \n",
       "31962      0   \n",
       "\n",
       "                                                                                                                             Cleaned Tweet  \n",
       "1                                          when a father is dysfunctional and is so selfish he drags his kids into his dysfunction.   #run  \n",
       "2                           thanks for #lyft credit i can't use cause they don't offer wheelchair vans in pdx.    #disapointed #getthanked  \n",
       "3                                                                                                                      bihday your majesty  \n",
       "4                                                                                   #model   i love u take with u all the time in ur!!!     \n",
       "5                                                                                                   factsguide: society now    #motivation  \n",
       "...                                                                                                                                    ...  \n",
       "31958                                                                                                                ate  isz that youuu?   \n",
       "31959    to see nina turner on the airwaves trying to wrap herself in the mantle of a genuine hero like shirley chisolm. #shame #imwithher  \n",
       "31960                                                                      listening to sad songs on a monday morning otw to work is sad    \n",
       "31961                                                                        #sikh #temple vandalised in in #calgary, #wso condemns  act    \n",
       "31962                                                                                                          thank you  for you follow    \n",
       "\n",
       "[31962 rows x 2 columns]"
      ]
     },
     "execution_count": 15,
     "metadata": {},
     "output_type": "execute_result"
    }
   ],
   "source": [
    "data_clean['Cleaned Tweet'] = data_clean['Cleaned Tweet'].str.replace('&gt;3','')\n",
    "data_clean['Cleaned Tweet'] = data_clean['Cleaned Tweet'].str.replace('&amp','')\n",
    "data_clean['Cleaned Tweet'] = data_clean['Cleaned Tweet'].str.replace('--&gt;','')\n",
    "data_clean['Cleaned Tweet'] = data_clean['Cleaned Tweet'].str.replace('@user','')\n",
    "data_clean['Cleaned Tweet'] = data_clean['Cleaned Tweet'].str.replace(';',',')\n",
    "data_clean"
   ]
  },
  {
   "cell_type": "markdown",
   "id": "8fda28dc",
   "metadata": {},
   "source": [
    "### Text Normalisation\n",
    "\n",
    "---\n",
    "\n",
    "Here we will use `PorterStemmer()` function from the nltk module to normalise tweets. But before that we will have to tokenise the tweets. \n",
    "\n",
    "Tokens are individual terms or words, and tokenisation is the process of splitting a string of text into individual tokens."
   ]
  },
  {
   "cell_type": "code",
   "execution_count": 16,
   "id": "f111dc90",
   "metadata": {},
   "outputs": [],
   "source": [
    "tweet_tokens = data_clean['Cleaned Tweet'].apply(lambda x: x.split()) # tokenising tweets"
   ]
  },
  {
   "cell_type": "code",
   "execution_count": 17,
   "id": "0ac1acf1",
   "metadata": {},
   "outputs": [
    {
     "data": {
      "text/plain": [
       "1                  [when, a, father, is, dysfunctional, and, is, so, selfish, he, drags, his, kids, into, his, dysfunction., #run]\n",
       "2    [thanks, for, #lyft, credit, i, can't, use, cause, they, don't, offer, wheelchair, vans, in, pdx., #disapointed, #getthanked]\n",
       "3                                                                                                          [bihday, your, majesty]\n",
       "4                                                                   [#model, i, love, u, take, with, u, all, the, time, in, ur!!!]\n",
       "5                                                                                         [factsguide:, society, now, #motivation]\n",
       "Name: Cleaned Tweet, dtype: object"
      ]
     },
     "execution_count": 17,
     "metadata": {},
     "output_type": "execute_result"
    }
   ],
   "source": [
    "tweet_tokens.head()"
   ]
  },
  {
   "cell_type": "markdown",
   "id": "edc1a177",
   "metadata": {},
   "source": [
    "> We shall normalise tokens and join them back together."
   ]
  },
  {
   "cell_type": "code",
   "execution_count": 18,
   "id": "434132a0",
   "metadata": {},
   "outputs": [],
   "source": [
    "from nltk.stem.porter import *\n",
    "\n",
    "pStemmer = PorterStemmer()\n",
    "\n",
    "tweet_tokens = tweet_tokens.apply(lambda x: [pStemmer.stem(i) for i in x]) # stemming"
   ]
  },
  {
   "cell_type": "code",
   "execution_count": 19,
   "id": "451e1444",
   "metadata": {},
   "outputs": [
    {
     "name": "stdout",
     "output_type": "stream",
     "text": [
      "defaultdict(<class 'set'>, {'and': {'and'}})\n",
      "defaultdict(<class 'set'>, {'and': {'and'}, 'so': {'so'}})\n",
      "defaultdict(<class 'set'>, {'and': {'and'}, 'so': {'so'}, '#run': {'#run'}})\n",
      "defaultdict(<class 'set'>, {'and': {'and'}, 'so': {'so'}, '#run': {'#run'}, 'father': {'father'}})\n",
      "defaultdict(<class 'set'>, {'and': {'and'}, 'so': {'so'}, '#run': {'#run'}, 'father': {'father'}, 'kid': {'kid'}})\n",
      "defaultdict(<class 'set'>, {'and': {'and'}, 'so': {'so'}, '#run': {'#run'}, 'father': {'father'}, 'kid': {'kid'}, 'a': {'a'}})\n",
      "defaultdict(<class 'set'>, {'and': {'and'}, 'so': {'so'}, '#run': {'#run'}, 'father': {'father'}, 'kid': {'kid'}, 'a': {'a'}, 'when': {'when'}})\n",
      "defaultdict(<class 'set'>, {'and': {'and'}, 'so': {'so'}, '#run': {'#run'}, 'father': {'father'}, 'kid': {'kid'}, 'a': {'a'}, 'when': {'when'}, 'dysfunct': {'dysfunct'}})\n",
      "defaultdict(<class 'set'>, {'and': {'and'}, 'so': {'so'}, '#run': {'#run'}, 'father': {'father'}, 'kid': {'kid'}, 'a': {'a'}, 'when': {'when'}, 'dysfunct': {'dysfunct'}, 'hi': {'hi'}})\n",
      "defaultdict(<class 'set'>, {'and': {'and'}, 'so': {'so'}, '#run': {'#run'}, 'father': {'father'}, 'kid': {'kid'}, 'a': {'a'}, 'when': {'when'}, 'dysfunct': {'dysfunct'}, 'hi': {'hi'}, 'drag': {'drag'}})\n",
      "defaultdict(<class 'set'>, {'and': {'and'}, 'so': {'so'}, '#run': {'#run'}, 'father': {'father'}, 'kid': {'kid'}, 'a': {'a'}, 'when': {'when'}, 'dysfunct': {'dysfunct'}, 'hi': {'hi'}, 'drag': {'drag'}, 'into': {'into'}})\n",
      "defaultdict(<class 'set'>, {'and': {'and'}, 'so': {'so'}, '#run': {'#run'}, 'father': {'father'}, 'kid': {'kid'}, 'a': {'a'}, 'when': {'when'}, 'dysfunct': {'dysfunct'}, 'hi': {'hi'}, 'drag': {'drag'}, 'into': {'into'}, 'dysfunction.': {'dysfunction.'}})\n",
      "defaultdict(<class 'set'>, {'and': {'and'}, 'so': {'so'}, '#run': {'#run'}, 'father': {'father'}, 'kid': {'kid'}, 'a': {'a'}, 'when': {'when'}, 'dysfunct': {'dysfunct'}, 'hi': {'hi'}, 'drag': {'drag'}, 'into': {'into'}, 'dysfunction.': {'dysfunction.'}, 'selfish': {'selfish'}})\n",
      "defaultdict(<class 'set'>, {'and': {'and'}, 'so': {'so'}, '#run': {'#run'}, 'father': {'father'}, 'kid': {'kid'}, 'a': {'a'}, 'when': {'when'}, 'dysfunct': {'dysfunct'}, 'hi': {'hi'}, 'drag': {'drag'}, 'into': {'into'}, 'dysfunction.': {'dysfunction.'}, 'selfish': {'selfish'}, 'he': {'he'}})\n",
      "defaultdict(<class 'set'>, {'and': {'and'}, 'so': {'so'}, '#run': {'#run'}, 'father': {'father'}, 'kid': {'kid'}, 'a': {'a'}, 'when': {'when'}, 'dysfunct': {'dysfunct'}, 'hi': {'hi'}, 'drag': {'drag'}, 'into': {'into'}, 'dysfunction.': {'dysfunction.'}, 'selfish': {'selfish'}, 'he': {'he'}, 'is': {'is'}})\n"
     ]
    }
   ],
   "source": [
    "#needs update\n",
    "from collections import defaultdict\n",
    "\n",
    "tokenList = set(tweet_tokens[1]) #just tweet tokens throws TypeError\n",
    "\n",
    "dictionary = defaultdict(set)\n",
    "\n",
    "for i in tokenList:\n",
    "    dictionary[pStemmer.stem(i)].add(i)\n",
    "    print(dictionary)"
   ]
  },
  {
   "cell_type": "markdown",
   "id": "d9fa9524",
   "metadata": {},
   "source": [
    "## Story Visualisation and Generation"
   ]
  },
  {
   "cell_type": "markdown",
   "id": "126fd25c",
   "metadata": {},
   "source": [
    "---\n",
    "\n",
    "**1. Visualising frequently-used words in tweets: `WordCloud`**\n",
    "\n",
    "One may wonder, \"How well are the sentiments distributed across the train dataset?\" For this, we can understand frequently-used words by plotting wordclouds.\n",
    "\n",
    "A wordcloud is a form of visualisation wherein the size of the word depicts the frequency of usage.\n",
    "\n",
    "Let us visualise all the words our data using the wordcloud plot."
   ]
  },
  {
   "cell_type": "code",
   "execution_count": 20,
   "id": "26b5e710",
   "metadata": {},
   "outputs": [
    {
     "ename": "ModuleNotFoundError",
     "evalue": "No module named 'wordcloud'",
     "output_type": "error",
     "traceback": [
      "\u001b[1;31m---------------------------------------------------------------------------\u001b[0m",
      "\u001b[1;31mModuleNotFoundError\u001b[0m                       Traceback (most recent call last)",
      "\u001b[1;32m<ipython-input-20-2deaa3b7cab2>\u001b[0m in \u001b[0;36m<module>\u001b[1;34m\u001b[0m\n\u001b[0;32m      1\u001b[0m \u001b[0mwords\u001b[0m \u001b[1;33m=\u001b[0m \u001b[1;34m' '\u001b[0m\u001b[1;33m.\u001b[0m\u001b[0mjoin\u001b[0m\u001b[1;33m(\u001b[0m\u001b[1;33m[\u001b[0m\u001b[0mtoken\u001b[0m \u001b[1;32mfor\u001b[0m \u001b[0mtoken\u001b[0m \u001b[1;32min\u001b[0m \u001b[0mdata_clean\u001b[0m\u001b[1;33m[\u001b[0m\u001b[1;34m'Cleaned Tweet'\u001b[0m\u001b[1;33m]\u001b[0m\u001b[1;33m]\u001b[0m\u001b[1;33m)\u001b[0m\u001b[1;33m\u001b[0m\u001b[1;33m\u001b[0m\u001b[0m\n\u001b[0;32m      2\u001b[0m \u001b[1;33m\u001b[0m\u001b[0m\n\u001b[1;32m----> 3\u001b[1;33m \u001b[1;32mfrom\u001b[0m \u001b[0mwordcloud\u001b[0m \u001b[1;32mimport\u001b[0m \u001b[0mWordCloud\u001b[0m\u001b[1;33m\u001b[0m\u001b[1;33m\u001b[0m\u001b[0m\n\u001b[0m\u001b[0;32m      4\u001b[0m \u001b[0mwordcloud\u001b[0m \u001b[1;33m=\u001b[0m \u001b[0mWordCloud\u001b[0m\u001b[1;33m(\u001b[0m\u001b[0mwidth\u001b[0m\u001b[1;33m=\u001b[0m \u001b[1;36m980\u001b[0m\u001b[1;33m,\u001b[0m \u001b[0mheight\u001b[0m\u001b[1;33m=\u001b[0m \u001b[1;36m650\u001b[0m\u001b[1;33m,\u001b[0m \u001b[0mrandom_state\u001b[0m\u001b[1;33m=\u001b[0m\u001b[1;36m21\u001b[0m\u001b[1;33m,\u001b[0m \u001b[0mmax_font_size\u001b[0m\u001b[1;33m=\u001b[0m\u001b[1;36m120\u001b[0m\u001b[1;33m)\u001b[0m\u001b[1;33m.\u001b[0m\u001b[0mgenerate\u001b[0m\u001b[1;33m(\u001b[0m\u001b[0mwords\u001b[0m\u001b[1;33m)\u001b[0m\u001b[1;33m\u001b[0m\u001b[1;33m\u001b[0m\u001b[0m\n\u001b[0;32m      5\u001b[0m \u001b[1;33m\u001b[0m\u001b[0m\n",
      "\u001b[1;31mModuleNotFoundError\u001b[0m: No module named 'wordcloud'"
     ]
    }
   ],
   "source": [
    "words = ' '.join([token for token in data_clean['Cleaned Tweet']])\n",
    "\n",
    "from wordcloud import WordCloud\n",
    "wordcloud = WordCloud(width= 980, height= 650, random_state=21, max_font_size=120).generate(words)\n",
    "\n",
    "plt.figure(figsize=(15, 10))\n",
    "plt.imshow(wordcloud, interpolation=\"bilinear\")\n",
    "plt.axis('off')\n",
    "plt.show()"
   ]
  },
  {
   "cell_type": "markdown",
   "id": "db14a726",
   "metadata": {},
   "source": [
    "We can see most of the words are positive or neutral. Words like **love, happy, friend, life, day** etc are most frequently used. \n",
    "\n",
    "However, this does not give us any real idea about the words associated with tweets of racist/sexist sentiment. So, for solving this we could plot separate wordclouds for both the classes (racist/sexist or positive) in our train data."
   ]
  },
  {
   "cell_type": "markdown",
   "id": "febadda2",
   "metadata": {},
   "source": [
    "**2. Words in positive tweets**"
   ]
  },
  {
   "cell_type": "code",
   "execution_count": null,
   "id": "b53ec7b2",
   "metadata": {},
   "outputs": [],
   "source": [
    "positive_words =' '.join([token for token in data_clean['Cleaned Tweet'][data_clean['label'] == 0]])\n",
    "\n",
    "wordcloud = WordCloud(width=980, height=650, random_state=21, max_font_size=120).generate(positive_words)\n",
    "plt.figure(figsize=(15, 10))\n",
    "plt.imshow(wordcloud, interpolation=\"bilinear\")\n",
    "plt.axis('off')\n",
    "plt.show()"
   ]
  },
  {
   "cell_type": "markdown",
   "id": "0b4f5c89",
   "metadata": {},
   "source": [
    "Most of the frequently-used words seem compatible with the sentiment, i.e, non-racist/sexists (or positive) tweets. Similarly, we will plot the word cloud for the other sentiment. \n",
    "\n",
    "We should be expecting to see negative, racist, and sexist tokens."
   ]
  },
  {
   "cell_type": "markdown",
   "id": "5444b2ec",
   "metadata": {},
   "source": [
    "**3. Words in negative tweets**"
   ]
  },
  {
   "cell_type": "code",
   "execution_count": null,
   "id": "e2897f16",
   "metadata": {},
   "outputs": [],
   "source": [
    "negative_words = ' '.join([token for token in data_clean['Cleaned Tweet'][data_clean['label'] == 1]])\n",
    "wordcloud = WordCloud(width=980, height=650, random_state=21, max_font_size=120).generate(negative_words)\n",
    "plt.figure(figsize=(15, 10))\n",
    "plt.imshow(wordcloud, interpolation=\"bilinear\")\n",
    "plt.axis('off')\n",
    "plt.show()"
   ]
  },
  {
   "cell_type": "markdown",
   "id": "b89bb4e6",
   "metadata": {},
   "source": [
    "As clearly shown, most of these tokens have negative connotations. So, it seems we have a pretty good amount of text data to work on. Next we will analyse the impact of hashtags/trends in our twitter data."
   ]
  },
  {
   "cell_type": "markdown",
   "id": "8d0cc950",
   "metadata": {},
   "source": [
    "**4. Understanding the impact of Hashtags on sentiments of tweets**"
   ]
  },
  {
   "cell_type": "code",
   "execution_count": 21,
   "id": "c13cb8c3",
   "metadata": {},
   "outputs": [],
   "source": [
    "# function to collect hashtags\n",
    "def extract_hashtag(x):\n",
    "    hashtags = []\n",
    "    # Loop over the words in the tweet\n",
    "    for i in x:\n",
    "        ht = re.findall(r\"#(\\w+)\", i)\n",
    "        hashtags.append(ht)\n",
    "\n",
    "    return hashtags"
   ]
  },
  {
   "cell_type": "code",
   "execution_count": 22,
   "id": "1a5eface",
   "metadata": {},
   "outputs": [],
   "source": [
    "# extracting hashtags from non racist/sexist tweets\n",
    "\n",
    "HT_positive = extract_hashtag(data_clean['Cleaned Tweet'][data_clean['label'] == 0])\n",
    "\n",
    "# extracting hashtags from racist/sexist tweets\n",
    "HT_negative = extract_hashtag(data_clean['Cleaned Tweet'][data_clean['label'] == 1])\n",
    "\n",
    "# unnesting list\n",
    "HT_positive = sum(HT_positive,[])\n",
    "HT_negative = sum(HT_negative,[])"
   ]
  },
  {
   "cell_type": "markdown",
   "id": "54c1de4a",
   "metadata": {},
   "source": [
    "Now that we have prepared our lists of hashtags for both the sentiments, we can plot the top *n* hashtags. So, first we shall check the hashtags in the positive tweets."
   ]
  },
  {
   "cell_type": "markdown",
   "id": "3266f27c",
   "metadata": {},
   "source": [
    "#### Positive Tweets "
   ]
  },
  {
   "cell_type": "code",
   "execution_count": 23,
   "id": "62d8255c",
   "metadata": {},
   "outputs": [
    {
     "data": {
      "image/png": "[encoded data removed]",
      "text/plain": [
       "<Figure size 1440x360 with 1 Axes>"
      ]
     },
     "metadata": {
      "needs_background": "light"
     },
     "output_type": "display_data"
    }
   ],
   "source": [
    "a = nltk.FreqDist(HT_positive)\n",
    "d = pd.DataFrame({'Hashtag': list(a.keys()),\n",
    "                  'Count': list(a.values())})\n",
    "\n",
    "# selecting top 25 most frequent hashtags     \n",
    "d = d.nlargest(columns=\"Count\", n = 25) \n",
    "plt.figure(figsize=(20,5))\n",
    "ax = sns.barplot(data=d, x= \"Hashtag\", y = \"Count\")\n",
    "ax.set(ylabel = 'Count')\n",
    "plt.show()"
   ]
  },
  {
   "cell_type": "markdown",
   "id": "77276b83",
   "metadata": {},
   "source": [
    "The above hashtags are positive and the plot makes sense. We would expect negative tokens in the plot of the second list. \n",
    "Let us check the most frequent hashtags appearing in the racist/sexist tweets."
   ]
  },
  {
   "cell_type": "markdown",
   "id": "d987576d",
   "metadata": {},
   "source": [
    "#### Negative Tweets"
   ]
  },
  {
   "cell_type": "code",
   "execution_count": 24,
   "id": "2508c24f",
   "metadata": {
    "scrolled": true
   },
   "outputs": [
    {
     "data": {
      "image/png": "[encoded data removed]",
      "text/plain": [
       "<Figure size 1440x360 with 1 Axes>"
      ]
     },
     "metadata": {
      "needs_background": "light"
     },
     "output_type": "display_data"
    }
   ],
   "source": [
    "b = nltk.FreqDist(HT_negative)\n",
    "e = pd.DataFrame({'Hashtag': list(b.keys()), 'Count': list(b.values())})\n",
    "\n",
    "# selecting top 25 most frequent hashtags\n",
    "e = e.nlargest(columns=\"Count\", n = 25)   \n",
    "plt.figure(figsize=(20,5))\n",
    "ax = sns.barplot(data=e, x= \"Hashtag\", y = \"Count\")"
   ]
  },
  {
   "cell_type": "markdown",
   "id": "7a27595a",
   "metadata": {},
   "source": [
    "As we expected, most of the terms are negative with a few neutral terms as well. So, it’s not a bad idea to keep these hashtags in our data as they contain some useful information. Next, we will try to extract features from the tokenised tweets."
   ]
  },
  {
   "cell_type": "markdown",
   "id": "c823554d",
   "metadata": {},
   "source": [
    "## Extracting Features from Tokenised Tweets\n",
    "---"
   ]
  },
  {
   "cell_type": "code",
   "execution_count": 25,
   "id": "0c5f04a9",
   "metadata": {
    "scrolled": false
   },
   "outputs": [],
   "source": [
    "from sklearn.feature_extraction.text import CountVectorizer, TfidfVectorizer\n",
    "import gensim"
   ]
  },
  {
   "cell_type": "markdown",
   "id": "5f5365fa",
   "metadata": {},
   "source": [
    "### Bag-Of-Words Features"
   ]
  },
  {
   "cell_type": "code",
   "execution_count": null,
   "id": "9ac28f7c",
   "metadata": {},
   "outputs": [],
   "source": [
    "BOW_vectoriser = CountVectorizer(max_df=0.90, min_df=2, max_features=1500, stop_words='english')\n",
    "BOW = BOW_vectoriser.fit_transform(data_clean['Cleaned Tweet'])\n",
    "BOW.shape"
   ]
  },
  {
   "cell_type": "markdown",
   "id": "10f6604b",
   "metadata": {},
   "source": [
    "### TF-IDF Features"
   ]
  },
  {
   "cell_type": "code",
   "execution_count": 27,
   "id": "70add09c",
   "metadata": {},
   "outputs": [
    {
     "data": {
      "text/plain": [
       "(31962, 1500)"
      ]
     },
     "execution_count": 27,
     "metadata": {},
     "output_type": "execute_result"
    }
   ],
   "source": [
    "tfidf_vectoriser = TfidfVectorizer(max_df=0.90, min_df=2, max_features=1500, stop_words='english')\n",
    "tfidf = tfidf_vectoriser.fit_transform(data_clean['Cleaned Tweet'])\n",
    "tfidf.shape"
   ]
  },
  {
   "cell_type": "markdown",
   "id": "4f88eb77",
   "metadata": {},
   "source": [
    "### Word Embeddings\n",
    "\n",
    "---\n",
    "\n",
    "**1. Word2Vec Embeddings**"
   ]
  },
  {
   "cell_type": "code",
   "execution_count": 28,
   "id": "83760ac1",
   "metadata": {},
   "outputs": [
    {
     "data": {
      "text/plain": [
       "(29656731, 39494500)"
      ]
     },
     "execution_count": 28,
     "metadata": {},
     "output_type": "execute_result"
    }
   ],
   "source": [
    "tweet_tokens = data_clean['Cleaned Tweet'].apply(lambda x: x.split()) # tokenising tweets\n",
    "\n",
    "model_w2v = gensim.models.Word2Vec(\n",
    "            tweet_tokens,\n",
    "            vector_size=500, # desired no. of features/independent variables \n",
    "            window=5, # context window size\n",
    "            min_count=2,\n",
    "            sg = 1, # 1 for skip-gram model\n",
    "            hs = 0,\n",
    "            negative = 10, # for negative sampling\n",
    "            workers= 2, # no.of cores\n",
    "            seed = 17)\n",
    "\n",
    "model_w2v.train(tweet_tokens, total_examples= len(data_clean['Cleaned Tweet']), epochs=100)"
   ]
  },
  {
   "cell_type": "markdown",
   "id": "4ececb0b",
   "metadata": {},
   "source": [
    "Let us test out a bit with our Word2Vec model and see how does it perform. We will specify a word and the model will pull out the most similar words from the dataset."
   ]
  },
  {
   "cell_type": "code",
   "execution_count": 29,
   "id": "3ba89c6e",
   "metadata": {},
   "outputs": [
    {
     "data": {
      "text/plain": [
       "[('candid', 0.5197229981422424),\n",
       " ('ci', 0.48887085914611816),\n",
       " ('guy,', 0.4682387113571167),\n",
       " ('#marriedlife', 0.4465824365615845),\n",
       " ('bride:', 0.4317118227481842),\n",
       " ('couples', 0.4201198220252991),\n",
       " ('equate', 0.4059399664402008),\n",
       " ('delivery!', 0.40293681621551514),\n",
       " ('meal', 0.39827901124954224),\n",
       " ('bernice', 0.39444291591644287)]"
      ]
     },
     "execution_count": 29,
     "metadata": {},
     "output_type": "execute_result"
    }
   ],
   "source": [
    "model_w2v.wv.most_similar(positive=\"romantic\")"
   ]
  },
  {
   "cell_type": "code",
   "execution_count": 30,
   "id": "bd4a6617",
   "metadata": {},
   "outputs": [
    {
     "data": {
      "text/plain": [
       "[('fuhered', 0.4833714962005615),\n",
       " ('unmasking', 0.4764857292175293),\n",
       " ('suppoer.', 0.46622177958488464),\n",
       " ('overwhelmingly', 0.45656949281692505),\n",
       " (\"thank'\", 0.4504398703575134),\n",
       " ('ally,', 0.4490242302417755),\n",
       " ('pains', 0.44593822956085205),\n",
       " (\"chicago's\", 0.44425860047340393),\n",
       " ('churchill', 0.4389585256576538),\n",
       " ('suppoer', 0.4388943314552307)]"
      ]
     },
     "execution_count": 30,
     "metadata": {},
     "output_type": "execute_result"
    }
   ],
   "source": [
    "model_w2v.wv.most_similar(positive=\"trump\")"
   ]
  },
  {
   "cell_type": "code",
   "execution_count": 31,
   "id": "b37cbe23",
   "metadata": {},
   "outputs": [
    {
     "data": {
      "text/plain": [
       "array([ 0.13810916,  0.18173894, -0.21666192,  0.01923945,  0.10621822,\n",
       "       -0.1447709 , -0.39417028,  0.18633375,  0.10407609, -0.26208556,\n",
       "        0.13745156,  0.21154763, -0.0234284 , -0.28335187, -0.5080524 ,\n",
       "       -0.20988739,  0.06123903,  0.06814706,  0.06712219,  0.37891868,\n",
       "       -0.22890748,  0.59185076, -0.14385232,  0.17192227, -0.27534533,\n",
       "       -0.36220017,  0.48708317, -0.10602003, -0.16032209,  0.20671237,\n",
       "        0.14308777, -0.06484983,  0.04802632, -0.25366718,  0.08610397,\n",
       "        0.0610539 , -0.16482775, -0.13133366, -0.1308878 ,  0.0696993 ,\n",
       "       -0.11369119,  0.39446038,  0.19813722, -0.32259792,  0.1230233 ,\n",
       "        0.11055737, -0.08014707,  0.18009146, -0.12291203,  0.08097925,\n",
       "        0.33916187,  0.10714907, -0.05803441, -0.25623146, -0.09116316,\n",
       "       -0.5402513 ,  0.06330857,  0.28016174,  0.09350181,  0.03529779,\n",
       "        0.12546884, -0.09645325,  0.07115983,  0.02689272,  0.09315413,\n",
       "       -0.01860072, -0.00712802,  0.23466334, -0.31710067, -0.31889707,\n",
       "        0.18183316, -0.08177945, -0.00102309, -0.01943869,  0.388744  ,\n",
       "       -0.04453607, -0.5228895 ,  0.09312494,  0.18330342, -0.16018267,\n",
       "        0.30680257,  0.02145178,  0.36637625, -0.3630986 ,  0.52138937,\n",
       "       -0.33959973,  0.08595242, -0.07293524, -0.34834033, -0.00348759,\n",
       "        0.15315163, -0.09179435, -0.1255854 , -0.51740927,  0.11891517,\n",
       "       -0.12550533,  0.05631084, -0.26562798, -0.19922313, -0.1070023 ,\n",
       "       -0.1082884 ,  0.17036892, -0.12371822, -0.16415039, -0.3267077 ,\n",
       "       -0.00388761,  0.02866358,  0.00406447, -0.22205395, -0.36588007,\n",
       "       -0.29101866, -0.04454854,  0.06866072, -0.20593563, -0.0781659 ,\n",
       "       -0.25836945,  0.2164589 , -0.25880867,  0.2736727 , -0.08519598,\n",
       "       -0.2611711 , -0.08551805, -0.19393459, -0.22281264,  0.08765189,\n",
       "       -0.09055206, -0.35463884,  0.36158502, -0.024167  ,  0.1581311 ,\n",
       "        0.04921497,  0.13779332, -0.09383398, -0.04965222, -0.25105068,\n",
       "       -0.17846023, -0.08371089, -0.18878835,  0.27997762,  0.40351307,\n",
       "       -0.14597666, -0.17137682, -0.243583  ,  0.36175776, -0.3944313 ,\n",
       "        0.3262564 , -0.04691903, -0.05987778, -0.1643914 , -0.01680214,\n",
       "        0.25507987, -0.5046094 ,  0.21940054,  0.09446958, -0.18808445,\n",
       "       -0.02547618, -0.23605102,  0.12167803,  0.20325683, -0.37728536,\n",
       "       -0.18528496,  0.07358953, -0.18206033,  0.18724449,  0.20620415,\n",
       "       -0.14156033,  0.05832864,  0.10231216,  0.02360876,  0.36255023,\n",
       "       -0.19666374,  0.08865729,  0.2139408 , -0.47041088, -0.35411933,\n",
       "        0.00137035,  0.18551454, -0.12108067,  0.6680074 ,  0.28940853,\n",
       "       -0.20078827,  0.08020718, -0.18590051, -0.13145429,  0.43374038,\n",
       "       -0.12594295,  0.08189346, -0.08585647,  0.3086307 ,  0.3646465 ,\n",
       "        0.21677545, -0.24640362,  0.15744492, -0.20502338, -0.26584274,\n",
       "        0.19540042, -0.05958522,  0.1909923 , -0.10846446,  0.01680587,\n",
       "        0.07614113,  0.20210618,  0.56033057,  0.26577234, -0.24372555,\n",
       "       -0.04940349, -0.09998056, -0.28954655, -0.3364607 , -0.25342494,\n",
       "        0.15757494,  0.10402431,  0.28404665,  0.21517727, -0.15770999,\n",
       "       -0.01607346, -0.04097949,  0.07638498,  0.2047642 , -0.00605996,\n",
       "       -0.31875256,  0.48297364,  0.20962758, -0.12953316, -0.24925052,\n",
       "       -0.05558829, -0.24865802,  0.00826646,  0.1337437 ,  0.2204719 ,\n",
       "       -0.4185181 , -0.05659214,  0.14583981,  0.20538197,  0.22745743,\n",
       "        0.14150044,  0.33706897, -0.0237356 , -0.6727591 , -0.22867061,\n",
       "       -0.275563  ,  0.33856955,  0.12841852, -0.02244258,  0.3029348 ,\n",
       "       -0.31782192,  0.28903595, -0.1535059 ,  0.07827955, -0.7560689 ,\n",
       "        0.00600308,  0.34704927,  0.3650159 ,  0.2844492 , -0.35595208,\n",
       "        0.02248681,  0.37478596, -0.13216147,  0.60412043, -0.06170023,\n",
       "        0.141806  , -0.01344935, -0.4632499 ,  0.04431022, -0.21671505,\n",
       "       -0.20919214,  0.48150656,  0.6281887 ,  0.30052817, -0.38807002,\n",
       "        0.308021  ,  0.4658029 , -0.25863716,  0.06117351,  0.10966388,\n",
       "        0.01422102,  0.03528267, -0.09630859,  0.08969374, -0.01005578,\n",
       "        0.45730156,  0.4339584 ,  0.47243866, -0.01712457, -0.11975186,\n",
       "       -0.55139667,  0.0116426 , -0.46486825, -0.19868809,  0.54500645,\n",
       "       -0.28511563, -0.29352677, -0.02143804,  0.01183268,  0.4719505 ,\n",
       "       -0.03094166, -0.04400672, -0.23270097, -0.04942897,  0.35792696,\n",
       "       -0.18445888, -0.08620647,  0.11925038, -0.14291163, -0.5007101 ,\n",
       "       -0.86888105,  0.42246205,  0.03600991, -0.09183439,  0.35146508,\n",
       "       -0.45678133, -0.33214387, -0.32442814,  0.07226129,  0.06391445,\n",
       "        0.01921117, -0.16073313,  0.26406634, -0.03829138, -0.34410068,\n",
       "       -0.16958413,  0.25402603,  0.00128941,  0.13792643, -0.04480065,\n",
       "       -0.39505872,  0.22886136,  0.03017936,  0.494505  ,  0.05477946,\n",
       "        0.14119247, -0.23049194,  0.17424895,  0.26522744,  0.00670289,\n",
       "        0.17646283, -0.23373516,  0.40567178,  0.23797981, -0.27745324,\n",
       "        0.19435453, -0.34000984, -0.04839556, -0.17425704,  0.0545276 ,\n",
       "        0.36356246, -0.20863509, -0.01545049,  0.25965053,  0.49898654,\n",
       "        0.35906288, -0.080024  , -0.09047089,  0.06975596,  0.15441176,\n",
       "       -0.7291866 ,  0.36896968,  0.27066046,  0.00205079,  0.01905657,\n",
       "       -0.0271688 , -0.3265653 ,  0.3566964 ,  0.27191076,  0.0036602 ,\n",
       "        0.06013026, -0.20649368, -0.27996525, -0.12231358,  0.10407716,\n",
       "        0.05101452, -0.21126528, -0.16655879, -0.0982019 , -0.21046697,\n",
       "       -0.07669477, -0.13596588,  0.00855854,  0.11743467, -0.24071509,\n",
       "       -0.1473372 , -0.0699739 , -0.02681793,  0.17958064,  0.00527147,\n",
       "        0.47053966,  0.00461447, -0.32005858, -0.21884905,  0.45732033,\n",
       "       -0.08840971,  0.28574684, -0.03039029,  0.2100548 ,  0.18765509,\n",
       "       -0.3250919 , -0.25672454, -0.17686003, -0.1962693 ,  0.12233201,\n",
       "       -0.04503568,  0.38083342, -0.12352056, -0.12216178, -0.14276189,\n",
       "       -0.05713228,  0.5567273 , -0.05280722,  0.11003638, -0.13001558,\n",
       "       -0.13071196,  0.482837  , -0.37350696, -0.2660658 ,  0.5217732 ,\n",
       "        0.02727478,  0.07872169, -0.07176188,  0.5496181 ,  0.14992158,\n",
       "        0.38328323,  0.10556551,  0.27814856, -0.58705306,  0.1816724 ,\n",
       "       -0.1466089 , -0.23267528,  0.12072449,  0.29937634, -0.13827087,\n",
       "       -0.18336093,  0.18589686,  0.33440325, -0.00769012, -0.2811432 ,\n",
       "        0.31424156, -0.22488762,  0.01320373,  0.05760942, -0.26383838,\n",
       "       -0.3511112 ,  0.09553517, -0.19442031, -0.07499713, -0.27087528,\n",
       "        0.14518332,  0.18500969,  0.20977522,  0.05214066, -0.06251409,\n",
       "        0.20016879,  0.00713575, -0.01263829,  0.43802083,  0.23996352,\n",
       "        0.1472421 ,  0.43646675,  0.15345304,  0.07836694, -0.25370386,\n",
       "       -0.47766644, -0.16800304,  0.15416087,  0.29072365, -0.13823712,\n",
       "       -0.05340799,  0.4153283 , -0.0990373 , -0.599221  ,  0.265752  ,\n",
       "       -0.28499538,  0.11403484,  0.27796504,  0.24417213, -0.2988958 ,\n",
       "       -0.29040822,  0.14140041,  0.16907012,  0.11458617,  0.13502377,\n",
       "       -0.08223402, -0.20211686, -0.18707246,  0.14065062,  0.12812999,\n",
       "       -0.0823706 , -0.0999152 ,  0.2421633 , -0.13409232,  0.14386633,\n",
       "       -0.0631659 , -0.1976665 ,  0.04068956,  0.128106  ,  0.33279642,\n",
       "       -0.17729674, -0.4272039 , -0.09874691, -0.02028586,  0.22417192],\n",
       "      dtype=float32)"
      ]
     },
     "execution_count": 31,
     "metadata": {},
     "output_type": "execute_result"
    }
   ],
   "source": [
    "model_w2v.wv['love']"
   ]
  },
  {
   "cell_type": "code",
   "execution_count": 32,
   "id": "cdc7edd8",
   "metadata": {},
   "outputs": [
    {
     "data": {
      "text/plain": [
       "500"
      ]
     },
     "execution_count": 32,
     "metadata": {},
     "output_type": "execute_result"
    }
   ],
   "source": [
    "len(model_w2v.wv['love']) #The length of the vector is 500"
   ]
  },
  {
   "cell_type": "markdown",
   "id": "1b8f48d2",
   "metadata": {},
   "source": [
    "#### Preparing Vectors for Tweets\n",
    "\n",
    "We will use the below function to create a vector for each tweet by taking the average of the vectors of the words present in the tweet."
   ]
  },
  {
   "cell_type": "code",
   "execution_count": 33,
   "id": "e767732e",
   "metadata": {},
   "outputs": [],
   "source": [
    "def word_vec(tokens, size):\n",
    "    vec = np.zeros(size).reshape((1, size))\n",
    "    count = 0.\n",
    "    for word in tokens:\n",
    "        try:\n",
    "            vec += model_w2v.wv[word].reshape((1, size))\n",
    "            count += 1.\n",
    "        except KeyError: # handling the case where the token is not in vocabulary\n",
    "                         \n",
    "            continue\n",
    "    if count != 0:\n",
    "        vec /= count\n",
    "    return vec"
   ]
  },
  {
   "cell_type": "markdown",
   "id": "acdd3de6",
   "metadata": {},
   "source": [
    "#### Preparing word2vec Feature Set"
   ]
  },
  {
   "cell_type": "code",
   "execution_count": 34,
   "id": "10fb01c9",
   "metadata": {},
   "outputs": [
    {
     "data": {
      "text/plain": [
       "(31962, 500)"
      ]
     },
     "execution_count": 34,
     "metadata": {},
     "output_type": "execute_result"
    }
   ],
   "source": [
    "wordvec_arrays = np.zeros((len(tweet_tokens), 500))\n",
    "\n",
    "for i in range(len(tweet_tokens)):\n",
    "    wordvec_arrays[i,:] = word_vec(tweet_tokens[i+1], 500)\n",
    "\n",
    "wordvec = pd.DataFrame(wordvec_arrays)\n",
    "wordvec.shape"
   ]
  },
  {
   "cell_type": "markdown",
   "id": "52b22fdd",
   "metadata": {},
   "source": [
    "> Now we have 500 new features, whereas in Bag of Words and TF-IDF we had 1500 features."
   ]
  },
  {
   "cell_type": "markdown",
   "id": "69d844d7",
   "metadata": {},
   "source": [
    "**2. Doc2Vec Embedding**\n",
    "\n",
    "Let us load the required libraries."
   ]
  },
  {
   "cell_type": "code",
   "execution_count": null,
   "id": "47ee1a6b",
   "metadata": {},
   "outputs": [
    {
     "name": "stderr",
     "output_type": "stream",
     "text": [
      "[nltk_data] Downloading package punkt to\n",
      "[nltk_data]     C:\\Users\\sharm\\AppData\\Roaming\\nltk_data...\n",
      "[nltk_data]   Unzipping tokenizers\\punkt.zip.\n"
     ]
    },
    {
     "data": {
      "text/plain": [
       "True"
      ]
     },
     "execution_count": 8,
     "metadata": {},
     "output_type": "execute_result"
    }
   ],
   "source": [
    "from tqdm import tqdm\n",
    "tqdm.pandas(desc=\"progress-bar\")\n",
    "from gensim.models.doc2vec import TaggedDocument\n",
    "from nltk.tokenize import word_tokenize\n",
    "import nltk\n",
    "nltk.download('punkt')"
   ]
  },
  {
   "cell_type": "markdown",
   "id": "38afc0c2",
   "metadata": {},
   "source": [
    "To implement doc2vec, we need to **labelise** or **tag** each tokenised tweet with unique IDs. We can do so by using Gensim’s `TaggedDocument()` function."
   ]
  },
  {
   "cell_type": "code",
   "execution_count": null,
   "id": "3e95fe1f",
   "metadata": {},
   "outputs": [],
   "source": [
    "def add_label(twt):\n",
    "    output = []\n",
    "    counter = 0\n",
    "    for i, s in zip(twt.index, twt):\n",
    "        output.append(TaggedDocument(s, tags = [counter]))\n",
    "        counter += 1\n",
    "    #output.append(TaggedDocument(twt, tags=[str(i)]) for i, _d in zip(twt.index, twt))\n",
    "    return output"
   ]
  },
  {
   "cell_type": "code",
   "execution_count": null,
   "id": "dd74ffe0",
   "metadata": {},
   "outputs": [],
   "source": [
    "tweet_label = add_label(tweet_tokens) # label all the tweets"
   ]
  },
  {
   "cell_type": "markdown",
   "id": "b1f607d9",
   "metadata": {},
   "source": [
    "Let's have a look at the result."
   ]
  },
  {
   "cell_type": "code",
   "execution_count": null,
   "id": "3fafbe79",
   "metadata": {},
   "outputs": [
    {
     "data": {
      "text/plain": [
       "[TaggedDocument(words=['when', 'a', 'father', 'is', 'dysfunctional', 'and', 'is', 'so', 'selfish', 'he', 'drags', 'his', 'kids', 'into', 'his', 'dysfunction.', '#run'], tags=[0]),\n",
       " TaggedDocument(words=['thanks', 'for', '#lyft', 'credit', 'i', \"can't\", 'use', 'cause', 'they', \"don't\", 'offer', 'wheelchair', 'vans', 'in', 'pdx.', '#disapointed', '#getthanked'], tags=[1]),\n",
       " TaggedDocument(words=['bihday', 'your', 'majesty'], tags=[2]),\n",
       " TaggedDocument(words=['#model', 'i', 'love', 'u', 'take', 'with', 'u', 'all', 'the', 'time', 'in', 'ur!!!'], tags=[3]),\n",
       " TaggedDocument(words=['factsguide:', 'society', 'now', '#motivation'], tags=[4]),\n",
       " TaggedDocument(words=['[2/2]', 'huge', 'fan', 'fare', 'and', 'big', 'talking', 'before', 'they', 'leave.', 'chaos', 'and', 'pay', 'disputes', 'when', 'they', 'get', 'there.', '#allshowandnogo'], tags=[5]),\n",
       " TaggedDocument(words=['camping', 'tomorrow', 'danny'], tags=[6]),\n",
       " TaggedDocument(words=['the', 'next', 'school', 'year', 'is', 'the', 'year', 'for', 'exams.', \"can't\", 'think', 'about', 'that', '#school', '#exams', '#hate', '#imagine', '#actorslife', '#revolutionschool', '#girl'], tags=[7]),\n",
       " TaggedDocument(words=['we', 'won!!!', 'love', 'the', 'land!!!', '#allin', '#cavs', '#champions', '#cleveland', '#clevelandcavaliers'], tags=[8]),\n",
       " TaggedDocument(words=['welcome', 'here', '!', \"i'm\", \"it's\", 'so', '#gr8', '!'], tags=[9]),\n",
       " TaggedDocument(words=['#ireland', 'consumer', 'price', 'index', '(mom)', 'climbed', 'from', 'previous', '0.2%', 'to', '0.5%', 'in', 'may', '#blog', '#silver', '#gold', '#forex'], tags=[10])]"
      ]
     },
     "execution_count": 38,
     "metadata": {},
     "output_type": "execute_result"
    }
   ],
   "source": [
    "tweet_label[:11]"
   ]
  },
  {
   "cell_type": "markdown",
   "id": "e9b90280",
   "metadata": {},
   "source": [
    "Now let's train a `doc2vec` model."
   ]
  },
  {
   "cell_type": "code",
   "execution_count": null,
   "id": "2f9f9213",
   "metadata": {},
   "outputs": [
    {
     "name": "stderr",
     "output_type": "stream",
     "text": [
      "100%|██████████████████████████████████████████████████████████████| 31962/31962 [00:00<00:00, 1957885.01it/s]\n"
     ]
    }
   ],
   "source": [
    "model_d2v = gensim.models.Doc2Vec(dm=1, # dm = 1 for ‘distributed memory’ model \n",
    "                                  dm_mean=1, # dm = 1 for using mean of the context word vectors\n",
    "                                  vector_size=500, # no. of desired features\n",
    "                                  window=5, # width of the context window\n",
    "                                  negative=7, # if > 0 then negative sampling will be used\n",
    "                                  min_count=5, # Ignores all words with total frequency lower than 2.\n",
    "                                  workers=3, # no. of cores\n",
    "                                  alpha=0.1, # learning rate\n",
    "                                  seed = 46)\n",
    "\n",
    "model_d2v.build_vocab([i for i in tqdm(tweet_label)])"
   ]
  },
  {
   "cell_type": "code",
   "execution_count": null,
   "id": "384ff1b5",
   "metadata": {},
   "outputs": [],
   "source": [
    "model_d2v.train(tweet_label, total_examples= len(data_clean['Cleaned Tweet']), epochs=100)"
   ]
  },
  {
   "cell_type": "markdown",
   "id": "a2d28921",
   "metadata": {},
   "source": [
    "#### Preparing doc2vec Feature Set"
   ]
  },
  {
   "cell_type": "code",
   "execution_count": null,
   "id": "22599b3f",
   "metadata": {},
   "outputs": [
    {
     "data": {
      "text/plain": [
       "(31962, 500)"
      ]
     },
     "execution_count": 41,
     "metadata": {},
     "output_type": "execute_result"
    }
   ],
   "source": [
    "docvec_arrays = np.zeros((len(tweet_tokens), 500))\n",
    "\n",
    "for i in range(len(data_clean)):\n",
    "    docvec_arrays[i,:] = model_d2v.docvecs[i].reshape((1,500))\n",
    "    \n",
    "docvec = pd.DataFrame(docvec_arrays)\n",
    "docvec.shape\n",
    "\n"
   ]
  },
  {
   "cell_type": "markdown",
   "id": "acaa52a3",
   "metadata": {},
   "source": [
    "---\n",
    "## Model Building\n",
    "\n",
    "---\n",
    "\n",
    "We are now done with all the pre-modelling stages required to get the data in the proper form and shape. We shall be building models on the datasets with different feature sets prepared in the earlier sections — Bag-of-Words, TF-IDF, word2vec vectors, and doc2vec vectors. The following algorithms would be used to build models:\n",
    "\n",
    "1. **Support Vector Machine** \n",
    "\n",
    "2. **Logistic Regression** \n",
    "\n",
    "3. **RandomForest** \n",
    "\n",
    "4. **XGBoost** "
   ]
  },
  {
   "cell_type": "markdown",
   "id": "05c5f090",
   "metadata": {},
   "source": [
    "### 1. Support Vector Machine"
   ]
  },
  {
   "cell_type": "code",
   "execution_count": 37,
   "id": "5cb2ca44",
   "metadata": {},
   "outputs": [],
   "source": [
    "from sklearn import svm\n",
    "from sklearn.model_selection import train_test_split\n",
    "from sklearn.metrics import f1_score"
   ]
  },
  {
   "cell_type": "markdown",
   "id": "a9672a69",
   "metadata": {},
   "source": [
    "#### Bag-of-Words Features"
   ]
  },
  {
   "cell_type": "code",
   "execution_count": 107,
   "id": "92d46d30",
   "metadata": {},
   "outputs": [
    {
     "name": "stdout",
     "output_type": "stream",
     "text": [
      "\n"
     ]
    }
   ],
   "source": [
    "train_bow = BOW[:31962,:]\n",
    "test_bow = BOW[31962:,:]\n",
    "\n",
    "test_bow = test_bow.reshape(-1,1000)\n",
    "print(test_bow)\n",
    "\n",
    "# splitting data into training and validation set\n",
    "xtrain_bow, xvalid_bow, ytrain, yvalid = train_test_split(train_bow, train['label'], random_state=42, test_size=0.3)"
   ]
  },
  {
   "cell_type": "code",
   "execution_count": 108,
   "id": "e2099aaa",
   "metadata": {},
   "outputs": [
    {
     "data": {
      "text/plain": [
       "<0x1000 sparse matrix of type '<class 'numpy.int64'>'\n",
       "\twith 0 stored elements in COOrdinate format>"
      ]
     },
     "execution_count": 108,
     "metadata": {},
     "output_type": "execute_result"
    }
   ],
   "source": [
    "test_bow"
   ]
  },
  {
   "cell_type": "code",
   "execution_count": 96,
   "id": "01df80f8",
   "metadata": {},
   "outputs": [
    {
     "data": {
      "text/plain": [
       "0.5532286212914486"
      ]
     },
     "execution_count": 96,
     "metadata": {},
     "output_type": "execute_result"
    }
   ],
   "source": [
    "svc = svm.SVC(kernel='linear', C=1, probability=True).fit(xtrain_bow, ytrain)\n",
    "\n",
    "prediction = svc.predict_proba(xvalid_bow)\n",
    "prediction_int = prediction[:,1] >= 0.3\n",
    "prediction_int = prediction_int.astype(np.int)\n",
    "f1_score(yvalid, prediction_int)"
   ]
  },
  {
   "cell_type": "markdown",
   "id": "3e645527",
   "metadata": {},
   "source": [
    "Let us create a submission csv file for this."
   ]
  },
  {
   "cell_type": "code",
   "execution_count": 90,
   "id": "c3cb2770",
   "metadata": {},
   "outputs": [
    {
     "ename": "ValueError",
     "evalue": "Found array with 0 feature(s) (shape=(1500, 0)) while a minimum of 1 is required.",
     "output_type": "error",
     "traceback": [
      "\u001b[1;31m---------------------------------------------------------------------------\u001b[0m",
      "\u001b[1;31mValueError\u001b[0m                                Traceback (most recent call last)",
      "\u001b[1;32m<ipython-input-90-289b8c763f35>\u001b[0m in \u001b[0;36m<module>\u001b[1;34m\u001b[0m\n\u001b[1;32m----> 1\u001b[1;33m \u001b[0mtest_pred\u001b[0m \u001b[1;33m=\u001b[0m \u001b[0msvc\u001b[0m\u001b[1;33m.\u001b[0m\u001b[0mpredict_proba\u001b[0m\u001b[1;33m(\u001b[0m\u001b[0mtest_bow\u001b[0m\u001b[1;33m)\u001b[0m\u001b[1;33m\u001b[0m\u001b[1;33m\u001b[0m\u001b[0m\n\u001b[0m",
      "\u001b[1;32m~\\anaconda3\\lib\\site-packages\\sklearn\\svm\\_base.py\u001b[0m in \u001b[0;36m_predict_proba\u001b[1;34m(self, X)\u001b[0m\n\u001b[0;32m    668\u001b[0m \u001b[1;33m\u001b[0m\u001b[0m\n\u001b[0;32m    669\u001b[0m     \u001b[1;32mdef\u001b[0m \u001b[0m_predict_proba\u001b[0m\u001b[1;33m(\u001b[0m\u001b[0mself\u001b[0m\u001b[1;33m,\u001b[0m \u001b[0mX\u001b[0m\u001b[1;33m)\u001b[0m\u001b[1;33m:\u001b[0m\u001b[1;33m\u001b[0m\u001b[1;33m\u001b[0m\u001b[0m\n\u001b[1;32m--> 670\u001b[1;33m         \u001b[0mX\u001b[0m \u001b[1;33m=\u001b[0m \u001b[0mself\u001b[0m\u001b[1;33m.\u001b[0m\u001b[0m_validate_for_predict\u001b[0m\u001b[1;33m(\u001b[0m\u001b[0mX\u001b[0m\u001b[1;33m)\u001b[0m\u001b[1;33m\u001b[0m\u001b[1;33m\u001b[0m\u001b[0m\n\u001b[0m\u001b[0;32m    671\u001b[0m         \u001b[1;32mif\u001b[0m \u001b[0mself\u001b[0m\u001b[1;33m.\u001b[0m\u001b[0mprobA_\u001b[0m\u001b[1;33m.\u001b[0m\u001b[0msize\u001b[0m \u001b[1;33m==\u001b[0m \u001b[1;36m0\u001b[0m \u001b[1;32mor\u001b[0m \u001b[0mself\u001b[0m\u001b[1;33m.\u001b[0m\u001b[0mprobB_\u001b[0m\u001b[1;33m.\u001b[0m\u001b[0msize\u001b[0m \u001b[1;33m==\u001b[0m \u001b[1;36m0\u001b[0m\u001b[1;33m:\u001b[0m\u001b[1;33m\u001b[0m\u001b[1;33m\u001b[0m\u001b[0m\n\u001b[0;32m    672\u001b[0m             raise NotFittedError(\"predict_proba is not available when fitted \"\n",
      "\u001b[1;32m~\\anaconda3\\lib\\site-packages\\sklearn\\svm\\_base.py\u001b[0m in \u001b[0;36m_validate_for_predict\u001b[1;34m(self, X)\u001b[0m\n\u001b[0;32m    472\u001b[0m \u001b[1;33m\u001b[0m\u001b[0m\n\u001b[0;32m    473\u001b[0m         \u001b[1;32mif\u001b[0m \u001b[1;32mnot\u001b[0m \u001b[0mcallable\u001b[0m\u001b[1;33m(\u001b[0m\u001b[0mself\u001b[0m\u001b[1;33m.\u001b[0m\u001b[0mkernel\u001b[0m\u001b[1;33m)\u001b[0m\u001b[1;33m:\u001b[0m\u001b[1;33m\u001b[0m\u001b[1;33m\u001b[0m\u001b[0m\n\u001b[1;32m--> 474\u001b[1;33m             X = check_array(X, accept_sparse='csr', dtype=np.float64,\n\u001b[0m\u001b[0;32m    475\u001b[0m                             order=\"C\", accept_large_sparse=False)\n\u001b[0;32m    476\u001b[0m \u001b[1;33m\u001b[0m\u001b[0m\n",
      "\u001b[1;32m~\\anaconda3\\lib\\site-packages\\sklearn\\utils\\validation.py\u001b[0m in \u001b[0;36minner_f\u001b[1;34m(*args, **kwargs)\u001b[0m\n\u001b[0;32m     61\u001b[0m             \u001b[0mextra_args\u001b[0m \u001b[1;33m=\u001b[0m \u001b[0mlen\u001b[0m\u001b[1;33m(\u001b[0m\u001b[0margs\u001b[0m\u001b[1;33m)\u001b[0m \u001b[1;33m-\u001b[0m \u001b[0mlen\u001b[0m\u001b[1;33m(\u001b[0m\u001b[0mall_args\u001b[0m\u001b[1;33m)\u001b[0m\u001b[1;33m\u001b[0m\u001b[1;33m\u001b[0m\u001b[0m\n\u001b[0;32m     62\u001b[0m             \u001b[1;32mif\u001b[0m \u001b[0mextra_args\u001b[0m \u001b[1;33m<=\u001b[0m \u001b[1;36m0\u001b[0m\u001b[1;33m:\u001b[0m\u001b[1;33m\u001b[0m\u001b[1;33m\u001b[0m\u001b[0m\n\u001b[1;32m---> 63\u001b[1;33m                 \u001b[1;32mreturn\u001b[0m \u001b[0mf\u001b[0m\u001b[1;33m(\u001b[0m\u001b[1;33m*\u001b[0m\u001b[0margs\u001b[0m\u001b[1;33m,\u001b[0m \u001b[1;33m**\u001b[0m\u001b[0mkwargs\u001b[0m\u001b[1;33m)\u001b[0m\u001b[1;33m\u001b[0m\u001b[1;33m\u001b[0m\u001b[0m\n\u001b[0m\u001b[0;32m     64\u001b[0m \u001b[1;33m\u001b[0m\u001b[0m\n\u001b[0;32m     65\u001b[0m             \u001b[1;31m# extra_args > 0\u001b[0m\u001b[1;33m\u001b[0m\u001b[1;33m\u001b[0m\u001b[1;33m\u001b[0m\u001b[0m\n",
      "\u001b[1;32m~\\anaconda3\\lib\\site-packages\\sklearn\\utils\\validation.py\u001b[0m in \u001b[0;36mcheck_array\u001b[1;34m(array, accept_sparse, accept_large_sparse, dtype, order, copy, force_all_finite, ensure_2d, allow_nd, ensure_min_samples, ensure_min_features, estimator)\u001b[0m\n\u001b[0;32m    732\u001b[0m         \u001b[0mn_features\u001b[0m \u001b[1;33m=\u001b[0m \u001b[0marray\u001b[0m\u001b[1;33m.\u001b[0m\u001b[0mshape\u001b[0m\u001b[1;33m[\u001b[0m\u001b[1;36m1\u001b[0m\u001b[1;33m]\u001b[0m\u001b[1;33m\u001b[0m\u001b[1;33m\u001b[0m\u001b[0m\n\u001b[0;32m    733\u001b[0m         \u001b[1;32mif\u001b[0m \u001b[0mn_features\u001b[0m \u001b[1;33m<\u001b[0m \u001b[0mensure_min_features\u001b[0m\u001b[1;33m:\u001b[0m\u001b[1;33m\u001b[0m\u001b[1;33m\u001b[0m\u001b[0m\n\u001b[1;32m--> 734\u001b[1;33m             raise ValueError(\"Found array with %d feature(s) (shape=%s) while\"\n\u001b[0m\u001b[0;32m    735\u001b[0m                              \u001b[1;34m\" a minimum of %d is required%s.\"\u001b[0m\u001b[1;33m\u001b[0m\u001b[1;33m\u001b[0m\u001b[0m\n\u001b[0;32m    736\u001b[0m                              % (n_features, array.shape, ensure_min_features,\n",
      "\u001b[1;31mValueError\u001b[0m: Found array with 0 feature(s) (shape=(1500, 0)) while a minimum of 1 is required."
     ]
    }
   ],
   "source": [
    "test_pred = svc.predict_proba(test_bow)\n"
   ]
  },
  {
   "cell_type": "code",
   "execution_count": null,
   "id": "4483f177",
   "metadata": {},
   "outputs": [],
   "source": [
    "test_pred_int = test_pred[:,1] >= 0.3\n",
    "test_pred_int = test_pred_int.astype(np.int)\n",
    "test['label'] = test_pred_int\n",
    "submission = test[['id','label']]\n",
    "submission.to_csv('submission_svc_bow.csv', index=False)  # NEEDS FIX"
   ]
  },
  {
   "cell_type": "markdown",
   "id": "9071668e",
   "metadata": {},
   "source": [
    "#### TF-IDF Features"
   ]
  },
  {
   "cell_type": "code",
   "execution_count": 100,
   "id": "b63e158d",
   "metadata": {},
   "outputs": [],
   "source": [
    "train_tfidf = tfidf[:31962,:]\n",
    "test_tfidf = tfidf[31962:,:]\n",
    "\n",
    "xtrain_tfidf = train_tfidf[ytrain.index]\n",
    "xvalid_tfidf = train_tfidf[yvalid.index]"
   ]
  },
  {
   "cell_type": "code",
   "execution_count": null,
   "id": "7c3c0029",
   "metadata": {},
   "outputs": [
    {
     "data": {
      "text/plain": [
       "0.5443478260869565"
      ]
     },
     "execution_count": 47,
     "metadata": {},
     "output_type": "execute_result"
    }
   ],
   "source": [
    "svc = svm.SVC(kernel='linear', C=1, probability=True).fit(xtrain_tfidf, ytrain)\n",
    "\n",
    "prediction = svc.predict_proba(xvalid_tfidf)\n",
    "prediction_int = prediction[:,1] >= 0.3\n",
    "prediction_int = prediction_int.astype(np.int)\n",
    "f1_score(yvalid, prediction_int)"
   ]
  },
  {
   "cell_type": "markdown",
   "id": "82212135",
   "metadata": {},
   "source": [
    "#### Word2Vec Features"
   ]
  },
  {
   "cell_type": "code",
   "execution_count": null,
   "id": "5ef1400f",
   "metadata": {},
   "outputs": [
    {
     "ename": "NameError",
     "evalue": "name 'ytrain' is not defined",
     "output_type": "error",
     "traceback": [
      "\u001b[1;31m---------------------------------------------------------------------------\u001b[0m",
      "\u001b[1;31mNameError\u001b[0m                                 Traceback (most recent call last)",
      "\u001b[1;32m<ipython-input-39-80d85c0baaf2>\u001b[0m in \u001b[0;36m<module>\u001b[1;34m\u001b[0m\n\u001b[0;32m      2\u001b[0m \u001b[0mtest_w2v\u001b[0m \u001b[1;33m=\u001b[0m \u001b[0mwordvec\u001b[0m\u001b[1;33m.\u001b[0m\u001b[0miloc\u001b[0m\u001b[1;33m[\u001b[0m\u001b[1;36m31962\u001b[0m\u001b[1;33m:\u001b[0m\u001b[1;33m,\u001b[0m\u001b[1;33m:\u001b[0m\u001b[1;33m]\u001b[0m\u001b[1;33m\u001b[0m\u001b[1;33m\u001b[0m\u001b[0m\n\u001b[0;32m      3\u001b[0m \u001b[1;33m\u001b[0m\u001b[0m\n\u001b[1;32m----> 4\u001b[1;33m \u001b[0mxtrain_w2v\u001b[0m \u001b[1;33m=\u001b[0m \u001b[0mtrain_w2v\u001b[0m\u001b[1;33m.\u001b[0m\u001b[0miloc\u001b[0m\u001b[1;33m[\u001b[0m\u001b[0mytrain\u001b[0m\u001b[1;33m.\u001b[0m\u001b[0mindex\u001b[0m\u001b[1;33m,\u001b[0m\u001b[1;33m:\u001b[0m\u001b[1;33m]\u001b[0m\u001b[1;33m\u001b[0m\u001b[1;33m\u001b[0m\u001b[0m\n\u001b[0m\u001b[0;32m      5\u001b[0m \u001b[0mxvalid_w2v\u001b[0m \u001b[1;33m=\u001b[0m \u001b[0mtrain_w2v\u001b[0m\u001b[1;33m.\u001b[0m\u001b[0miloc\u001b[0m\u001b[1;33m[\u001b[0m\u001b[0myvalid\u001b[0m\u001b[1;33m.\u001b[0m\u001b[0mindex\u001b[0m\u001b[1;33m,\u001b[0m\u001b[1;33m:\u001b[0m\u001b[1;33m]\u001b[0m\u001b[1;33m\u001b[0m\u001b[1;33m\u001b[0m\u001b[0m\n",
      "\u001b[1;31mNameError\u001b[0m: name 'ytrain' is not defined"
     ]
    }
   ],
   "source": [
    "train_w2v = wordvec.iloc[:31962,:]\n",
    "test_w2v = wordvec.iloc[31962:,:]\n",
    "\n",
    "xtrain_w2v = train_w2v.iloc[ytrain.index,:]\n",
    "xvalid_w2v = train_w2v.iloc[yvalid.index,:]"
   ]
  },
  {
   "cell_type": "code",
   "execution_count": null,
   "id": "af874426",
   "metadata": {},
   "outputs": [
    {
     "ename": "NameError",
     "evalue": "name 'svm' is not defined",
     "output_type": "error",
     "traceback": [
      "\u001b[1;31m---------------------------------------------------------------------------\u001b[0m",
      "\u001b[1;31mNameError\u001b[0m                                 Traceback (most recent call last)",
      "\u001b[1;32m<ipython-input-38-cefbefc15f4c>\u001b[0m in \u001b[0;36m<module>\u001b[1;34m\u001b[0m\n\u001b[1;32m----> 1\u001b[1;33m \u001b[0msvc\u001b[0m \u001b[1;33m=\u001b[0m \u001b[0msvm\u001b[0m\u001b[1;33m.\u001b[0m\u001b[0mSVC\u001b[0m\u001b[1;33m(\u001b[0m\u001b[0mkernel\u001b[0m\u001b[1;33m=\u001b[0m\u001b[1;34m'linear'\u001b[0m\u001b[1;33m,\u001b[0m \u001b[0mC\u001b[0m\u001b[1;33m=\u001b[0m\u001b[1;36m1\u001b[0m\u001b[1;33m,\u001b[0m \u001b[0mprobability\u001b[0m\u001b[1;33m=\u001b[0m\u001b[1;32mTrue\u001b[0m\u001b[1;33m)\u001b[0m\u001b[1;33m.\u001b[0m\u001b[0mfit\u001b[0m\u001b[1;33m(\u001b[0m\u001b[0mxtrain_w2v\u001b[0m\u001b[1;33m,\u001b[0m \u001b[0mytrain\u001b[0m\u001b[1;33m)\u001b[0m\u001b[1;33m\u001b[0m\u001b[1;33m\u001b[0m\u001b[0m\n\u001b[0m\u001b[0;32m      2\u001b[0m \u001b[1;33m\u001b[0m\u001b[0m\n\u001b[0;32m      3\u001b[0m \u001b[0mprediction\u001b[0m \u001b[1;33m=\u001b[0m \u001b[0msvc\u001b[0m\u001b[1;33m.\u001b[0m\u001b[0mpredict_proba\u001b[0m\u001b[1;33m(\u001b[0m\u001b[0mxvalid_w2v\u001b[0m\u001b[1;33m)\u001b[0m\u001b[1;33m\u001b[0m\u001b[1;33m\u001b[0m\u001b[0m\n\u001b[0;32m      4\u001b[0m \u001b[0mprediction_int\u001b[0m \u001b[1;33m=\u001b[0m \u001b[0mprediction\u001b[0m\u001b[1;33m[\u001b[0m\u001b[1;33m:\u001b[0m\u001b[1;33m,\u001b[0m\u001b[1;36m1\u001b[0m\u001b[1;33m]\u001b[0m \u001b[1;33m>=\u001b[0m \u001b[1;36m0.3\u001b[0m\u001b[1;33m\u001b[0m\u001b[1;33m\u001b[0m\u001b[0m\n\u001b[0;32m      5\u001b[0m \u001b[0mprediction_int\u001b[0m \u001b[1;33m=\u001b[0m \u001b[0mprediction_int\u001b[0m\u001b[1;33m.\u001b[0m\u001b[0mastype\u001b[0m\u001b[1;33m(\u001b[0m\u001b[0mnp\u001b[0m\u001b[1;33m.\u001b[0m\u001b[0mint\u001b[0m\u001b[1;33m)\u001b[0m\u001b[1;33m\u001b[0m\u001b[1;33m\u001b[0m\u001b[0m\n",
      "\u001b[1;31mNameError\u001b[0m: name 'svm' is not defined"
     ]
    }
   ],
   "source": [
    "svc = svm.SVC(kernel='linear', C=1, probability=True).fit(xtrain_w2v, ytrain)\n",
    "\n",
    "prediction = svc.predict_proba(xvalid_w2v)\n",
    "prediction_int = prediction[:,1] >= 0.3\n",
    "prediction_int = prediction_int.astype(np.int)\n",
    "f1_score(yvalid, prediction_int)"
   ]
  },
  {
   "cell_type": "markdown",
   "id": "a557f3fd",
   "metadata": {},
   "source": [
    "#### Doc2Vec Features"
   ]
  },
  {
   "cell_type": "code",
   "execution_count": 134,
   "id": "181f79a6",
   "metadata": {},
   "outputs": [
    {
     "ename": "NameError",
     "evalue": "name 'docvec' is not defined",
     "output_type": "error",
     "traceback": [
      "\u001b[1;31m---------------------------------------------------------------------------\u001b[0m",
      "\u001b[1;31mNameError\u001b[0m                                 Traceback (most recent call last)",
      "\u001b[1;32m<ipython-input-134-9f8b597f0530>\u001b[0m in \u001b[0;36m<module>\u001b[1;34m\u001b[0m\n\u001b[1;32m----> 1\u001b[1;33m \u001b[0mtrain_d2v\u001b[0m \u001b[1;33m=\u001b[0m \u001b[0mdocvec\u001b[0m\u001b[1;33m.\u001b[0m\u001b[0miloc\u001b[0m\u001b[1;33m[\u001b[0m\u001b[1;33m:\u001b[0m\u001b[1;36m31962\u001b[0m\u001b[1;33m,\u001b[0m\u001b[1;33m:\u001b[0m\u001b[1;33m]\u001b[0m\u001b[1;33m\u001b[0m\u001b[1;33m\u001b[0m\u001b[0m\n\u001b[0m\u001b[0;32m      2\u001b[0m \u001b[0mtest_d2v\u001b[0m \u001b[1;33m=\u001b[0m \u001b[0mdocvec\u001b[0m\u001b[1;33m.\u001b[0m\u001b[0miloc\u001b[0m\u001b[1;33m[\u001b[0m\u001b[1;36m31962\u001b[0m\u001b[1;33m:\u001b[0m\u001b[1;33m,\u001b[0m\u001b[1;33m:\u001b[0m\u001b[1;33m]\u001b[0m\u001b[1;33m\u001b[0m\u001b[1;33m\u001b[0m\u001b[0m\n\u001b[0;32m      3\u001b[0m \u001b[1;33m\u001b[0m\u001b[0m\n\u001b[0;32m      4\u001b[0m \u001b[0mxtrain_d2v\u001b[0m \u001b[1;33m=\u001b[0m \u001b[0mtrain_d2v\u001b[0m\u001b[1;33m.\u001b[0m\u001b[0miloc\u001b[0m\u001b[1;33m[\u001b[0m\u001b[0mytrain\u001b[0m\u001b[1;33m.\u001b[0m\u001b[0mindex\u001b[0m\u001b[1;33m,\u001b[0m\u001b[1;33m:\u001b[0m\u001b[1;33m]\u001b[0m\u001b[1;33m\u001b[0m\u001b[1;33m\u001b[0m\u001b[0m\n\u001b[0;32m      5\u001b[0m \u001b[0mxvalid_d2v\u001b[0m \u001b[1;33m=\u001b[0m \u001b[0mtrain_d2v\u001b[0m\u001b[1;33m.\u001b[0m\u001b[0miloc\u001b[0m\u001b[1;33m[\u001b[0m\u001b[0myvalid\u001b[0m\u001b[1;33m.\u001b[0m\u001b[0mindex\u001b[0m\u001b[1;33m,\u001b[0m\u001b[1;33m:\u001b[0m\u001b[1;33m]\u001b[0m\u001b[1;33m\u001b[0m\u001b[1;33m\u001b[0m\u001b[0m\n",
      "\u001b[1;31mNameError\u001b[0m: name 'docvec' is not defined"
     ]
    }
   ],
   "source": [
    "train_d2v = docvec.iloc[:31962,:]\n",
    "test_d2v = docvec.iloc[31962:,:]\n",
    "\n",
    "xtrain_d2v = train_d2v.iloc[ytrain.index,:]\n",
    "xvalid_d2v = train_d2v.iloc[yvalid.index,:]"
   ]
  },
  {
   "cell_type": "code",
   "execution_count": null,
   "id": "a7d2bd2c",
   "metadata": {},
   "outputs": [
    {
     "ename": "NameError",
     "evalue": "name 'svm' is not defined",
     "output_type": "error",
     "traceback": [
      "\u001b[1;31m---------------------------------------------------------------------------\u001b[0m",
      "\u001b[1;31mNameError\u001b[0m                                 Traceback (most recent call last)",
      "\u001b[1;32m<ipython-input-36-eec7601d7376>\u001b[0m in \u001b[0;36m<module>\u001b[1;34m\u001b[0m\n\u001b[1;32m----> 1\u001b[1;33m \u001b[0msvc\u001b[0m \u001b[1;33m=\u001b[0m \u001b[0msvm\u001b[0m\u001b[1;33m.\u001b[0m\u001b[0mSVC\u001b[0m\u001b[1;33m(\u001b[0m\u001b[0mkernel\u001b[0m\u001b[1;33m=\u001b[0m\u001b[1;34m'linear'\u001b[0m\u001b[1;33m,\u001b[0m \u001b[0mC\u001b[0m\u001b[1;33m=\u001b[0m\u001b[1;36m1\u001b[0m\u001b[1;33m,\u001b[0m \u001b[0mprobability\u001b[0m\u001b[1;33m=\u001b[0m\u001b[1;32mTrue\u001b[0m\u001b[1;33m)\u001b[0m\u001b[1;33m.\u001b[0m\u001b[0mfit\u001b[0m\u001b[1;33m(\u001b[0m\u001b[0mxtrain_d2v\u001b[0m\u001b[1;33m,\u001b[0m \u001b[0mytrain\u001b[0m\u001b[1;33m)\u001b[0m\u001b[1;33m\u001b[0m\u001b[1;33m\u001b[0m\u001b[0m\n\u001b[0m\u001b[0;32m      2\u001b[0m \u001b[1;33m\u001b[0m\u001b[0m\n\u001b[0;32m      3\u001b[0m \u001b[0mprediction\u001b[0m \u001b[1;33m=\u001b[0m \u001b[0msvc\u001b[0m\u001b[1;33m.\u001b[0m\u001b[0mpredict_proba\u001b[0m\u001b[1;33m(\u001b[0m\u001b[0mxvalid_d2v\u001b[0m\u001b[1;33m)\u001b[0m\u001b[1;33m\u001b[0m\u001b[1;33m\u001b[0m\u001b[0m\n\u001b[0;32m      4\u001b[0m \u001b[0mprediction_int\u001b[0m \u001b[1;33m=\u001b[0m \u001b[0mprediction\u001b[0m\u001b[1;33m[\u001b[0m\u001b[1;33m:\u001b[0m\u001b[1;33m,\u001b[0m\u001b[1;36m1\u001b[0m\u001b[1;33m]\u001b[0m \u001b[1;33m>=\u001b[0m \u001b[1;36m0.3\u001b[0m\u001b[1;33m\u001b[0m\u001b[1;33m\u001b[0m\u001b[0m\n\u001b[0;32m      5\u001b[0m \u001b[0mprediction_int\u001b[0m \u001b[1;33m=\u001b[0m \u001b[0mprediction_int\u001b[0m\u001b[1;33m.\u001b[0m\u001b[0mastype\u001b[0m\u001b[1;33m(\u001b[0m\u001b[0mnp\u001b[0m\u001b[1;33m.\u001b[0m\u001b[0mint\u001b[0m\u001b[1;33m)\u001b[0m\u001b[1;33m\u001b[0m\u001b[1;33m\u001b[0m\u001b[0m\n",
      "\u001b[1;31mNameError\u001b[0m: name 'svm' is not defined"
     ]
    }
   ],
   "source": [
    "svc = svm.SVC(kernel='linear', C=1, probability=True).fit(xtrain_d2v, ytrain)\n",
    "\n",
    "prediction = svc.predict_proba(xvalid_d2v)\n",
    "prediction_int = prediction[:,1] >= 0.3\n",
    "prediction_int = prediction_int.astype(np.int)\n",
    "f1_score(yvalid, prediction_int)"
   ]
  },
  {
   "cell_type": "markdown",
   "id": "d07cfc70",
   "metadata": {},
   "source": [
    "### 2. Logistic Regression"
   ]
  },
  {
   "cell_type": "code",
   "execution_count": 49,
   "id": "2fa37740",
   "metadata": {},
   "outputs": [],
   "source": [
    "from sklearn.linear_model import LogisticRegression"
   ]
  },
  {
   "cell_type": "markdown",
   "id": "23a60833",
   "metadata": {},
   "source": [
    "#### Bag-of-Words Features"
   ]
  },
  {
   "cell_type": "code",
   "execution_count": 126,
   "id": "544e666d",
   "metadata": {},
   "outputs": [
    {
     "data": {
      "text/plain": [
       "0.519455252918288"
      ]
     },
     "execution_count": 126,
     "metadata": {},
     "output_type": "execute_result"
    }
   ],
   "source": [
    "logsRegr = LogisticRegression(solver = 'saga', max_iter = 1000, random_state = 42) # saga improves the f1 score for our large dataset\n",
    "logsRegr_model = logsRegr.fit(xtrain_bow, ytrain) \n",
    "prediction = logsRegr_model.predict(xvalid_bow)\n",
    "f1_score(yvalid, prediction)"
   ]
  },
  {
   "cell_type": "markdown",
   "id": "2d6b5f66",
   "metadata": {},
   "source": [
    "Let us create a prediction submission file."
   ]
  },
  {
   "cell_type": "code",
   "execution_count": 98,
   "id": "1dcfd6b8",
   "metadata": {},
   "outputs": [
    {
     "ename": "ValueError",
     "evalue": "Length of values (31962) does not match length of index (17197)",
     "output_type": "error",
     "traceback": [
      "\u001b[1;31m---------------------------------------------------------------------------\u001b[0m",
      "\u001b[1;31mValueError\u001b[0m                                Traceback (most recent call last)",
      "\u001b[1;32m<ipython-input-98-a94a98a0571f>\u001b[0m in \u001b[0;36m<module>\u001b[1;34m\u001b[0m\n\u001b[0;32m      1\u001b[0m \u001b[0mtest_pred\u001b[0m \u001b[1;33m=\u001b[0m \u001b[0mlogsRegr_model\u001b[0m\u001b[1;33m.\u001b[0m\u001b[0mpredict\u001b[0m\u001b[1;33m(\u001b[0m\u001b[0mtest_bow\u001b[0m\u001b[1;33m)\u001b[0m\u001b[1;33m\u001b[0m\u001b[1;33m\u001b[0m\u001b[0m\n\u001b[1;32m----> 2\u001b[1;33m \u001b[0mtest\u001b[0m\u001b[1;33m[\u001b[0m\u001b[1;34m'label'\u001b[0m\u001b[1;33m]\u001b[0m \u001b[1;33m=\u001b[0m \u001b[0mtest_pred\u001b[0m\u001b[1;33m\u001b[0m\u001b[1;33m\u001b[0m\u001b[0m\n\u001b[0m\u001b[0;32m      3\u001b[0m \u001b[0msubmission\u001b[0m \u001b[1;33m=\u001b[0m \u001b[0mtest\u001b[0m\u001b[1;33m[\u001b[0m\u001b[1;33m[\u001b[0m\u001b[1;34m'id'\u001b[0m\u001b[1;33m,\u001b[0m\u001b[1;34m'label'\u001b[0m\u001b[1;33m]\u001b[0m\u001b[1;33m]\u001b[0m\u001b[1;33m\u001b[0m\u001b[1;33m\u001b[0m\u001b[0m\n\u001b[0;32m      4\u001b[0m \u001b[0msubmission\u001b[0m\u001b[1;33m.\u001b[0m\u001b[0mto_csv\u001b[0m\u001b[1;33m(\u001b[0m\u001b[1;34m'submission_logs_bow.csv'\u001b[0m\u001b[1;33m,\u001b[0m \u001b[0mindex\u001b[0m\u001b[1;33m=\u001b[0m\u001b[1;32mFalse\u001b[0m\u001b[1;33m)\u001b[0m\u001b[1;33m\u001b[0m\u001b[1;33m\u001b[0m\u001b[0m\n",
      "\u001b[1;32m~\\anaconda3\\lib\\site-packages\\pandas\\core\\frame.py\u001b[0m in \u001b[0;36m__setitem__\u001b[1;34m(self, key, value)\u001b[0m\n\u001b[0;32m   3161\u001b[0m         \u001b[1;32melse\u001b[0m\u001b[1;33m:\u001b[0m\u001b[1;33m\u001b[0m\u001b[1;33m\u001b[0m\u001b[0m\n\u001b[0;32m   3162\u001b[0m             \u001b[1;31m# set column\u001b[0m\u001b[1;33m\u001b[0m\u001b[1;33m\u001b[0m\u001b[1;33m\u001b[0m\u001b[0m\n\u001b[1;32m-> 3163\u001b[1;33m             \u001b[0mself\u001b[0m\u001b[1;33m.\u001b[0m\u001b[0m_set_item\u001b[0m\u001b[1;33m(\u001b[0m\u001b[0mkey\u001b[0m\u001b[1;33m,\u001b[0m \u001b[0mvalue\u001b[0m\u001b[1;33m)\u001b[0m\u001b[1;33m\u001b[0m\u001b[1;33m\u001b[0m\u001b[0m\n\u001b[0m\u001b[0;32m   3164\u001b[0m \u001b[1;33m\u001b[0m\u001b[0m\n\u001b[0;32m   3165\u001b[0m     \u001b[1;32mdef\u001b[0m \u001b[0m_setitem_slice\u001b[0m\u001b[1;33m(\u001b[0m\u001b[0mself\u001b[0m\u001b[1;33m,\u001b[0m \u001b[0mkey\u001b[0m\u001b[1;33m:\u001b[0m \u001b[0mslice\u001b[0m\u001b[1;33m,\u001b[0m \u001b[0mvalue\u001b[0m\u001b[1;33m)\u001b[0m\u001b[1;33m:\u001b[0m\u001b[1;33m\u001b[0m\u001b[1;33m\u001b[0m\u001b[0m\n",
      "\u001b[1;32m~\\anaconda3\\lib\\site-packages\\pandas\\core\\frame.py\u001b[0m in \u001b[0;36m_set_item\u001b[1;34m(self, key, value)\u001b[0m\n\u001b[0;32m   3240\u001b[0m         \"\"\"\n\u001b[0;32m   3241\u001b[0m         \u001b[0mself\u001b[0m\u001b[1;33m.\u001b[0m\u001b[0m_ensure_valid_index\u001b[0m\u001b[1;33m(\u001b[0m\u001b[0mvalue\u001b[0m\u001b[1;33m)\u001b[0m\u001b[1;33m\u001b[0m\u001b[1;33m\u001b[0m\u001b[0m\n\u001b[1;32m-> 3242\u001b[1;33m         \u001b[0mvalue\u001b[0m \u001b[1;33m=\u001b[0m \u001b[0mself\u001b[0m\u001b[1;33m.\u001b[0m\u001b[0m_sanitize_column\u001b[0m\u001b[1;33m(\u001b[0m\u001b[0mkey\u001b[0m\u001b[1;33m,\u001b[0m \u001b[0mvalue\u001b[0m\u001b[1;33m)\u001b[0m\u001b[1;33m\u001b[0m\u001b[1;33m\u001b[0m\u001b[0m\n\u001b[0m\u001b[0;32m   3243\u001b[0m         \u001b[0mNDFrame\u001b[0m\u001b[1;33m.\u001b[0m\u001b[0m_set_item\u001b[0m\u001b[1;33m(\u001b[0m\u001b[0mself\u001b[0m\u001b[1;33m,\u001b[0m \u001b[0mkey\u001b[0m\u001b[1;33m,\u001b[0m \u001b[0mvalue\u001b[0m\u001b[1;33m)\u001b[0m\u001b[1;33m\u001b[0m\u001b[1;33m\u001b[0m\u001b[0m\n\u001b[0;32m   3244\u001b[0m \u001b[1;33m\u001b[0m\u001b[0m\n",
      "\u001b[1;32m~\\anaconda3\\lib\\site-packages\\pandas\\core\\frame.py\u001b[0m in \u001b[0;36m_sanitize_column\u001b[1;34m(self, key, value, broadcast)\u001b[0m\n\u001b[0;32m   3897\u001b[0m \u001b[1;33m\u001b[0m\u001b[0m\n\u001b[0;32m   3898\u001b[0m             \u001b[1;31m# turn me into an ndarray\u001b[0m\u001b[1;33m\u001b[0m\u001b[1;33m\u001b[0m\u001b[1;33m\u001b[0m\u001b[0m\n\u001b[1;32m-> 3899\u001b[1;33m             \u001b[0mvalue\u001b[0m \u001b[1;33m=\u001b[0m \u001b[0msanitize_index\u001b[0m\u001b[1;33m(\u001b[0m\u001b[0mvalue\u001b[0m\u001b[1;33m,\u001b[0m \u001b[0mself\u001b[0m\u001b[1;33m.\u001b[0m\u001b[0mindex\u001b[0m\u001b[1;33m)\u001b[0m\u001b[1;33m\u001b[0m\u001b[1;33m\u001b[0m\u001b[0m\n\u001b[0m\u001b[0;32m   3900\u001b[0m             \u001b[1;32mif\u001b[0m \u001b[1;32mnot\u001b[0m \u001b[0misinstance\u001b[0m\u001b[1;33m(\u001b[0m\u001b[0mvalue\u001b[0m\u001b[1;33m,\u001b[0m \u001b[1;33m(\u001b[0m\u001b[0mnp\u001b[0m\u001b[1;33m.\u001b[0m\u001b[0mndarray\u001b[0m\u001b[1;33m,\u001b[0m \u001b[0mIndex\u001b[0m\u001b[1;33m)\u001b[0m\u001b[1;33m)\u001b[0m\u001b[1;33m:\u001b[0m\u001b[1;33m\u001b[0m\u001b[1;33m\u001b[0m\u001b[0m\n\u001b[0;32m   3901\u001b[0m                 \u001b[1;32mif\u001b[0m \u001b[0misinstance\u001b[0m\u001b[1;33m(\u001b[0m\u001b[0mvalue\u001b[0m\u001b[1;33m,\u001b[0m \u001b[0mlist\u001b[0m\u001b[1;33m)\u001b[0m \u001b[1;32mand\u001b[0m \u001b[0mlen\u001b[0m\u001b[1;33m(\u001b[0m\u001b[0mvalue\u001b[0m\u001b[1;33m)\u001b[0m \u001b[1;33m>\u001b[0m \u001b[1;36m0\u001b[0m\u001b[1;33m:\u001b[0m\u001b[1;33m\u001b[0m\u001b[1;33m\u001b[0m\u001b[0m\n",
      "\u001b[1;32m~\\anaconda3\\lib\\site-packages\\pandas\\core\\internals\\construction.py\u001b[0m in \u001b[0;36msanitize_index\u001b[1;34m(data, index)\u001b[0m\n\u001b[0;32m    749\u001b[0m     \"\"\"\n\u001b[0;32m    750\u001b[0m     \u001b[1;32mif\u001b[0m \u001b[0mlen\u001b[0m\u001b[1;33m(\u001b[0m\u001b[0mdata\u001b[0m\u001b[1;33m)\u001b[0m \u001b[1;33m!=\u001b[0m \u001b[0mlen\u001b[0m\u001b[1;33m(\u001b[0m\u001b[0mindex\u001b[0m\u001b[1;33m)\u001b[0m\u001b[1;33m:\u001b[0m\u001b[1;33m\u001b[0m\u001b[1;33m\u001b[0m\u001b[0m\n\u001b[1;32m--> 751\u001b[1;33m         raise ValueError(\n\u001b[0m\u001b[0;32m    752\u001b[0m             \u001b[1;34m\"Length of values \"\u001b[0m\u001b[1;33m\u001b[0m\u001b[1;33m\u001b[0m\u001b[0m\n\u001b[0;32m    753\u001b[0m             \u001b[1;34mf\"({len(data)}) \"\u001b[0m\u001b[1;33m\u001b[0m\u001b[1;33m\u001b[0m\u001b[0m\n",
      "\u001b[1;31mValueError\u001b[0m: Length of values (31962) does not match length of index (17197)"
     ]
    }
   ],
   "source": [
    "test_pred = logsRegr_model.predict(test_bow)\n",
    "test['label'] = test_pred\n",
    "submission = test[['id','label']]\n",
    "submission.to_csv('submission_logsR_bow.csv', index=False)"
   ]
  },
  {
   "cell_type": "markdown",
   "id": "c51d40ab",
   "metadata": {},
   "source": [
    "#### TF-IDF Features"
   ]
  },
  {
   "cell_type": "code",
   "execution_count": 131,
   "id": "1552d6ea",
   "metadata": {},
   "outputs": [
    {
     "data": {
      "text/plain": [
       "0.46871686108165433"
      ]
     },
     "execution_count": 131,
     "metadata": {},
     "output_type": "execute_result"
    }
   ],
   "source": [
    "logs = logsRegr.fit(xtrain_tfidf, ytrain)\n",
    "prediction = logs.predict(xvalid_tfidf)\n",
    "f1_score(yvalid, prediction)"
   ]
  },
  {
   "cell_type": "markdown",
   "id": "635bbc32",
   "metadata": {},
   "source": [
    "#### Word2Vec Features"
   ]
  },
  {
   "cell_type": "code",
   "execution_count": 155,
   "id": "0b65f08d",
   "metadata": {},
   "outputs": [
    {
     "ename": "NameError",
     "evalue": "name 'xtrain_w2v' is not defined",
     "output_type": "error",
     "traceback": [
      "\u001b[1;31m---------------------------------------------------------------------------\u001b[0m",
      "\u001b[1;31mNameError\u001b[0m                                 Traceback (most recent call last)",
      "\u001b[1;32m<ipython-input-155-def4a8fcd586>\u001b[0m in \u001b[0;36m<module>\u001b[1;34m\u001b[0m\n\u001b[1;32m----> 1\u001b[1;33m \u001b[0mlogs\u001b[0m \u001b[1;33m=\u001b[0m \u001b[0mlogsRegr\u001b[0m\u001b[1;33m.\u001b[0m\u001b[0mfit\u001b[0m\u001b[1;33m(\u001b[0m\u001b[0mxtrain_w2v\u001b[0m\u001b[1;33m,\u001b[0m \u001b[0mytrain\u001b[0m\u001b[1;33m)\u001b[0m\u001b[1;33m\u001b[0m\u001b[1;33m\u001b[0m\u001b[0m\n\u001b[0m\u001b[0;32m      2\u001b[0m \u001b[0mprediction\u001b[0m \u001b[1;33m=\u001b[0m \u001b[0mlogs\u001b[0m\u001b[1;33m.\u001b[0m\u001b[0mpredict\u001b[0m\u001b[1;33m(\u001b[0m\u001b[0mxvalid_w2v\u001b[0m\u001b[1;33m)\u001b[0m\u001b[1;33m\u001b[0m\u001b[1;33m\u001b[0m\u001b[0m\n\u001b[0;32m      3\u001b[0m \u001b[0mf1_score\u001b[0m\u001b[1;33m(\u001b[0m\u001b[0myvalid\u001b[0m\u001b[1;33m,\u001b[0m \u001b[0mprediction\u001b[0m\u001b[1;33m)\u001b[0m\u001b[1;33m\u001b[0m\u001b[1;33m\u001b[0m\u001b[0m\n",
      "\u001b[1;31mNameError\u001b[0m: name 'xtrain_w2v' is not defined"
     ]
    }
   ],
   "source": [
    "logs = logsRegr.fit(xtrain_w2v, ytrain)\n",
    "prediction = logs.predict(xvalid_w2v)\n",
    "f1_score(yvalid, prediction)"
   ]
  },
  {
   "cell_type": "markdown",
   "id": "fbc87fb0",
   "metadata": {},
   "source": [
    "#### Doc2Vec Features "
   ]
  },
  {
   "cell_type": "code",
   "execution_count": null,
   "id": "559a9cb6",
   "metadata": {},
   "outputs": [],
   "source": [
    "logs = logsRegr.fit(xtrain_d2v, ytrain)\n",
    "prediction = logs.predict(xvalid_d2v)\n",
    "f1_score(yvalid, prediction)"
   ]
  },
  {
   "cell_type": "markdown",
   "id": "81927b20",
   "metadata": {},
   "source": [
    "### 2. Random Forest"
   ]
  },
  {
   "cell_type": "code",
   "execution_count": 143,
   "id": "11ce9d5c",
   "metadata": {},
   "outputs": [],
   "source": [
    "from sklearn.ensemble import RandomForestClassifier"
   ]
  },
  {
   "cell_type": "markdown",
   "id": "5c67e441",
   "metadata": {},
   "source": [
    "#### Bag-Of-Words Features"
   ]
  },
  {
   "cell_type": "code",
   "execution_count": 153,
   "id": "5e069db2",
   "metadata": {},
   "outputs": [
    {
     "data": {
      "text/plain": [
       "0.5258215962441315"
      ]
     },
     "execution_count": 153,
     "metadata": {},
     "output_type": "execute_result"
    }
   ],
   "source": [
    "# instantiating the model with 1000 decision trees\n",
    "randomForest = RandomForestClassifier(n_estimators = 1000, max_depth = 100, random_state = 42, min_samples_split = 3) # min of 3 samples required to split an internal node\n",
    "\n",
    "rf_model = randomForest.fit(xtrain_bow, ytrain)\n",
    "prediction = rf_model.predict(xvalid_bow)\n",
    "f1_score(yvalid, prediction)"
   ]
  },
  {
   "cell_type": "markdown",
   "id": "4e88a8d8",
   "metadata": {},
   "source": [
    "Let us create a prediction submission file."
   ]
  },
  {
   "cell_type": "code",
   "execution_count": 149,
   "id": "07042600",
   "metadata": {},
   "outputs": [
    {
     "ename": "ValueError",
     "evalue": "Found array with 0 sample(s) (shape=(0, 1000)) while a minimum of 1 is required.",
     "output_type": "error",
     "traceback": [
      "\u001b[1;31m---------------------------------------------------------------------------\u001b[0m",
      "\u001b[1;31mValueError\u001b[0m                                Traceback (most recent call last)",
      "\u001b[1;32m<ipython-input-149-5b1608936fd1>\u001b[0m in \u001b[0;36m<module>\u001b[1;34m\u001b[0m\n\u001b[1;32m----> 1\u001b[1;33m \u001b[0mtest_pred\u001b[0m \u001b[1;33m=\u001b[0m \u001b[0mrf_model\u001b[0m\u001b[1;33m.\u001b[0m\u001b[0mpredict\u001b[0m\u001b[1;33m(\u001b[0m\u001b[0mtest_bow\u001b[0m\u001b[1;33m)\u001b[0m\u001b[1;33m\u001b[0m\u001b[1;33m\u001b[0m\u001b[0m\n\u001b[0m\u001b[0;32m      2\u001b[0m \u001b[0mtest\u001b[0m\u001b[1;33m[\u001b[0m\u001b[1;34m'label'\u001b[0m\u001b[1;33m]\u001b[0m \u001b[1;33m=\u001b[0m \u001b[0mtest_pred\u001b[0m\u001b[1;33m\u001b[0m\u001b[1;33m\u001b[0m\u001b[0m\n\u001b[0;32m      3\u001b[0m \u001b[0msubmission\u001b[0m \u001b[1;33m=\u001b[0m \u001b[0mtest\u001b[0m\u001b[1;33m[\u001b[0m\u001b[1;33m[\u001b[0m\u001b[1;34m'id'\u001b[0m\u001b[1;33m,\u001b[0m\u001b[1;34m'label'\u001b[0m\u001b[1;33m]\u001b[0m\u001b[1;33m]\u001b[0m\u001b[1;33m\u001b[0m\u001b[1;33m\u001b[0m\u001b[0m\n\u001b[0;32m      4\u001b[0m \u001b[0msubmission\u001b[0m\u001b[1;33m.\u001b[0m\u001b[0mto_csv\u001b[0m\u001b[1;33m(\u001b[0m\u001b[1;34m'submission_rf_bow.csv'\u001b[0m\u001b[1;33m,\u001b[0m \u001b[0mindex\u001b[0m\u001b[1;33m=\u001b[0m\u001b[1;32mFalse\u001b[0m\u001b[1;33m)\u001b[0m\u001b[1;33m\u001b[0m\u001b[1;33m\u001b[0m\u001b[0m\n",
      "\u001b[1;32m~\\anaconda3\\lib\\site-packages\\sklearn\\ensemble\\_forest.py\u001b[0m in \u001b[0;36mpredict\u001b[1;34m(self, X)\u001b[0m\n\u001b[0;32m    628\u001b[0m             \u001b[0mThe\u001b[0m \u001b[0mpredicted\u001b[0m \u001b[0mclasses\u001b[0m\u001b[1;33m.\u001b[0m\u001b[1;33m\u001b[0m\u001b[1;33m\u001b[0m\u001b[0m\n\u001b[0;32m    629\u001b[0m         \"\"\"\n\u001b[1;32m--> 630\u001b[1;33m         \u001b[0mproba\u001b[0m \u001b[1;33m=\u001b[0m \u001b[0mself\u001b[0m\u001b[1;33m.\u001b[0m\u001b[0mpredict_proba\u001b[0m\u001b[1;33m(\u001b[0m\u001b[0mX\u001b[0m\u001b[1;33m)\u001b[0m\u001b[1;33m\u001b[0m\u001b[1;33m\u001b[0m\u001b[0m\n\u001b[0m\u001b[0;32m    631\u001b[0m \u001b[1;33m\u001b[0m\u001b[0m\n\u001b[0;32m    632\u001b[0m         \u001b[1;32mif\u001b[0m \u001b[0mself\u001b[0m\u001b[1;33m.\u001b[0m\u001b[0mn_outputs_\u001b[0m \u001b[1;33m==\u001b[0m \u001b[1;36m1\u001b[0m\u001b[1;33m:\u001b[0m\u001b[1;33m\u001b[0m\u001b[1;33m\u001b[0m\u001b[0m\n",
      "\u001b[1;32m~\\anaconda3\\lib\\site-packages\\sklearn\\ensemble\\_forest.py\u001b[0m in \u001b[0;36mpredict_proba\u001b[1;34m(self, X)\u001b[0m\n\u001b[0;32m    672\u001b[0m         \u001b[0mcheck_is_fitted\u001b[0m\u001b[1;33m(\u001b[0m\u001b[0mself\u001b[0m\u001b[1;33m)\u001b[0m\u001b[1;33m\u001b[0m\u001b[1;33m\u001b[0m\u001b[0m\n\u001b[0;32m    673\u001b[0m         \u001b[1;31m# Check data\u001b[0m\u001b[1;33m\u001b[0m\u001b[1;33m\u001b[0m\u001b[1;33m\u001b[0m\u001b[0m\n\u001b[1;32m--> 674\u001b[1;33m         \u001b[0mX\u001b[0m \u001b[1;33m=\u001b[0m \u001b[0mself\u001b[0m\u001b[1;33m.\u001b[0m\u001b[0m_validate_X_predict\u001b[0m\u001b[1;33m(\u001b[0m\u001b[0mX\u001b[0m\u001b[1;33m)\u001b[0m\u001b[1;33m\u001b[0m\u001b[1;33m\u001b[0m\u001b[0m\n\u001b[0m\u001b[0;32m    675\u001b[0m \u001b[1;33m\u001b[0m\u001b[0m\n\u001b[0;32m    676\u001b[0m         \u001b[1;31m# Assign chunk of trees to jobs\u001b[0m\u001b[1;33m\u001b[0m\u001b[1;33m\u001b[0m\u001b[1;33m\u001b[0m\u001b[0m\n",
      "\u001b[1;32m~\\anaconda3\\lib\\site-packages\\sklearn\\ensemble\\_forest.py\u001b[0m in \u001b[0;36m_validate_X_predict\u001b[1;34m(self, X)\u001b[0m\n\u001b[0;32m    420\u001b[0m         \u001b[0mcheck_is_fitted\u001b[0m\u001b[1;33m(\u001b[0m\u001b[0mself\u001b[0m\u001b[1;33m)\u001b[0m\u001b[1;33m\u001b[0m\u001b[1;33m\u001b[0m\u001b[0m\n\u001b[0;32m    421\u001b[0m \u001b[1;33m\u001b[0m\u001b[0m\n\u001b[1;32m--> 422\u001b[1;33m         \u001b[1;32mreturn\u001b[0m \u001b[0mself\u001b[0m\u001b[1;33m.\u001b[0m\u001b[0mestimators_\u001b[0m\u001b[1;33m[\u001b[0m\u001b[1;36m0\u001b[0m\u001b[1;33m]\u001b[0m\u001b[1;33m.\u001b[0m\u001b[0m_validate_X_predict\u001b[0m\u001b[1;33m(\u001b[0m\u001b[0mX\u001b[0m\u001b[1;33m,\u001b[0m \u001b[0mcheck_input\u001b[0m\u001b[1;33m=\u001b[0m\u001b[1;32mTrue\u001b[0m\u001b[1;33m)\u001b[0m\u001b[1;33m\u001b[0m\u001b[1;33m\u001b[0m\u001b[0m\n\u001b[0m\u001b[0;32m    423\u001b[0m \u001b[1;33m\u001b[0m\u001b[0m\n\u001b[0;32m    424\u001b[0m     \u001b[1;33m@\u001b[0m\u001b[0mproperty\u001b[0m\u001b[1;33m\u001b[0m\u001b[1;33m\u001b[0m\u001b[0m\n",
      "\u001b[1;32m~\\anaconda3\\lib\\site-packages\\sklearn\\tree\\_classes.py\u001b[0m in \u001b[0;36m_validate_X_predict\u001b[1;34m(self, X, check_input)\u001b[0m\n\u001b[0;32m    405\u001b[0m         \u001b[1;34m\"\"\"Validate the training data on predict (probabilities).\"\"\"\u001b[0m\u001b[1;33m\u001b[0m\u001b[1;33m\u001b[0m\u001b[0m\n\u001b[0;32m    406\u001b[0m         \u001b[1;32mif\u001b[0m \u001b[0mcheck_input\u001b[0m\u001b[1;33m:\u001b[0m\u001b[1;33m\u001b[0m\u001b[1;33m\u001b[0m\u001b[0m\n\u001b[1;32m--> 407\u001b[1;33m             X = self._validate_data(X, dtype=DTYPE, accept_sparse=\"csr\",\n\u001b[0m\u001b[0;32m    408\u001b[0m                                     reset=False)\n\u001b[0;32m    409\u001b[0m             if issparse(X) and (X.indices.dtype != np.intc or\n",
      "\u001b[1;32m~\\anaconda3\\lib\\site-packages\\sklearn\\base.py\u001b[0m in \u001b[0;36m_validate_data\u001b[1;34m(self, X, y, reset, validate_separately, **check_params)\u001b[0m\n\u001b[0;32m    419\u001b[0m             \u001b[0mout\u001b[0m \u001b[1;33m=\u001b[0m \u001b[0mX\u001b[0m\u001b[1;33m\u001b[0m\u001b[1;33m\u001b[0m\u001b[0m\n\u001b[0;32m    420\u001b[0m         \u001b[1;32melif\u001b[0m \u001b[0misinstance\u001b[0m\u001b[1;33m(\u001b[0m\u001b[0my\u001b[0m\u001b[1;33m,\u001b[0m \u001b[0mstr\u001b[0m\u001b[1;33m)\u001b[0m \u001b[1;32mand\u001b[0m \u001b[0my\u001b[0m \u001b[1;33m==\u001b[0m \u001b[1;34m'no_validation'\u001b[0m\u001b[1;33m:\u001b[0m\u001b[1;33m\u001b[0m\u001b[1;33m\u001b[0m\u001b[0m\n\u001b[1;32m--> 421\u001b[1;33m             \u001b[0mX\u001b[0m \u001b[1;33m=\u001b[0m \u001b[0mcheck_array\u001b[0m\u001b[1;33m(\u001b[0m\u001b[0mX\u001b[0m\u001b[1;33m,\u001b[0m \u001b[1;33m**\u001b[0m\u001b[0mcheck_params\u001b[0m\u001b[1;33m)\u001b[0m\u001b[1;33m\u001b[0m\u001b[1;33m\u001b[0m\u001b[0m\n\u001b[0m\u001b[0;32m    422\u001b[0m             \u001b[0mout\u001b[0m \u001b[1;33m=\u001b[0m \u001b[0mX\u001b[0m\u001b[1;33m\u001b[0m\u001b[1;33m\u001b[0m\u001b[0m\n\u001b[0;32m    423\u001b[0m         \u001b[1;32melse\u001b[0m\u001b[1;33m:\u001b[0m\u001b[1;33m\u001b[0m\u001b[1;33m\u001b[0m\u001b[0m\n",
      "\u001b[1;32m~\\anaconda3\\lib\\site-packages\\sklearn\\utils\\validation.py\u001b[0m in \u001b[0;36minner_f\u001b[1;34m(*args, **kwargs)\u001b[0m\n\u001b[0;32m     61\u001b[0m             \u001b[0mextra_args\u001b[0m \u001b[1;33m=\u001b[0m \u001b[0mlen\u001b[0m\u001b[1;33m(\u001b[0m\u001b[0margs\u001b[0m\u001b[1;33m)\u001b[0m \u001b[1;33m-\u001b[0m \u001b[0mlen\u001b[0m\u001b[1;33m(\u001b[0m\u001b[0mall_args\u001b[0m\u001b[1;33m)\u001b[0m\u001b[1;33m\u001b[0m\u001b[1;33m\u001b[0m\u001b[0m\n\u001b[0;32m     62\u001b[0m             \u001b[1;32mif\u001b[0m \u001b[0mextra_args\u001b[0m \u001b[1;33m<=\u001b[0m \u001b[1;36m0\u001b[0m\u001b[1;33m:\u001b[0m\u001b[1;33m\u001b[0m\u001b[1;33m\u001b[0m\u001b[0m\n\u001b[1;32m---> 63\u001b[1;33m                 \u001b[1;32mreturn\u001b[0m \u001b[0mf\u001b[0m\u001b[1;33m(\u001b[0m\u001b[1;33m*\u001b[0m\u001b[0margs\u001b[0m\u001b[1;33m,\u001b[0m \u001b[1;33m**\u001b[0m\u001b[0mkwargs\u001b[0m\u001b[1;33m)\u001b[0m\u001b[1;33m\u001b[0m\u001b[1;33m\u001b[0m\u001b[0m\n\u001b[0m\u001b[0;32m     64\u001b[0m \u001b[1;33m\u001b[0m\u001b[0m\n\u001b[0;32m     65\u001b[0m             \u001b[1;31m# extra_args > 0\u001b[0m\u001b[1;33m\u001b[0m\u001b[1;33m\u001b[0m\u001b[1;33m\u001b[0m\u001b[0m\n",
      "\u001b[1;32m~\\anaconda3\\lib\\site-packages\\sklearn\\utils\\validation.py\u001b[0m in \u001b[0;36mcheck_array\u001b[1;34m(array, accept_sparse, accept_large_sparse, dtype, order, copy, force_all_finite, ensure_2d, allow_nd, ensure_min_samples, ensure_min_features, estimator)\u001b[0m\n\u001b[0;32m    724\u001b[0m         \u001b[0mn_samples\u001b[0m \u001b[1;33m=\u001b[0m \u001b[0m_num_samples\u001b[0m\u001b[1;33m(\u001b[0m\u001b[0marray\u001b[0m\u001b[1;33m)\u001b[0m\u001b[1;33m\u001b[0m\u001b[1;33m\u001b[0m\u001b[0m\n\u001b[0;32m    725\u001b[0m         \u001b[1;32mif\u001b[0m \u001b[0mn_samples\u001b[0m \u001b[1;33m<\u001b[0m \u001b[0mensure_min_samples\u001b[0m\u001b[1;33m:\u001b[0m\u001b[1;33m\u001b[0m\u001b[1;33m\u001b[0m\u001b[0m\n\u001b[1;32m--> 726\u001b[1;33m             raise ValueError(\"Found array with %d sample(s) (shape=%s) while a\"\n\u001b[0m\u001b[0;32m    727\u001b[0m                              \u001b[1;34m\" minimum of %d is required%s.\"\u001b[0m\u001b[1;33m\u001b[0m\u001b[1;33m\u001b[0m\u001b[0m\n\u001b[0;32m    728\u001b[0m                              % (n_samples, array.shape, ensure_min_samples,\n",
      "\u001b[1;31mValueError\u001b[0m: Found array with 0 sample(s) (shape=(0, 1000)) while a minimum of 1 is required."
     ]
    }
   ],
   "source": [
    "test_pred = rf_model.predict(test_bow)\n",
    "test['label'] = test_pred\n",
    "submission = test[['id','label']]\n",
    "submission.to_csv('submission_rf_bow.csv', index=False)"
   ]
  },
  {
   "cell_type": "markdown",
   "id": "5ba63789",
   "metadata": {},
   "source": [
    "#### TF-IDF Features"
   ]
  },
  {
   "cell_type": "code",
   "execution_count": 151,
   "id": "6f87f191",
   "metadata": {},
   "outputs": [
    {
     "data": {
      "text/plain": [
       "0.5303326810176126"
      ]
     },
     "execution_count": 151,
     "metadata": {},
     "output_type": "execute_result"
    }
   ],
   "source": [
    "rf = randomForest.fit(xtrain_tfidf, ytrain)\n",
    "prediction = rf.predict(xvalid_tfidf)\n",
    "f1_score(yvalid, prediction)"
   ]
  },
  {
   "cell_type": "markdown",
   "id": "d8e7678b",
   "metadata": {},
   "source": [
    "#### Word2Vec Features"
   ]
  },
  {
   "cell_type": "code",
   "execution_count": null,
   "id": "4e2512fb",
   "metadata": {},
   "outputs": [],
   "source": [
    "rf = randomForest.fit(xtrain_w2v, ytrain)\n",
    "prediction = rf.predict(xvalid_w2v)\n",
    "f1_score(yvalid, prediction)"
   ]
  },
  {
   "cell_type": "markdown",
   "id": "c4492e95",
   "metadata": {},
   "source": [
    "#### Doc2Vec Features "
   ]
  },
  {
   "cell_type": "code",
   "execution_count": null,
   "id": "0868e7af",
   "metadata": {},
   "outputs": [],
   "source": [
    "rf = randomForest.fit(xtrain_d2v, ytrain)\n",
    "prediction = rf.predict(xvalid_d2v)\n",
    "f1_score(yvalid, prediction)"
   ]
  },
  {
   "cell_type": "markdown",
   "id": "2b56831d",
   "metadata": {},
   "source": [
    "### 4. XGBoost"
   ]
  },
  {
   "cell_type": "code",
   "execution_count": 53,
   "id": "0ecdbc2b",
   "metadata": {},
   "outputs": [
    {
     "ename": "ModuleNotFoundError",
     "evalue": "No module named 'xgboost'",
     "output_type": "error",
     "traceback": [
      "\u001b[1;31m---------------------------------------------------------------------------\u001b[0m",
      "\u001b[1;31mModuleNotFoundError\u001b[0m                       Traceback (most recent call last)",
      "\u001b[1;32m<ipython-input-53-477fa34615c5>\u001b[0m in \u001b[0;36m<module>\u001b[1;34m\u001b[0m\n\u001b[1;32m----> 1\u001b[1;33m \u001b[1;32mfrom\u001b[0m \u001b[0mxgboost\u001b[0m \u001b[1;32mimport\u001b[0m \u001b[0mXGBClassifier\u001b[0m\u001b[1;33m\u001b[0m\u001b[1;33m\u001b[0m\u001b[0m\n\u001b[0m",
      "\u001b[1;31mModuleNotFoundError\u001b[0m: No module named 'xgboost'"
     ]
    }
   ],
   "source": [
    "from xgboost import XGBClassifier"
   ]
  },
  {
   "cell_type": "markdown",
   "id": "dd01464d",
   "metadata": {},
   "source": [
    "#### Bag-Of-Words Features"
   ]
  },
  {
   "cell_type": "code",
   "execution_count": 6,
   "id": "6f4441f2",
   "metadata": {},
   "outputs": [
    {
     "ename": "NameError",
     "evalue": "name 'XGBClassifier' is not defined",
     "output_type": "error",
     "traceback": [
      "\u001b[1;31m---------------------------------------------------------------------------\u001b[0m",
      "\u001b[1;31mNameError\u001b[0m                                 Traceback (most recent call last)",
      "\u001b[1;32m~\\AppData\\Local\\Temp/ipykernel_18420/2618640108.py\u001b[0m in \u001b[0;36m<module>\u001b[1;34m\u001b[0m\n\u001b[1;32m----> 1\u001b[1;33m \u001b[0mxgb_model\u001b[0m \u001b[1;33m=\u001b[0m \u001b[0mXGBClassifier\u001b[0m\u001b[1;33m(\u001b[0m\u001b[0mmax_depth\u001b[0m\u001b[1;33m=\u001b[0m\u001b[1;36m6\u001b[0m\u001b[1;33m,\u001b[0m \u001b[0mn_estimators\u001b[0m\u001b[1;33m=\u001b[0m\u001b[1;36m1000\u001b[0m\u001b[1;33m)\u001b[0m\u001b[1;33m.\u001b[0m\u001b[0mfit\u001b[0m\u001b[1;33m(\u001b[0m\u001b[0mxtrain_bow\u001b[0m\u001b[1;33m,\u001b[0m \u001b[0mytrain\u001b[0m\u001b[1;33m)\u001b[0m\u001b[1;33m\u001b[0m\u001b[1;33m\u001b[0m\u001b[0m\n\u001b[0m\u001b[0;32m      2\u001b[0m \u001b[0mprediction\u001b[0m \u001b[1;33m=\u001b[0m \u001b[0mxgb_model\u001b[0m\u001b[1;33m.\u001b[0m\u001b[0mpredict\u001b[0m\u001b[1;33m(\u001b[0m\u001b[0mxvalid_bow\u001b[0m\u001b[1;33m)\u001b[0m\u001b[1;33m\u001b[0m\u001b[1;33m\u001b[0m\u001b[0m\n\u001b[0;32m      3\u001b[0m \u001b[0mf1_score\u001b[0m\u001b[1;33m(\u001b[0m\u001b[0myvalid\u001b[0m\u001b[1;33m,\u001b[0m \u001b[0mprediction\u001b[0m\u001b[1;33m)\u001b[0m\u001b[1;33m\u001b[0m\u001b[1;33m\u001b[0m\u001b[0m\n",
      "\u001b[1;31mNameError\u001b[0m: name 'XGBClassifier' is not defined"
     ]
    }
   ],
   "source": [
    "xgb_model = XGBClassifier(max_depth=6, n_estimators=1000).fit(xtrain_bow, ytrain)\n",
    "prediction = xgb_model.predict(xvalid_bow)\n",
    "f1_score(yvalid, prediction)"
   ]
  },
  {
   "cell_type": "markdown",
   "id": "756357b8",
   "metadata": {},
   "source": [
    "Let us create a prediction submission file."
   ]
  },
  {
   "cell_type": "code",
   "execution_count": null,
   "id": "beaa729f",
   "metadata": {},
   "outputs": [],
   "source": [
    "test_pred = xgb_model.predict(test_bow)\n",
    "test['label'] = test_pred\n",
    "submission = test[['id','label']]\n",
    "submission.to_csv('submission_xgb_bow.csv', index=False)"
   ]
  },
  {
   "cell_type": "markdown",
   "id": "af74273c",
   "metadata": {},
   "source": [
    "#### TF-IDF Features"
   ]
  },
  {
   "cell_type": "code",
   "execution_count": null,
   "id": "5db44ffc",
   "metadata": {},
   "outputs": [],
   "source": [
    "xgb = XGBClassifier(max_depth=6, n_estimators=1000).fit(xtrain_tfidf, ytrain)\n",
    "prediction = xgb.predict(xvalid_tfidf)\n",
    "f1_score(yvalid, prediction)"
   ]
  },
  {
   "cell_type": "markdown",
   "id": "88d755f8",
   "metadata": {},
   "source": [
    "#### Word2Vec Features"
   ]
  },
  {
   "cell_type": "code",
   "execution_count": null,
   "id": "0e1d5c07",
   "metadata": {},
   "outputs": [],
   "source": [
    "xgb = XGBClassifier(max_depth=6, n_estimators=1000, nthread= 3).fit(xtrain_w2v, ytrain)\n",
    "prediction = xgb.predict(xvalid_w2v)\n",
    "f1_score(yvalid, prediction)"
   ]
  },
  {
   "cell_type": "markdown",
   "id": "05b8f7a3",
   "metadata": {},
   "source": [
    "#### Doc2Vec Features "
   ]
  },
  {
   "cell_type": "code",
   "execution_count": null,
   "id": "3615187c",
   "metadata": {},
   "outputs": [],
   "source": [
    "xgb = XGBClassifier(max_depth=6, n_estimators=1000, nthread= 3).fit(xtrain_d2v, ytrain)\n",
    "prediction = xgb.predict(xvalid_d2v)\n",
    "f1_score(yvalid, prediction)"
   ]
  }
 ],
 "metadata": {
  "kernelspec": {
   "display_name": "Python 3",
   "language": "python",
   "name": "python3"
  },
  "language_info": {
   "codemirror_mode": {
    "name": "ipython",
    "version": 3
   },
   "file_extension": ".py",
   "mimetype": "text/x-python",
   "name": "python",
   "nbconvert_exporter": "python",
   "pygments_lexer": "ipython3",
   "version": "3.8.8"
  }
 },
 "nbformat": 4,
 "nbformat_minor": 5
}
